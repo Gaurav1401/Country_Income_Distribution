{
 "cells": [
  {
   "cell_type": "code",
   "execution_count": 1,
   "id": "45b0d46f",
   "metadata": {
    "_cell_guid": "b1076dfc-b9ad-4769-8c92-a6c4dae69d19",
    "_uuid": "8f2839f25d086af736a60e9eeb907d3b93b6e0e5",
    "execution": {
     "iopub.execute_input": "2021-11-20T16:03:45.180081Z",
     "iopub.status.busy": "2021-11-20T16:03:45.179452Z",
     "iopub.status.idle": "2021-11-20T16:03:45.192274Z",
     "shell.execute_reply": "2021-11-20T16:03:45.192821Z",
     "shell.execute_reply.started": "2021-11-20T16:00:00.840867Z"
    },
    "papermill": {
     "duration": 0.152235,
     "end_time": "2021-11-20T16:03:45.193083",
     "exception": false,
     "start_time": "2021-11-20T16:03:45.040848",
     "status": "completed"
    },
    "tags": []
   },
   "outputs": [
    {
     "name": "stdout",
     "output_type": "stream",
     "text": [
      "/kaggle/input/adult-income-dataset/adult.csv\n"
     ]
    }
   ],
   "source": [
    "# This Python 3 environment comes with many helpful analytics libraries installed\n",
    "# It is defined by the kaggle/python Docker image: https://github.com/kaggle/docker-python\n",
    "# For example, here's several helpful packages to load\n",
    "\n",
    "import numpy as np # linear algebra\n",
    "import pandas as pd # data processing, CSV file I/O (e.g. pd.read_csv)\n",
    "\n",
    "# Input data files are available in the read-only \"../input/\" directory\n",
    "# For example, running this (by clicking run or pressing Shift+Enter) will list all files under the input directory\n",
    "\n",
    "import os\n",
    "for dirname, _, filenames in os.walk('/kaggle/input'):\n",
    "    for filename in filenames:\n",
    "        print(os.path.join(dirname, filename))\n",
    "\n",
    "# You can write up to 20GB to the current directory (/kaggle/working/) that gets preserved as output when you create a version using \"Save & Run All\" \n",
    "# You can also write temporary files to /kaggle/temp/, but they won't be saved outside of the current session"
   ]
  },
  {
   "cell_type": "code",
   "execution_count": 2,
   "id": "4bd5f94d",
   "metadata": {
    "execution": {
     "iopub.execute_input": "2021-11-20T16:03:45.357891Z",
     "iopub.status.busy": "2021-11-20T16:03:45.357250Z",
     "iopub.status.idle": "2021-11-20T16:03:46.035884Z",
     "shell.execute_reply": "2021-11-20T16:03:46.034984Z",
     "shell.execute_reply.started": "2021-11-20T16:00:00.878799Z"
    },
    "papermill": {
     "duration": 0.761,
     "end_time": "2021-11-20T16:03:46.036028",
     "exception": false,
     "start_time": "2021-11-20T16:03:45.275028",
     "status": "completed"
    },
    "tags": []
   },
   "outputs": [],
   "source": [
    "import numpy as np\n",
    "import pandas as pd\n",
    "import seaborn as sns\n",
    "import matplotlib.pyplot as plt"
   ]
  },
  {
   "cell_type": "code",
   "execution_count": 3,
   "id": "d708c9f6",
   "metadata": {
    "execution": {
     "iopub.execute_input": "2021-11-20T16:03:46.198300Z",
     "iopub.status.busy": "2021-11-20T16:03:46.197613Z",
     "iopub.status.idle": "2021-11-20T16:03:49.538985Z",
     "shell.execute_reply": "2021-11-20T16:03:49.538466Z",
     "shell.execute_reply.started": "2021-11-20T16:00:01.503356Z"
    },
    "papermill": {
     "duration": 3.424239,
     "end_time": "2021-11-20T16:03:49.539124",
     "exception": false,
     "start_time": "2021-11-20T16:03:46.114885",
     "status": "completed"
    },
    "tags": []
   },
   "outputs": [],
   "source": [
    "import plotly.figure_factory as ff\n",
    "import plotly.express as px\n",
    "import plotly.graph_objects as go"
   ]
  },
  {
   "cell_type": "code",
   "execution_count": 4,
   "id": "426b8dd2",
   "metadata": {
    "execution": {
     "iopub.execute_input": "2021-11-20T16:03:49.706242Z",
     "iopub.status.busy": "2021-11-20T16:03:49.705638Z",
     "iopub.status.idle": "2021-11-20T16:03:49.845911Z",
     "shell.execute_reply": "2021-11-20T16:03:49.845352Z",
     "shell.execute_reply.started": "2021-11-20T16:00:04.750216Z"
    },
    "papermill": {
     "duration": 0.224856,
     "end_time": "2021-11-20T16:03:49.846045",
     "exception": false,
     "start_time": "2021-11-20T16:03:49.621189",
     "status": "completed"
    },
    "tags": []
   },
   "outputs": [],
   "source": [
    "df = pd.read_csv(\"../input/adult-income-dataset/adult.csv\")"
   ]
  },
  {
   "cell_type": "code",
   "execution_count": 5,
   "id": "e27ec145",
   "metadata": {
    "execution": {
     "iopub.execute_input": "2021-11-20T16:03:50.018026Z",
     "iopub.status.busy": "2021-11-20T16:03:50.017276Z",
     "iopub.status.idle": "2021-11-20T16:03:50.034470Z",
     "shell.execute_reply": "2021-11-20T16:03:50.034877Z",
     "shell.execute_reply.started": "2021-11-20T16:00:04.900793Z"
    },
    "papermill": {
     "duration": 0.106772,
     "end_time": "2021-11-20T16:03:50.035018",
     "exception": false,
     "start_time": "2021-11-20T16:03:49.928246",
     "status": "completed"
    },
    "tags": []
   },
   "outputs": [
    {
     "data": {
      "text/html": [
       "<div>\n",
       "<style scoped>\n",
       "    .dataframe tbody tr th:only-of-type {\n",
       "        vertical-align: middle;\n",
       "    }\n",
       "\n",
       "    .dataframe tbody tr th {\n",
       "        vertical-align: top;\n",
       "    }\n",
       "\n",
       "    .dataframe thead th {\n",
       "        text-align: right;\n",
       "    }\n",
       "</style>\n",
       "<table border=\"1\" class=\"dataframe\">\n",
       "  <thead>\n",
       "    <tr style=\"text-align: right;\">\n",
       "      <th></th>\n",
       "      <th>age</th>\n",
       "      <th>workclass</th>\n",
       "      <th>fnlwgt</th>\n",
       "      <th>education</th>\n",
       "      <th>educational-num</th>\n",
       "      <th>marital-status</th>\n",
       "      <th>occupation</th>\n",
       "      <th>relationship</th>\n",
       "      <th>race</th>\n",
       "      <th>gender</th>\n",
       "      <th>capital-gain</th>\n",
       "      <th>capital-loss</th>\n",
       "      <th>hours-per-week</th>\n",
       "      <th>native-country</th>\n",
       "      <th>income</th>\n",
       "    </tr>\n",
       "  </thead>\n",
       "  <tbody>\n",
       "    <tr>\n",
       "      <th>0</th>\n",
       "      <td>25</td>\n",
       "      <td>Private</td>\n",
       "      <td>226802</td>\n",
       "      <td>11th</td>\n",
       "      <td>7</td>\n",
       "      <td>Never-married</td>\n",
       "      <td>Machine-op-inspct</td>\n",
       "      <td>Own-child</td>\n",
       "      <td>Black</td>\n",
       "      <td>Male</td>\n",
       "      <td>0</td>\n",
       "      <td>0</td>\n",
       "      <td>40</td>\n",
       "      <td>United-States</td>\n",
       "      <td>&lt;=50K</td>\n",
       "    </tr>\n",
       "    <tr>\n",
       "      <th>1</th>\n",
       "      <td>38</td>\n",
       "      <td>Private</td>\n",
       "      <td>89814</td>\n",
       "      <td>HS-grad</td>\n",
       "      <td>9</td>\n",
       "      <td>Married-civ-spouse</td>\n",
       "      <td>Farming-fishing</td>\n",
       "      <td>Husband</td>\n",
       "      <td>White</td>\n",
       "      <td>Male</td>\n",
       "      <td>0</td>\n",
       "      <td>0</td>\n",
       "      <td>50</td>\n",
       "      <td>United-States</td>\n",
       "      <td>&lt;=50K</td>\n",
       "    </tr>\n",
       "    <tr>\n",
       "      <th>2</th>\n",
       "      <td>28</td>\n",
       "      <td>Local-gov</td>\n",
       "      <td>336951</td>\n",
       "      <td>Assoc-acdm</td>\n",
       "      <td>12</td>\n",
       "      <td>Married-civ-spouse</td>\n",
       "      <td>Protective-serv</td>\n",
       "      <td>Husband</td>\n",
       "      <td>White</td>\n",
       "      <td>Male</td>\n",
       "      <td>0</td>\n",
       "      <td>0</td>\n",
       "      <td>40</td>\n",
       "      <td>United-States</td>\n",
       "      <td>&gt;50K</td>\n",
       "    </tr>\n",
       "    <tr>\n",
       "      <th>3</th>\n",
       "      <td>44</td>\n",
       "      <td>Private</td>\n",
       "      <td>160323</td>\n",
       "      <td>Some-college</td>\n",
       "      <td>10</td>\n",
       "      <td>Married-civ-spouse</td>\n",
       "      <td>Machine-op-inspct</td>\n",
       "      <td>Husband</td>\n",
       "      <td>Black</td>\n",
       "      <td>Male</td>\n",
       "      <td>7688</td>\n",
       "      <td>0</td>\n",
       "      <td>40</td>\n",
       "      <td>United-States</td>\n",
       "      <td>&gt;50K</td>\n",
       "    </tr>\n",
       "    <tr>\n",
       "      <th>4</th>\n",
       "      <td>18</td>\n",
       "      <td>?</td>\n",
       "      <td>103497</td>\n",
       "      <td>Some-college</td>\n",
       "      <td>10</td>\n",
       "      <td>Never-married</td>\n",
       "      <td>?</td>\n",
       "      <td>Own-child</td>\n",
       "      <td>White</td>\n",
       "      <td>Female</td>\n",
       "      <td>0</td>\n",
       "      <td>0</td>\n",
       "      <td>30</td>\n",
       "      <td>United-States</td>\n",
       "      <td>&lt;=50K</td>\n",
       "    </tr>\n",
       "  </tbody>\n",
       "</table>\n",
       "</div>"
      ],
      "text/plain": [
       "   age  workclass  fnlwgt     education  educational-num      marital-status  \\\n",
       "0   25    Private  226802          11th                7       Never-married   \n",
       "1   38    Private   89814       HS-grad                9  Married-civ-spouse   \n",
       "2   28  Local-gov  336951    Assoc-acdm               12  Married-civ-spouse   \n",
       "3   44    Private  160323  Some-college               10  Married-civ-spouse   \n",
       "4   18          ?  103497  Some-college               10       Never-married   \n",
       "\n",
       "          occupation relationship   race  gender  capital-gain  capital-loss  \\\n",
       "0  Machine-op-inspct    Own-child  Black    Male             0             0   \n",
       "1    Farming-fishing      Husband  White    Male             0             0   \n",
       "2    Protective-serv      Husband  White    Male             0             0   \n",
       "3  Machine-op-inspct      Husband  Black    Male          7688             0   \n",
       "4                  ?    Own-child  White  Female             0             0   \n",
       "\n",
       "   hours-per-week native-country income  \n",
       "0              40  United-States  <=50K  \n",
       "1              50  United-States  <=50K  \n",
       "2              40  United-States   >50K  \n",
       "3              40  United-States   >50K  \n",
       "4              30  United-States  <=50K  "
      ]
     },
     "execution_count": 5,
     "metadata": {},
     "output_type": "execute_result"
    }
   ],
   "source": [
    "df.head()"
   ]
  },
  {
   "cell_type": "code",
   "execution_count": 6,
   "id": "b7707106",
   "metadata": {
    "execution": {
     "iopub.execute_input": "2021-11-20T16:03:50.238680Z",
     "iopub.status.busy": "2021-11-20T16:03:50.237847Z",
     "iopub.status.idle": "2021-11-20T16:03:50.245100Z",
     "shell.execute_reply": "2021-11-20T16:03:50.245628Z",
     "shell.execute_reply.started": "2021-11-20T16:00:04.925847Z"
    },
    "papermill": {
     "duration": 0.131788,
     "end_time": "2021-11-20T16:03:50.245886",
     "exception": false,
     "start_time": "2021-11-20T16:03:50.114098",
     "status": "completed"
    },
    "tags": []
   },
   "outputs": [
    {
     "data": {
      "text/plain": [
       "age                0\n",
       "workclass          0\n",
       "fnlwgt             0\n",
       "education          0\n",
       "educational-num    0\n",
       "marital-status     0\n",
       "occupation         0\n",
       "relationship       0\n",
       "race               0\n",
       "gender             0\n",
       "capital-gain       0\n",
       "capital-loss       0\n",
       "hours-per-week     0\n",
       "native-country     0\n",
       "income             0\n",
       "dtype: int64"
      ]
     },
     "execution_count": 6,
     "metadata": {},
     "output_type": "execute_result"
    }
   ],
   "source": [
    "df.isna().sum()"
   ]
  },
  {
   "cell_type": "code",
   "execution_count": 7,
   "id": "bc902473",
   "metadata": {
    "execution": {
     "iopub.execute_input": "2021-11-20T16:03:50.411874Z",
     "iopub.status.busy": "2021-11-20T16:03:50.411217Z",
     "iopub.status.idle": "2021-11-20T16:03:50.413803Z",
     "shell.execute_reply": "2021-11-20T16:03:50.414333Z",
     "shell.execute_reply.started": "2021-11-20T16:00:04.977955Z"
    },
    "papermill": {
     "duration": 0.087777,
     "end_time": "2021-11-20T16:03:50.414472",
     "exception": false,
     "start_time": "2021-11-20T16:03:50.326695",
     "status": "completed"
    },
    "tags": []
   },
   "outputs": [
    {
     "data": {
      "text/plain": [
       "(48842, 15)"
      ]
     },
     "execution_count": 7,
     "metadata": {},
     "output_type": "execute_result"
    }
   ],
   "source": [
    "df.shape"
   ]
  },
  {
   "cell_type": "code",
   "execution_count": 8,
   "id": "341f5855",
   "metadata": {
    "execution": {
     "iopub.execute_input": "2021-11-20T16:03:50.583067Z",
     "iopub.status.busy": "2021-11-20T16:03:50.582364Z",
     "iopub.status.idle": "2021-11-20T16:03:50.639564Z",
     "shell.execute_reply": "2021-11-20T16:03:50.640177Z",
     "shell.execute_reply.started": "2021-11-20T16:00:04.985532Z"
    },
    "papermill": {
     "duration": 0.145164,
     "end_time": "2021-11-20T16:03:50.640365",
     "exception": false,
     "start_time": "2021-11-20T16:03:50.495201",
     "status": "completed"
    },
    "tags": []
   },
   "outputs": [
    {
     "name": "stdout",
     "output_type": "stream",
     "text": [
      "<class 'pandas.core.frame.DataFrame'>\n",
      "RangeIndex: 48842 entries, 0 to 48841\n",
      "Data columns (total 15 columns):\n",
      " #   Column           Non-Null Count  Dtype \n",
      "---  ------           --------------  ----- \n",
      " 0   age              48842 non-null  int64 \n",
      " 1   workclass        48842 non-null  object\n",
      " 2   fnlwgt           48842 non-null  int64 \n",
      " 3   education        48842 non-null  object\n",
      " 4   educational-num  48842 non-null  int64 \n",
      " 5   marital-status   48842 non-null  object\n",
      " 6   occupation       48842 non-null  object\n",
      " 7   relationship     48842 non-null  object\n",
      " 8   race             48842 non-null  object\n",
      " 9   gender           48842 non-null  object\n",
      " 10  capital-gain     48842 non-null  int64 \n",
      " 11  capital-loss     48842 non-null  int64 \n",
      " 12  hours-per-week   48842 non-null  int64 \n",
      " 13  native-country   48842 non-null  object\n",
      " 14  income           48842 non-null  object\n",
      "dtypes: int64(6), object(9)\n",
      "memory usage: 5.6+ MB\n"
     ]
    }
   ],
   "source": [
    "df.info()"
   ]
  },
  {
   "cell_type": "code",
   "execution_count": 9,
   "id": "3f82c372",
   "metadata": {
    "execution": {
     "iopub.execute_input": "2021-11-20T16:03:50.817398Z",
     "iopub.status.busy": "2021-11-20T16:03:50.816822Z",
     "iopub.status.idle": "2021-11-20T16:03:50.844400Z",
     "shell.execute_reply": "2021-11-20T16:03:50.843942Z",
     "shell.execute_reply.started": "2021-11-20T16:00:05.065138Z"
    },
    "papermill": {
     "duration": 0.119444,
     "end_time": "2021-11-20T16:03:50.844521",
     "exception": false,
     "start_time": "2021-11-20T16:03:50.725077",
     "status": "completed"
    },
    "tags": []
   },
   "outputs": [],
   "source": [
    "df = df[df[\"workclass\"] != \"?\"] \n",
    "df = df[df[\"occupation\"] != \"?\"] \n",
    "df = df[df[\"native-country\"] != \"?\"]"
   ]
  },
  {
   "cell_type": "code",
   "execution_count": 10,
   "id": "b5d47ca3",
   "metadata": {
    "execution": {
     "iopub.execute_input": "2021-11-20T16:03:51.013195Z",
     "iopub.status.busy": "2021-11-20T16:03:51.012581Z",
     "iopub.status.idle": "2021-11-20T16:03:51.015203Z",
     "shell.execute_reply": "2021-11-20T16:03:51.015621Z",
     "shell.execute_reply.started": "2021-11-20T16:00:05.134445Z"
    },
    "papermill": {
     "duration": 0.08879,
     "end_time": "2021-11-20T16:03:51.015749",
     "exception": false,
     "start_time": "2021-11-20T16:03:50.926959",
     "status": "completed"
    },
    "tags": []
   },
   "outputs": [
    {
     "data": {
      "text/plain": [
       "(45222, 15)"
      ]
     },
     "execution_count": 10,
     "metadata": {},
     "output_type": "execute_result"
    }
   ],
   "source": [
    "df.shape"
   ]
  },
  {
   "cell_type": "code",
   "execution_count": 11,
   "id": "9f633d34",
   "metadata": {
    "execution": {
     "iopub.execute_input": "2021-11-20T16:03:51.191015Z",
     "iopub.status.busy": "2021-11-20T16:03:51.190328Z",
     "iopub.status.idle": "2021-11-20T16:03:51.193173Z",
     "shell.execute_reply": "2021-11-20T16:03:51.193609Z",
     "shell.execute_reply.started": "2021-11-20T16:00:05.144186Z"
    },
    "papermill": {
     "duration": 0.09715,
     "end_time": "2021-11-20T16:03:51.193732",
     "exception": false,
     "start_time": "2021-11-20T16:03:51.096582",
     "status": "completed"
    },
    "tags": []
   },
   "outputs": [
    {
     "data": {
      "text/html": [
       "<div>\n",
       "<style scoped>\n",
       "    .dataframe tbody tr th:only-of-type {\n",
       "        vertical-align: middle;\n",
       "    }\n",
       "\n",
       "    .dataframe tbody tr th {\n",
       "        vertical-align: top;\n",
       "    }\n",
       "\n",
       "    .dataframe thead th {\n",
       "        text-align: right;\n",
       "    }\n",
       "</style>\n",
       "<table border=\"1\" class=\"dataframe\">\n",
       "  <thead>\n",
       "    <tr style=\"text-align: right;\">\n",
       "      <th></th>\n",
       "      <th>age</th>\n",
       "      <th>workclass</th>\n",
       "      <th>fnlwgt</th>\n",
       "      <th>education</th>\n",
       "      <th>educational-num</th>\n",
       "      <th>marital-status</th>\n",
       "      <th>occupation</th>\n",
       "      <th>relationship</th>\n",
       "      <th>race</th>\n",
       "      <th>gender</th>\n",
       "      <th>capital-gain</th>\n",
       "      <th>capital-loss</th>\n",
       "      <th>hours-per-week</th>\n",
       "      <th>native-country</th>\n",
       "      <th>income</th>\n",
       "    </tr>\n",
       "  </thead>\n",
       "  <tbody>\n",
       "    <tr>\n",
       "      <th>0</th>\n",
       "      <td>25</td>\n",
       "      <td>Private</td>\n",
       "      <td>226802</td>\n",
       "      <td>11th</td>\n",
       "      <td>7</td>\n",
       "      <td>Never-married</td>\n",
       "      <td>Machine-op-inspct</td>\n",
       "      <td>Own-child</td>\n",
       "      <td>Black</td>\n",
       "      <td>Male</td>\n",
       "      <td>0</td>\n",
       "      <td>0</td>\n",
       "      <td>40</td>\n",
       "      <td>United-States</td>\n",
       "      <td>&lt;=50K</td>\n",
       "    </tr>\n",
       "    <tr>\n",
       "      <th>1</th>\n",
       "      <td>38</td>\n",
       "      <td>Private</td>\n",
       "      <td>89814</td>\n",
       "      <td>HS-grad</td>\n",
       "      <td>9</td>\n",
       "      <td>Married-civ-spouse</td>\n",
       "      <td>Farming-fishing</td>\n",
       "      <td>Husband</td>\n",
       "      <td>White</td>\n",
       "      <td>Male</td>\n",
       "      <td>0</td>\n",
       "      <td>0</td>\n",
       "      <td>50</td>\n",
       "      <td>United-States</td>\n",
       "      <td>&lt;=50K</td>\n",
       "    </tr>\n",
       "    <tr>\n",
       "      <th>2</th>\n",
       "      <td>28</td>\n",
       "      <td>Local-gov</td>\n",
       "      <td>336951</td>\n",
       "      <td>Assoc-acdm</td>\n",
       "      <td>12</td>\n",
       "      <td>Married-civ-spouse</td>\n",
       "      <td>Protective-serv</td>\n",
       "      <td>Husband</td>\n",
       "      <td>White</td>\n",
       "      <td>Male</td>\n",
       "      <td>0</td>\n",
       "      <td>0</td>\n",
       "      <td>40</td>\n",
       "      <td>United-States</td>\n",
       "      <td>&gt;50K</td>\n",
       "    </tr>\n",
       "    <tr>\n",
       "      <th>3</th>\n",
       "      <td>44</td>\n",
       "      <td>Private</td>\n",
       "      <td>160323</td>\n",
       "      <td>Some-college</td>\n",
       "      <td>10</td>\n",
       "      <td>Married-civ-spouse</td>\n",
       "      <td>Machine-op-inspct</td>\n",
       "      <td>Husband</td>\n",
       "      <td>Black</td>\n",
       "      <td>Male</td>\n",
       "      <td>7688</td>\n",
       "      <td>0</td>\n",
       "      <td>40</td>\n",
       "      <td>United-States</td>\n",
       "      <td>&gt;50K</td>\n",
       "    </tr>\n",
       "    <tr>\n",
       "      <th>5</th>\n",
       "      <td>34</td>\n",
       "      <td>Private</td>\n",
       "      <td>198693</td>\n",
       "      <td>10th</td>\n",
       "      <td>6</td>\n",
       "      <td>Never-married</td>\n",
       "      <td>Other-service</td>\n",
       "      <td>Not-in-family</td>\n",
       "      <td>White</td>\n",
       "      <td>Male</td>\n",
       "      <td>0</td>\n",
       "      <td>0</td>\n",
       "      <td>30</td>\n",
       "      <td>United-States</td>\n",
       "      <td>&lt;=50K</td>\n",
       "    </tr>\n",
       "  </tbody>\n",
       "</table>\n",
       "</div>"
      ],
      "text/plain": [
       "   age  workclass  fnlwgt     education  educational-num      marital-status  \\\n",
       "0   25    Private  226802          11th                7       Never-married   \n",
       "1   38    Private   89814       HS-grad                9  Married-civ-spouse   \n",
       "2   28  Local-gov  336951    Assoc-acdm               12  Married-civ-spouse   \n",
       "3   44    Private  160323  Some-college               10  Married-civ-spouse   \n",
       "5   34    Private  198693          10th                6       Never-married   \n",
       "\n",
       "          occupation   relationship   race gender  capital-gain  capital-loss  \\\n",
       "0  Machine-op-inspct      Own-child  Black   Male             0             0   \n",
       "1    Farming-fishing        Husband  White   Male             0             0   \n",
       "2    Protective-serv        Husband  White   Male             0             0   \n",
       "3  Machine-op-inspct        Husband  Black   Male          7688             0   \n",
       "5      Other-service  Not-in-family  White   Male             0             0   \n",
       "\n",
       "   hours-per-week native-country income  \n",
       "0              40  United-States  <=50K  \n",
       "1              50  United-States  <=50K  \n",
       "2              40  United-States   >50K  \n",
       "3              40  United-States   >50K  \n",
       "5              30  United-States  <=50K  "
      ]
     },
     "execution_count": 11,
     "metadata": {},
     "output_type": "execute_result"
    }
   ],
   "source": [
    "df.head()"
   ]
  },
  {
   "cell_type": "code",
   "execution_count": 12,
   "id": "d882f14d",
   "metadata": {
    "execution": {
     "iopub.execute_input": "2021-11-20T16:03:51.368017Z",
     "iopub.status.busy": "2021-11-20T16:03:51.367348Z",
     "iopub.status.idle": "2021-11-20T16:03:51.583447Z",
     "shell.execute_reply": "2021-11-20T16:03:51.582913Z",
     "shell.execute_reply.started": "2021-11-20T16:00:05.168568Z"
    },
    "papermill": {
     "duration": 0.308693,
     "end_time": "2021-11-20T16:03:51.583573",
     "exception": false,
     "start_time": "2021-11-20T16:03:51.274880",
     "status": "completed"
    },
    "tags": []
   },
   "outputs": [
    {
     "data": {
      "text/plain": [
       "<AxesSubplot:>"
      ]
     },
     "execution_count": 12,
     "metadata": {},
     "output_type": "execute_result"
    },
    {
     "data": {
      "image/png": "[encoded data removed]",
      "text/plain": [
       "<Figure size 432x288 with 1 Axes>"
      ]
     },
     "metadata": {
      "needs_background": "light"
     },
     "output_type": "display_data"
    }
   ],
   "source": [
    "df['income'].value_counts().plot(kind='bar')"
   ]
  },
  {
   "cell_type": "code",
   "execution_count": 13,
   "id": "79078d93",
   "metadata": {
    "execution": {
     "iopub.execute_input": "2021-11-20T16:03:51.761768Z",
     "iopub.status.busy": "2021-11-20T16:03:51.761145Z",
     "iopub.status.idle": "2021-11-20T16:03:51.763860Z",
     "shell.execute_reply": "2021-11-20T16:03:51.764309Z",
     "shell.execute_reply.started": "2021-11-20T16:00:05.457041Z"
    },
    "papermill": {
     "duration": 0.098189,
     "end_time": "2021-11-20T16:03:51.764448",
     "exception": false,
     "start_time": "2021-11-20T16:03:51.666259",
     "status": "completed"
    },
    "tags": []
   },
   "outputs": [
    {
     "data": {
      "text/plain": [
       "HS-grad         14783\n",
       "Some-college     9899\n",
       "Bachelors        7570\n",
       "Masters          2514\n",
       "Assoc-voc        1959\n",
       "11th             1619\n",
       "Assoc-acdm       1507\n",
       "10th             1223\n",
       "7th-8th           823\n",
       "Prof-school       785\n",
       "9th               676\n",
       "12th              577\n",
       "Doctorate         544\n",
       "5th-6th           449\n",
       "1st-4th           222\n",
       "Preschool          72\n",
       "Name: education, dtype: int64"
      ]
     },
     "execution_count": 13,
     "metadata": {},
     "output_type": "execute_result"
    }
   ],
   "source": [
    "df['education'].value_counts()"
   ]
  },
  {
   "cell_type": "markdown",
   "id": "fdcaab2c",
   "metadata": {
    "papermill": {
     "duration": 0.087063,
     "end_time": "2021-11-20T16:03:51.935294",
     "exception": false,
     "start_time": "2021-11-20T16:03:51.848231",
     "status": "completed"
    },
    "tags": []
   },
   "source": [
    "## Education"
   ]
  },
  {
   "cell_type": "code",
   "execution_count": 14,
   "id": "f33b13cb",
   "metadata": {
    "execution": {
     "iopub.execute_input": "2021-11-20T16:03:52.108772Z",
     "iopub.status.busy": "2021-11-20T16:03:52.108007Z",
     "iopub.status.idle": "2021-11-20T16:03:52.130664Z",
     "shell.execute_reply": "2021-11-20T16:03:52.130208Z",
     "shell.execute_reply.started": "2021-11-20T16:00:05.483295Z"
    },
    "papermill": {
     "duration": 0.11363,
     "end_time": "2021-11-20T16:03:52.130776",
     "exception": false,
     "start_time": "2021-11-20T16:03:52.017146",
     "status": "completed"
    },
    "tags": []
   },
   "outputs": [],
   "source": [
    "df['education'] = df['education'].replace(['9th','10th','11th','12th'], '9th-12th')\n",
    "df['education'] = df['education'].replace(['1st-4th','5th-6th', '7th-8th'], '1st-8th')"
   ]
  },
  {
   "cell_type": "code",
   "execution_count": 15,
   "id": "4d17c5da",
   "metadata": {
    "execution": {
     "iopub.execute_input": "2021-11-20T16:03:52.307951Z",
     "iopub.status.busy": "2021-11-20T16:03:52.307269Z",
     "iopub.status.idle": "2021-11-20T16:03:52.309978Z",
     "shell.execute_reply": "2021-11-20T16:03:52.310490Z",
     "shell.execute_reply.started": "2021-11-20T16:00:05.530844Z"
    },
    "papermill": {
     "duration": 0.098173,
     "end_time": "2021-11-20T16:03:52.310618",
     "exception": false,
     "start_time": "2021-11-20T16:03:52.212445",
     "status": "completed"
    },
    "tags": []
   },
   "outputs": [
    {
     "data": {
      "text/plain": [
       "HS-grad         14783\n",
       "Some-college     9899\n",
       "Bachelors        7570\n",
       "9th-12th         4095\n",
       "Masters          2514\n",
       "Assoc-voc        1959\n",
       "Assoc-acdm       1507\n",
       "1st-8th          1494\n",
       "Prof-school       785\n",
       "Doctorate         544\n",
       "Preschool          72\n",
       "Name: education, dtype: int64"
      ]
     },
     "execution_count": 15,
     "metadata": {},
     "output_type": "execute_result"
    }
   ],
   "source": [
    "df['education'].value_counts()"
   ]
  },
  {
   "cell_type": "markdown",
   "id": "d177ad3f",
   "metadata": {
    "papermill": {
     "duration": 0.082524,
     "end_time": "2021-11-20T16:03:52.480347",
     "exception": false,
     "start_time": "2021-11-20T16:03:52.397823",
     "status": "completed"
    },
    "tags": []
   },
   "source": [
    "## educational-num"
   ]
  },
  {
   "cell_type": "code",
   "execution_count": 16,
   "id": "b4fa8837",
   "metadata": {
    "execution": {
     "iopub.execute_input": "2021-11-20T16:03:52.651302Z",
     "iopub.status.busy": "2021-11-20T16:03:52.650449Z",
     "iopub.status.idle": "2021-11-20T16:03:52.657429Z",
     "shell.execute_reply": "2021-11-20T16:03:52.656961Z",
     "shell.execute_reply.started": "2021-11-20T16:00:05.554425Z"
    },
    "papermill": {
     "duration": 0.095666,
     "end_time": "2021-11-20T16:03:52.657540",
     "exception": false,
     "start_time": "2021-11-20T16:03:52.561874",
     "status": "completed"
    },
    "tags": []
   },
   "outputs": [],
   "source": [
    "df['educational-num'] = df['educational-num'].replace([2, 3, 4], 2)\n",
    "df['educational-num'] = df['educational-num'].replace([5, 6, 7, 8], 3)\n",
    "df['educational-num'] = df['educational-num'].replace([9, 10, 11, 12, 13, 14, 15, 16], [4, 5, 6, 7, 8, 9, 10, 11])"
   ]
  },
  {
   "cell_type": "markdown",
   "id": "1b09c0bc",
   "metadata": {
    "papermill": {
     "duration": 0.081829,
     "end_time": "2021-11-20T16:03:52.823549",
     "exception": false,
     "start_time": "2021-11-20T16:03:52.741720",
     "status": "completed"
    },
    "tags": []
   },
   "source": [
    "## Marital Status"
   ]
  },
  {
   "cell_type": "code",
   "execution_count": 17,
   "id": "05feb751",
   "metadata": {
    "execution": {
     "iopub.execute_input": "2021-11-20T16:03:52.998343Z",
     "iopub.status.busy": "2021-11-20T16:03:52.997719Z",
     "iopub.status.idle": "2021-11-20T16:03:53.004693Z",
     "shell.execute_reply": "2021-11-20T16:03:53.004228Z",
     "shell.execute_reply.started": "2021-11-20T16:00:05.574580Z"
    },
    "papermill": {
     "duration": 0.09866,
     "end_time": "2021-11-20T16:03:53.004802",
     "exception": false,
     "start_time": "2021-11-20T16:03:52.906142",
     "status": "completed"
    },
    "tags": []
   },
   "outputs": [
    {
     "data": {
      "text/plain": [
       "Married-civ-spouse       21055\n",
       "Never-married            14598\n",
       "Divorced                  6297\n",
       "Separated                 1411\n",
       "Widowed                   1277\n",
       "Married-spouse-absent      552\n",
       "Married-AF-spouse           32\n",
       "Name: marital-status, dtype: int64"
      ]
     },
     "execution_count": 17,
     "metadata": {},
     "output_type": "execute_result"
    }
   ],
   "source": [
    "df['marital-status'].value_counts()"
   ]
  },
  {
   "cell_type": "code",
   "execution_count": 18,
   "id": "411d98a3",
   "metadata": {
    "execution": {
     "iopub.execute_input": "2021-11-20T16:03:53.180034Z",
     "iopub.status.busy": "2021-11-20T16:03:53.179236Z",
     "iopub.status.idle": "2021-11-20T16:03:53.199050Z",
     "shell.execute_reply": "2021-11-20T16:03:53.198599Z",
     "shell.execute_reply.started": "2021-11-20T16:00:05.598038Z"
    },
    "papermill": {
     "duration": 0.111489,
     "end_time": "2021-11-20T16:03:53.199192",
     "exception": false,
     "start_time": "2021-11-20T16:03:53.087703",
     "status": "completed"
    },
    "tags": []
   },
   "outputs": [],
   "source": [
    "df['marital-status'] = df['marital-status'].replace(['Never-married', 'Widowed'], ['Unmarried', 'Separated'])\n",
    "df['marital-status'] = df['marital-status'].replace(['Married-civ-spouse', 'Married-AF-spouse'], 'Married')\n",
    "df['marital-status'] = df['marital-status'].replace('Married-spouse-absent', 'Separated')"
   ]
  },
  {
   "cell_type": "markdown",
   "id": "99a5c31f",
   "metadata": {
    "papermill": {
     "duration": 0.08177,
     "end_time": "2021-11-20T16:03:53.364010",
     "exception": false,
     "start_time": "2021-11-20T16:03:53.282240",
     "status": "completed"
    },
    "tags": []
   },
   "source": [
    "## Occupation"
   ]
  },
  {
   "cell_type": "code",
   "execution_count": 19,
   "id": "41730a7f",
   "metadata": {
    "execution": {
     "iopub.execute_input": "2021-11-20T16:03:53.539625Z",
     "iopub.status.busy": "2021-11-20T16:03:53.538910Z",
     "iopub.status.idle": "2021-11-20T16:03:53.541481Z",
     "shell.execute_reply": "2021-11-20T16:03:53.541959Z",
     "shell.execute_reply.started": "2021-11-20T16:00:05.640452Z"
    },
    "papermill": {
     "duration": 0.095508,
     "end_time": "2021-11-20T16:03:53.542082",
     "exception": false,
     "start_time": "2021-11-20T16:03:53.446574",
     "status": "completed"
    },
    "tags": []
   },
   "outputs": [
    {
     "data": {
      "text/plain": [
       "Craft-repair         6020\n",
       "Prof-specialty       6008\n",
       "Exec-managerial      5984\n",
       "Adm-clerical         5540\n",
       "Sales                5408\n",
       "Other-service        4808\n",
       "Machine-op-inspct    2970\n",
       "Transport-moving     2316\n",
       "Handlers-cleaners    2046\n",
       "Farming-fishing      1480\n",
       "Tech-support         1420\n",
       "Protective-serv       976\n",
       "Priv-house-serv       232\n",
       "Armed-Forces           14\n",
       "Name: occupation, dtype: int64"
      ]
     },
     "execution_count": 19,
     "metadata": {},
     "output_type": "execute_result"
    }
   ],
   "source": [
    "df['occupation'].value_counts()"
   ]
  },
  {
   "cell_type": "code",
   "execution_count": 20,
   "id": "177ff13c",
   "metadata": {
    "execution": {
     "iopub.execute_input": "2021-11-20T16:03:53.718931Z",
     "iopub.status.busy": "2021-11-20T16:03:53.718213Z",
     "iopub.status.idle": "2021-11-20T16:03:53.725755Z",
     "shell.execute_reply": "2021-11-20T16:03:53.725343Z",
     "shell.execute_reply.started": "2021-11-20T16:00:05.660522Z"
    },
    "papermill": {
     "duration": 0.100498,
     "end_time": "2021-11-20T16:03:53.725864",
     "exception": false,
     "start_time": "2021-11-20T16:03:53.625366",
     "status": "completed"
    },
    "tags": []
   },
   "outputs": [],
   "source": [
    "df['occupation'] = df['occupation'].replace(['Armed-Forces', 'Priv-house-serv', 'Protective-serv'], 'Other-service')"
   ]
  },
  {
   "cell_type": "code",
   "execution_count": 21,
   "id": "ec1d5406",
   "metadata": {
    "execution": {
     "iopub.execute_input": "2021-11-20T16:03:53.903473Z",
     "iopub.status.busy": "2021-11-20T16:03:53.902786Z",
     "iopub.status.idle": "2021-11-20T16:03:53.907074Z",
     "shell.execute_reply": "2021-11-20T16:03:53.906670Z",
     "shell.execute_reply.started": "2021-11-20T16:00:05.678643Z"
    },
    "papermill": {
     "duration": 0.097917,
     "end_time": "2021-11-20T16:03:53.907243",
     "exception": false,
     "start_time": "2021-11-20T16:03:53.809326",
     "status": "completed"
    },
    "tags": []
   },
   "outputs": [
    {
     "data": {
      "text/plain": [
       "Other-service        6030\n",
       "Craft-repair         6020\n",
       "Prof-specialty       6008\n",
       "Exec-managerial      5984\n",
       "Adm-clerical         5540\n",
       "Sales                5408\n",
       "Machine-op-inspct    2970\n",
       "Transport-moving     2316\n",
       "Handlers-cleaners    2046\n",
       "Farming-fishing      1480\n",
       "Tech-support         1420\n",
       "Name: occupation, dtype: int64"
      ]
     },
     "execution_count": 21,
     "metadata": {},
     "output_type": "execute_result"
    }
   ],
   "source": [
    "df['occupation'].value_counts()"
   ]
  },
  {
   "cell_type": "markdown",
   "id": "b5ec91da",
   "metadata": {
    "papermill": {
     "duration": 0.091221,
     "end_time": "2021-11-20T16:03:54.082627",
     "exception": false,
     "start_time": "2021-11-20T16:03:53.991406",
     "status": "completed"
    },
    "tags": []
   },
   "source": [
    "## Race"
   ]
  },
  {
   "cell_type": "code",
   "execution_count": 22,
   "id": "a1fcbab0",
   "metadata": {
    "execution": {
     "iopub.execute_input": "2021-11-20T16:03:54.288028Z",
     "iopub.status.busy": "2021-11-20T16:03:54.287312Z",
     "iopub.status.idle": "2021-11-20T16:03:54.290357Z",
     "shell.execute_reply": "2021-11-20T16:03:54.290878Z",
     "shell.execute_reply.started": "2021-11-20T16:00:05.692000Z"
    },
    "papermill": {
     "duration": 0.111177,
     "end_time": "2021-11-20T16:03:54.291026",
     "exception": false,
     "start_time": "2021-11-20T16:03:54.179849",
     "status": "completed"
    },
    "tags": []
   },
   "outputs": [
    {
     "data": {
      "text/plain": [
       "White                 38903\n",
       "Black                  4228\n",
       "Asian-Pac-Islander     1303\n",
       "Amer-Indian-Eskimo      435\n",
       "Other                   353\n",
       "Name: race, dtype: int64"
      ]
     },
     "execution_count": 22,
     "metadata": {},
     "output_type": "execute_result"
    }
   ],
   "source": [
    "df['race'].value_counts()"
   ]
  },
  {
   "cell_type": "code",
   "execution_count": 23,
   "id": "bd77d649",
   "metadata": {
    "execution": {
     "iopub.execute_input": "2021-11-20T16:03:54.478672Z",
     "iopub.status.busy": "2021-11-20T16:03:54.476666Z",
     "iopub.status.idle": "2021-11-20T16:03:54.484373Z",
     "shell.execute_reply": "2021-11-20T16:03:54.483926Z",
     "shell.execute_reply.started": "2021-11-20T16:00:05.708647Z"
    },
    "papermill": {
     "duration": 0.100999,
     "end_time": "2021-11-20T16:03:54.484519",
     "exception": false,
     "start_time": "2021-11-20T16:03:54.383520",
     "status": "completed"
    },
    "tags": []
   },
   "outputs": [],
   "source": [
    "df['race'] = df['race'].replace(['Asian-Pac-Islander','Amer-Indian-Eskimo'], 'Other')"
   ]
  },
  {
   "cell_type": "markdown",
   "id": "59ab9aba",
   "metadata": {
    "papermill": {
     "duration": 0.084878,
     "end_time": "2021-11-20T16:03:54.653887",
     "exception": false,
     "start_time": "2021-11-20T16:03:54.569009",
     "status": "completed"
    },
    "tags": []
   },
   "source": [
    "## Native Country"
   ]
  },
  {
   "cell_type": "code",
   "execution_count": 24,
   "id": "856328ea",
   "metadata": {
    "execution": {
     "iopub.execute_input": "2021-11-20T16:03:54.838108Z",
     "iopub.status.busy": "2021-11-20T16:03:54.837189Z",
     "iopub.status.idle": "2021-11-20T16:03:54.840145Z",
     "shell.execute_reply": "2021-11-20T16:03:54.840604Z",
     "shell.execute_reply.started": "2021-11-20T16:00:05.724639Z"
    },
    "papermill": {
     "duration": 0.100347,
     "end_time": "2021-11-20T16:03:54.840745",
     "exception": false,
     "start_time": "2021-11-20T16:03:54.740398",
     "status": "completed"
    },
    "tags": []
   },
   "outputs": [
    {
     "data": {
      "text/plain": [
       "United-States    41292\n",
       "Mexico             903\n",
       "Philippines        283\n",
       "Germany            193\n",
       "Puerto-Rico        175\n",
       "Canada             163\n",
       "El-Salvador        147\n",
       "India              147\n",
       "Cuba               133\n",
       "England            119\n",
       "Name: native-country, dtype: int64"
      ]
     },
     "execution_count": 24,
     "metadata": {},
     "output_type": "execute_result"
    }
   ],
   "source": [
    "df['native-country'].value_counts()[:10]"
   ]
  },
  {
   "cell_type": "code",
   "execution_count": 25,
   "id": "d6442d6e",
   "metadata": {
    "execution": {
     "iopub.execute_input": "2021-11-20T16:03:55.021748Z",
     "iopub.status.busy": "2021-11-20T16:03:55.020765Z",
     "iopub.status.idle": "2021-11-20T16:03:55.024699Z",
     "shell.execute_reply": "2021-11-20T16:03:55.024232Z",
     "shell.execute_reply.started": "2021-11-20T16:00:05.738458Z"
    },
    "papermill": {
     "duration": 0.096129,
     "end_time": "2021-11-20T16:03:55.024823",
     "exception": false,
     "start_time": "2021-11-20T16:03:54.928694",
     "status": "completed"
    },
    "tags": []
   },
   "outputs": [],
   "source": [
    "lst_1 = list(df['native-country'].unique())\n",
    "lst_1.remove('United-States')"
   ]
  },
  {
   "cell_type": "code",
   "execution_count": 26,
   "id": "588d7d53",
   "metadata": {
    "execution": {
     "iopub.execute_input": "2021-11-20T16:03:55.201785Z",
     "iopub.status.busy": "2021-11-20T16:03:55.199801Z",
     "iopub.status.idle": "2021-11-20T16:03:55.276402Z",
     "shell.execute_reply": "2021-11-20T16:03:55.275830Z",
     "shell.execute_reply.started": "2021-11-20T16:00:05.752037Z"
    },
    "papermill": {
     "duration": 0.167932,
     "end_time": "2021-11-20T16:03:55.276551",
     "exception": false,
     "start_time": "2021-11-20T16:03:55.108619",
     "status": "completed"
    },
    "tags": []
   },
   "outputs": [],
   "source": [
    "df['native-country'] = df['native-country'].replace(lst_1, 'Other')"
   ]
  },
  {
   "cell_type": "markdown",
   "id": "8c5c6d1d",
   "metadata": {
    "papermill": {
     "duration": 0.089309,
     "end_time": "2021-11-20T16:03:55.467954",
     "exception": false,
     "start_time": "2021-11-20T16:03:55.378645",
     "status": "completed"
    },
    "tags": []
   },
   "source": [
    "## Workclass"
   ]
  },
  {
   "cell_type": "code",
   "execution_count": 27,
   "id": "91bbf278",
   "metadata": {
    "execution": {
     "iopub.execute_input": "2021-11-20T16:03:55.646336Z",
     "iopub.status.busy": "2021-11-20T16:03:55.644068Z",
     "iopub.status.idle": "2021-11-20T16:03:55.662296Z",
     "shell.execute_reply": "2021-11-20T16:03:55.661838Z",
     "shell.execute_reply.started": "2021-11-20T16:00:05.832518Z"
    },
    "papermill": {
     "duration": 0.110356,
     "end_time": "2021-11-20T16:03:55.662422",
     "exception": false,
     "start_time": "2021-11-20T16:03:55.552066",
     "status": "completed"
    },
    "tags": []
   },
   "outputs": [],
   "source": [
    "df['workclass'] = df['workclass'].replace(['Self-emp-not-inc', 'Self-emp-inc'], 'Self-emp')\n",
    "df['workclass'] = df['workclass'].replace(['Federal-gov', 'State-gov', 'Local-gov'], 'Government')"
   ]
  },
  {
   "cell_type": "code",
   "execution_count": 28,
   "id": "41dbcb81",
   "metadata": {
    "execution": {
     "iopub.execute_input": "2021-11-20T16:03:55.837346Z",
     "iopub.status.busy": "2021-11-20T16:03:55.836549Z",
     "iopub.status.idle": "2021-11-20T16:03:55.876348Z",
     "shell.execute_reply": "2021-11-20T16:03:55.876761Z",
     "shell.execute_reply.started": "2021-11-20T16:00:05.860894Z"
    },
    "papermill": {
     "duration": 0.12943,
     "end_time": "2021-11-20T16:03:55.876888",
     "exception": false,
     "start_time": "2021-11-20T16:03:55.747458",
     "status": "completed"
    },
    "tags": []
   },
   "outputs": [
    {
     "data": {
      "text/plain": [
       "age                   74\n",
       "workclass              4\n",
       "fnlwgt             26741\n",
       "education             11\n",
       "educational-num       11\n",
       "marital-status         4\n",
       "occupation            11\n",
       "relationship           6\n",
       "race                   3\n",
       "gender                 2\n",
       "capital-gain         121\n",
       "capital-loss          97\n",
       "hours-per-week        96\n",
       "native-country         2\n",
       "income                 2\n",
       "dtype: int64"
      ]
     },
     "execution_count": 28,
     "metadata": {},
     "output_type": "execute_result"
    }
   ],
   "source": [
    "df.nunique()"
   ]
  },
  {
   "cell_type": "code",
   "execution_count": 29,
   "id": "b05b4e90",
   "metadata": {
    "execution": {
     "iopub.execute_input": "2021-11-20T16:03:56.053334Z",
     "iopub.status.busy": "2021-11-20T16:03:56.052721Z",
     "iopub.status.idle": "2021-11-20T16:03:56.055375Z",
     "shell.execute_reply": "2021-11-20T16:03:56.055787Z",
     "shell.execute_reply.started": "2021-11-20T16:00:05.905477Z"
    },
    "papermill": {
     "duration": 0.094469,
     "end_time": "2021-11-20T16:03:56.055920",
     "exception": false,
     "start_time": "2021-11-20T16:03:55.961451",
     "status": "completed"
    },
    "tags": []
   },
   "outputs": [
    {
     "data": {
      "text/plain": [
       "(45222, 15)"
      ]
     },
     "execution_count": 29,
     "metadata": {},
     "output_type": "execute_result"
    }
   ],
   "source": [
    "df.shape"
   ]
  },
  {
   "cell_type": "code",
   "execution_count": 30,
   "id": "6e781fe8",
   "metadata": {
    "execution": {
     "iopub.execute_input": "2021-11-20T16:03:56.240753Z",
     "iopub.status.busy": "2021-11-20T16:03:56.239761Z",
     "iopub.status.idle": "2021-11-20T16:03:56.243844Z",
     "shell.execute_reply": "2021-11-20T16:03:56.244283Z",
     "shell.execute_reply.started": "2021-11-20T16:00:05.913626Z"
    },
    "papermill": {
     "duration": 0.103327,
     "end_time": "2021-11-20T16:03:56.244424",
     "exception": false,
     "start_time": "2021-11-20T16:03:56.141097",
     "status": "completed"
    },
    "tags": []
   },
   "outputs": [
    {
     "data": {
      "text/html": [
       "<div>\n",
       "<style scoped>\n",
       "    .dataframe tbody tr th:only-of-type {\n",
       "        vertical-align: middle;\n",
       "    }\n",
       "\n",
       "    .dataframe tbody tr th {\n",
       "        vertical-align: top;\n",
       "    }\n",
       "\n",
       "    .dataframe thead th {\n",
       "        text-align: right;\n",
       "    }\n",
       "</style>\n",
       "<table border=\"1\" class=\"dataframe\">\n",
       "  <thead>\n",
       "    <tr style=\"text-align: right;\">\n",
       "      <th></th>\n",
       "      <th>age</th>\n",
       "      <th>workclass</th>\n",
       "      <th>fnlwgt</th>\n",
       "      <th>education</th>\n",
       "      <th>educational-num</th>\n",
       "      <th>marital-status</th>\n",
       "      <th>occupation</th>\n",
       "      <th>relationship</th>\n",
       "      <th>race</th>\n",
       "      <th>gender</th>\n",
       "      <th>capital-gain</th>\n",
       "      <th>capital-loss</th>\n",
       "      <th>hours-per-week</th>\n",
       "      <th>native-country</th>\n",
       "      <th>income</th>\n",
       "    </tr>\n",
       "  </thead>\n",
       "  <tbody>\n",
       "    <tr>\n",
       "      <th>0</th>\n",
       "      <td>25</td>\n",
       "      <td>Private</td>\n",
       "      <td>226802</td>\n",
       "      <td>9th-12th</td>\n",
       "      <td>3</td>\n",
       "      <td>Unmarried</td>\n",
       "      <td>Machine-op-inspct</td>\n",
       "      <td>Own-child</td>\n",
       "      <td>Black</td>\n",
       "      <td>Male</td>\n",
       "      <td>0</td>\n",
       "      <td>0</td>\n",
       "      <td>40</td>\n",
       "      <td>United-States</td>\n",
       "      <td>&lt;=50K</td>\n",
       "    </tr>\n",
       "    <tr>\n",
       "      <th>1</th>\n",
       "      <td>38</td>\n",
       "      <td>Private</td>\n",
       "      <td>89814</td>\n",
       "      <td>HS-grad</td>\n",
       "      <td>4</td>\n",
       "      <td>Married</td>\n",
       "      <td>Farming-fishing</td>\n",
       "      <td>Husband</td>\n",
       "      <td>White</td>\n",
       "      <td>Male</td>\n",
       "      <td>0</td>\n",
       "      <td>0</td>\n",
       "      <td>50</td>\n",
       "      <td>United-States</td>\n",
       "      <td>&lt;=50K</td>\n",
       "    </tr>\n",
       "    <tr>\n",
       "      <th>2</th>\n",
       "      <td>28</td>\n",
       "      <td>Government</td>\n",
       "      <td>336951</td>\n",
       "      <td>Assoc-acdm</td>\n",
       "      <td>7</td>\n",
       "      <td>Married</td>\n",
       "      <td>Other-service</td>\n",
       "      <td>Husband</td>\n",
       "      <td>White</td>\n",
       "      <td>Male</td>\n",
       "      <td>0</td>\n",
       "      <td>0</td>\n",
       "      <td>40</td>\n",
       "      <td>United-States</td>\n",
       "      <td>&gt;50K</td>\n",
       "    </tr>\n",
       "    <tr>\n",
       "      <th>3</th>\n",
       "      <td>44</td>\n",
       "      <td>Private</td>\n",
       "      <td>160323</td>\n",
       "      <td>Some-college</td>\n",
       "      <td>5</td>\n",
       "      <td>Married</td>\n",
       "      <td>Machine-op-inspct</td>\n",
       "      <td>Husband</td>\n",
       "      <td>Black</td>\n",
       "      <td>Male</td>\n",
       "      <td>7688</td>\n",
       "      <td>0</td>\n",
       "      <td>40</td>\n",
       "      <td>United-States</td>\n",
       "      <td>&gt;50K</td>\n",
       "    </tr>\n",
       "    <tr>\n",
       "      <th>5</th>\n",
       "      <td>34</td>\n",
       "      <td>Private</td>\n",
       "      <td>198693</td>\n",
       "      <td>9th-12th</td>\n",
       "      <td>3</td>\n",
       "      <td>Unmarried</td>\n",
       "      <td>Other-service</td>\n",
       "      <td>Not-in-family</td>\n",
       "      <td>White</td>\n",
       "      <td>Male</td>\n",
       "      <td>0</td>\n",
       "      <td>0</td>\n",
       "      <td>30</td>\n",
       "      <td>United-States</td>\n",
       "      <td>&lt;=50K</td>\n",
       "    </tr>\n",
       "  </tbody>\n",
       "</table>\n",
       "</div>"
      ],
      "text/plain": [
       "   age   workclass  fnlwgt     education  educational-num marital-status  \\\n",
       "0   25     Private  226802      9th-12th                3      Unmarried   \n",
       "1   38     Private   89814       HS-grad                4        Married   \n",
       "2   28  Government  336951    Assoc-acdm                7        Married   \n",
       "3   44     Private  160323  Some-college                5        Married   \n",
       "5   34     Private  198693      9th-12th                3      Unmarried   \n",
       "\n",
       "          occupation   relationship   race gender  capital-gain  capital-loss  \\\n",
       "0  Machine-op-inspct      Own-child  Black   Male             0             0   \n",
       "1    Farming-fishing        Husband  White   Male             0             0   \n",
       "2      Other-service        Husband  White   Male             0             0   \n",
       "3  Machine-op-inspct        Husband  Black   Male          7688             0   \n",
       "5      Other-service  Not-in-family  White   Male             0             0   \n",
       "\n",
       "   hours-per-week native-country income  \n",
       "0              40  United-States  <=50K  \n",
       "1              50  United-States  <=50K  \n",
       "2              40  United-States   >50K  \n",
       "3              40  United-States   >50K  \n",
       "5              30  United-States  <=50K  "
      ]
     },
     "execution_count": 30,
     "metadata": {},
     "output_type": "execute_result"
    }
   ],
   "source": [
    "df.head()"
   ]
  },
  {
   "cell_type": "code",
   "execution_count": 31,
   "id": "b65801d3",
   "metadata": {
    "execution": {
     "iopub.execute_input": "2021-11-20T16:03:56.439170Z",
     "iopub.status.busy": "2021-11-20T16:03:56.438370Z",
     "iopub.status.idle": "2021-11-20T16:03:56.441174Z",
     "shell.execute_reply": "2021-11-20T16:03:56.441646Z",
     "shell.execute_reply.started": "2021-11-20T16:00:05.932768Z"
    },
    "papermill": {
     "duration": 0.10963,
     "end_time": "2021-11-20T16:03:56.441782",
     "exception": false,
     "start_time": "2021-11-20T16:03:56.332152",
     "status": "completed"
    },
    "tags": []
   },
   "outputs": [
    {
     "data": {
      "text/plain": [
       "age                 int64\n",
       "workclass          object\n",
       "fnlwgt              int64\n",
       "education          object\n",
       "educational-num     int64\n",
       "marital-status     object\n",
       "occupation         object\n",
       "relationship       object\n",
       "race               object\n",
       "gender             object\n",
       "capital-gain        int64\n",
       "capital-loss        int64\n",
       "hours-per-week      int64\n",
       "native-country     object\n",
       "income             object\n",
       "dtype: object"
      ]
     },
     "execution_count": 31,
     "metadata": {},
     "output_type": "execute_result"
    }
   ],
   "source": [
    "df.dtypes"
   ]
  },
  {
   "cell_type": "markdown",
   "id": "9687eebe",
   "metadata": {
    "papermill": {
     "duration": 0.085442,
     "end_time": "2021-11-20T16:03:56.622553",
     "exception": false,
     "start_time": "2021-11-20T16:03:56.537111",
     "status": "completed"
    },
    "tags": []
   },
   "source": [
    "# Data Visualisation"
   ]
  },
  {
   "cell_type": "markdown",
   "id": "5ffebf44",
   "metadata": {
    "papermill": {
     "duration": 0.085073,
     "end_time": "2021-11-20T16:03:56.792727",
     "exception": false,
     "start_time": "2021-11-20T16:03:56.707654",
     "status": "completed"
    },
    "tags": []
   },
   "source": [
    "# Plotting Box plot for every continuous attribute"
   ]
  },
  {
   "cell_type": "code",
   "execution_count": 32,
   "id": "adfca0bd",
   "metadata": {
    "execution": {
     "iopub.execute_input": "2021-11-20T16:03:56.968778Z",
     "iopub.status.busy": "2021-11-20T16:03:56.967915Z",
     "iopub.status.idle": "2021-11-20T16:03:57.145508Z",
     "shell.execute_reply": "2021-11-20T16:03:57.144690Z",
     "shell.execute_reply.started": "2021-11-20T16:00:05.943632Z"
    },
    "papermill": {
     "duration": 0.268248,
     "end_time": "2021-11-20T16:03:57.145640",
     "exception": false,
     "start_time": "2021-11-20T16:03:56.877392",
     "status": "completed"
    },
    "tags": []
   },
   "outputs": [
    {
     "name": "stderr",
     "output_type": "stream",
     "text": [
      "/opt/conda/lib/python3.7/site-packages/seaborn/_decorators.py:43: FutureWarning: Pass the following variable as a keyword arg: x. From version 0.12, the only valid positional argument will be `data`, and passing other arguments without an explicit keyword will result in an error or misinterpretation.\n",
      "  FutureWarning\n"
     ]
    },
    {
     "data": {
      "text/plain": [
       "<AxesSubplot:xlabel='age'>"
      ]
     },
     "execution_count": 32,
     "metadata": {},
     "output_type": "execute_result"
    },
    {
     "data": {
      "image/png": "[encoded data removed]",
      "text/plain": [
       "<Figure size 432x288 with 1 Axes>"
      ]
     },
     "metadata": {
      "needs_background": "light"
     },
     "output_type": "display_data"
    }
   ],
   "source": [
    "sns.boxplot(df['age'])"
   ]
  },
  {
   "cell_type": "code",
   "execution_count": 33,
   "id": "fcc6f1a2",
   "metadata": {
    "execution": {
     "iopub.execute_input": "2021-11-20T16:03:57.328486Z",
     "iopub.status.busy": "2021-11-20T16:03:57.327702Z",
     "iopub.status.idle": "2021-11-20T16:03:57.507707Z",
     "shell.execute_reply": "2021-11-20T16:03:57.508087Z",
     "shell.execute_reply.started": "2021-11-20T16:00:06.126738Z"
    },
    "papermill": {
     "duration": 0.272453,
     "end_time": "2021-11-20T16:03:57.508252",
     "exception": false,
     "start_time": "2021-11-20T16:03:57.235799",
     "status": "completed"
    },
    "tags": []
   },
   "outputs": [
    {
     "name": "stderr",
     "output_type": "stream",
     "text": [
      "/opt/conda/lib/python3.7/site-packages/seaborn/_decorators.py:43: FutureWarning: Pass the following variable as a keyword arg: x. From version 0.12, the only valid positional argument will be `data`, and passing other arguments without an explicit keyword will result in an error or misinterpretation.\n",
      "  FutureWarning\n"
     ]
    },
    {
     "data": {
      "text/plain": [
       "<AxesSubplot:xlabel='fnlwgt'>"
      ]
     },
     "execution_count": 33,
     "metadata": {},
     "output_type": "execute_result"
    },
    {
     "data": {
      "image/png": "[encoded data removed]",
      "text/plain": [
       "<Figure size 432x288 with 1 Axes>"
      ]
     },
     "metadata": {
      "needs_background": "light"
     },
     "output_type": "display_data"
    }
   ],
   "source": [
    "sns.boxplot(df['fnlwgt'])"
   ]
  },
  {
   "cell_type": "code",
   "execution_count": 34,
   "id": "38e16d37",
   "metadata": {
    "execution": {
     "iopub.execute_input": "2021-11-20T16:03:57.690802Z",
     "iopub.status.busy": "2021-11-20T16:03:57.689973Z",
     "iopub.status.idle": "2021-11-20T16:03:57.844870Z",
     "shell.execute_reply": "2021-11-20T16:03:57.845670Z",
     "shell.execute_reply.started": "2021-11-20T16:00:06.312004Z"
    },
    "papermill": {
     "duration": 0.248236,
     "end_time": "2021-11-20T16:03:57.845938",
     "exception": false,
     "start_time": "2021-11-20T16:03:57.597702",
     "status": "completed"
    },
    "tags": []
   },
   "outputs": [
    {
     "name": "stderr",
     "output_type": "stream",
     "text": [
      "/opt/conda/lib/python3.7/site-packages/seaborn/_decorators.py:43: FutureWarning: Pass the following variable as a keyword arg: x. From version 0.12, the only valid positional argument will be `data`, and passing other arguments without an explicit keyword will result in an error or misinterpretation.\n",
      "  FutureWarning\n"
     ]
    },
    {
     "data": {
      "text/plain": [
       "<AxesSubplot:xlabel='educational-num'>"
      ]
     },
     "execution_count": 34,
     "metadata": {},
     "output_type": "execute_result"
    },
    {
     "data": {
      "image/png": "[encoded data removed]",
      "text/plain": [
       "<Figure size 432x288 with 1 Axes>"
      ]
     },
     "metadata": {
      "needs_background": "light"
     },
     "output_type": "display_data"
    }
   ],
   "source": [
    "sns.boxplot(df['educational-num'])"
   ]
  },
  {
   "cell_type": "code",
   "execution_count": 35,
   "id": "7339df21",
   "metadata": {
    "execution": {
     "iopub.execute_input": "2021-11-20T16:03:58.045399Z",
     "iopub.status.busy": "2021-11-20T16:03:58.044499Z",
     "iopub.status.idle": "2021-11-20T16:03:58.224557Z",
     "shell.execute_reply": "2021-11-20T16:03:58.225250Z",
     "shell.execute_reply.started": "2021-11-20T16:00:06.470650Z"
    },
    "papermill": {
     "duration": 0.276012,
     "end_time": "2021-11-20T16:03:58.225409",
     "exception": false,
     "start_time": "2021-11-20T16:03:57.949397",
     "status": "completed"
    },
    "tags": []
   },
   "outputs": [
    {
     "name": "stderr",
     "output_type": "stream",
     "text": [
      "/opt/conda/lib/python3.7/site-packages/seaborn/_decorators.py:43: FutureWarning: Pass the following variable as a keyword arg: x. From version 0.12, the only valid positional argument will be `data`, and passing other arguments without an explicit keyword will result in an error or misinterpretation.\n",
      "  FutureWarning\n"
     ]
    },
    {
     "data": {
      "text/plain": [
       "<AxesSubplot:xlabel='capital-gain'>"
      ]
     },
     "execution_count": 35,
     "metadata": {},
     "output_type": "execute_result"
    },
    {
     "data": {
      "image/png": "[encoded data removed]",
      "text/plain": [
       "<Figure size 432x288 with 1 Axes>"
      ]
     },
     "metadata": {
      "needs_background": "light"
     },
     "output_type": "display_data"
    }
   ],
   "source": [
    "sns.boxplot(df['capital-gain'])"
   ]
  },
  {
   "cell_type": "code",
   "execution_count": 36,
   "id": "be9b2f4c",
   "metadata": {
    "execution": {
     "iopub.execute_input": "2021-11-20T16:03:58.408660Z",
     "iopub.status.busy": "2021-11-20T16:03:58.407795Z",
     "iopub.status.idle": "2021-11-20T16:03:58.578647Z",
     "shell.execute_reply": "2021-11-20T16:03:58.578014Z",
     "shell.execute_reply.started": "2021-11-20T16:00:06.655493Z"
    },
    "papermill": {
     "duration": 0.263367,
     "end_time": "2021-11-20T16:03:58.578838",
     "exception": false,
     "start_time": "2021-11-20T16:03:58.315471",
     "status": "completed"
    },
    "tags": []
   },
   "outputs": [
    {
     "name": "stderr",
     "output_type": "stream",
     "text": [
      "/opt/conda/lib/python3.7/site-packages/seaborn/_decorators.py:43: FutureWarning: Pass the following variable as a keyword arg: x. From version 0.12, the only valid positional argument will be `data`, and passing other arguments without an explicit keyword will result in an error or misinterpretation.\n",
      "  FutureWarning\n"
     ]
    },
    {
     "data": {
      "text/plain": [
       "<AxesSubplot:xlabel='capital-loss'>"
      ]
     },
     "execution_count": 36,
     "metadata": {},
     "output_type": "execute_result"
    },
    {
     "data": {
      "image/png": "[encoded data removed]",
      "text/plain": [
       "<Figure size 432x288 with 1 Axes>"
      ]
     },
     "metadata": {
      "needs_background": "light"
     },
     "output_type": "display_data"
    }
   ],
   "source": [
    "sns.boxplot(df['capital-loss'])"
   ]
  },
  {
   "cell_type": "code",
   "execution_count": 37,
   "id": "e4fd1aac",
   "metadata": {
    "execution": {
     "iopub.execute_input": "2021-11-20T16:03:58.773716Z",
     "iopub.status.busy": "2021-11-20T16:03:58.772948Z",
     "iopub.status.idle": "2021-11-20T16:03:58.974477Z",
     "shell.execute_reply": "2021-11-20T16:03:58.974014Z",
     "shell.execute_reply.started": "2021-11-20T16:00:06.819289Z"
    },
    "papermill": {
     "duration": 0.296253,
     "end_time": "2021-11-20T16:03:58.974604",
     "exception": false,
     "start_time": "2021-11-20T16:03:58.678351",
     "status": "completed"
    },
    "tags": []
   },
   "outputs": [
    {
     "name": "stderr",
     "output_type": "stream",
     "text": [
      "/opt/conda/lib/python3.7/site-packages/seaborn/_decorators.py:43: FutureWarning: Pass the following variable as a keyword arg: x. From version 0.12, the only valid positional argument will be `data`, and passing other arguments without an explicit keyword will result in an error or misinterpretation.\n",
      "  FutureWarning\n"
     ]
    },
    {
     "data": {
      "text/plain": [
       "<AxesSubplot:xlabel='hours-per-week'>"
      ]
     },
     "execution_count": 37,
     "metadata": {},
     "output_type": "execute_result"
    },
    {
     "data": {
      "image/png": "[encoded data removed]",
      "text/plain": [
       "<Figure size 432x288 with 1 Axes>"
      ]
     },
     "metadata": {
      "needs_background": "light"
     },
     "output_type": "display_data"
    }
   ],
   "source": [
    "sns.boxplot(df['hours-per-week'])"
   ]
  },
  {
   "cell_type": "markdown",
   "id": "10c3ff5c",
   "metadata": {
    "papermill": {
     "duration": 0.09907,
     "end_time": "2021-11-20T16:03:59.166924",
     "exception": false,
     "start_time": "2021-11-20T16:03:59.067854",
     "status": "completed"
    },
    "tags": []
   },
   "source": [
    "# Statistical Analysis"
   ]
  },
  {
   "cell_type": "markdown",
   "id": "0d65e4e6",
   "metadata": {
    "papermill": {
     "duration": 0.10377,
     "end_time": "2021-11-20T16:03:59.378591",
     "exception": false,
     "start_time": "2021-11-20T16:03:59.274821",
     "status": "completed"
    },
    "tags": []
   },
   "source": [
    "## Average Age of People having more income"
   ]
  },
  {
   "cell_type": "code",
   "execution_count": 38,
   "id": "4b98523e",
   "metadata": {
    "execution": {
     "iopub.execute_input": "2021-11-20T16:03:59.666112Z",
     "iopub.status.busy": "2021-11-20T16:03:59.665266Z",
     "iopub.status.idle": "2021-11-20T16:03:59.684671Z",
     "shell.execute_reply": "2021-11-20T16:03:59.685730Z",
     "shell.execute_reply.started": "2021-11-20T16:00:07.030141Z"
    },
    "papermill": {
     "duration": 0.197466,
     "end_time": "2021-11-20T16:03:59.685917",
     "exception": false,
     "start_time": "2021-11-20T16:03:59.488451",
     "status": "completed"
    },
    "tags": []
   },
   "outputs": [
    {
     "data": {
      "text/html": [
       "<div>\n",
       "<style scoped>\n",
       "    .dataframe tbody tr th:only-of-type {\n",
       "        vertical-align: middle;\n",
       "    }\n",
       "\n",
       "    .dataframe tbody tr th {\n",
       "        vertical-align: top;\n",
       "    }\n",
       "\n",
       "    .dataframe thead th {\n",
       "        text-align: right;\n",
       "    }\n",
       "</style>\n",
       "<table border=\"1\" class=\"dataframe\">\n",
       "  <thead>\n",
       "    <tr style=\"text-align: right;\">\n",
       "      <th></th>\n",
       "      <th>age</th>\n",
       "      <th>workclass</th>\n",
       "      <th>fnlwgt</th>\n",
       "      <th>education</th>\n",
       "      <th>educational-num</th>\n",
       "      <th>marital-status</th>\n",
       "      <th>occupation</th>\n",
       "      <th>relationship</th>\n",
       "      <th>race</th>\n",
       "      <th>gender</th>\n",
       "      <th>capital-gain</th>\n",
       "      <th>capital-loss</th>\n",
       "      <th>hours-per-week</th>\n",
       "      <th>native-country</th>\n",
       "      <th>income</th>\n",
       "    </tr>\n",
       "  </thead>\n",
       "  <tbody>\n",
       "    <tr>\n",
       "      <th>0</th>\n",
       "      <td>25</td>\n",
       "      <td>Private</td>\n",
       "      <td>226802</td>\n",
       "      <td>9th-12th</td>\n",
       "      <td>3</td>\n",
       "      <td>Unmarried</td>\n",
       "      <td>Machine-op-inspct</td>\n",
       "      <td>Own-child</td>\n",
       "      <td>Black</td>\n",
       "      <td>Male</td>\n",
       "      <td>0</td>\n",
       "      <td>0</td>\n",
       "      <td>40</td>\n",
       "      <td>United-States</td>\n",
       "      <td>&lt;=50K</td>\n",
       "    </tr>\n",
       "    <tr>\n",
       "      <th>1</th>\n",
       "      <td>38</td>\n",
       "      <td>Private</td>\n",
       "      <td>89814</td>\n",
       "      <td>HS-grad</td>\n",
       "      <td>4</td>\n",
       "      <td>Married</td>\n",
       "      <td>Farming-fishing</td>\n",
       "      <td>Husband</td>\n",
       "      <td>White</td>\n",
       "      <td>Male</td>\n",
       "      <td>0</td>\n",
       "      <td>0</td>\n",
       "      <td>50</td>\n",
       "      <td>United-States</td>\n",
       "      <td>&lt;=50K</td>\n",
       "    </tr>\n",
       "    <tr>\n",
       "      <th>2</th>\n",
       "      <td>28</td>\n",
       "      <td>Government</td>\n",
       "      <td>336951</td>\n",
       "      <td>Assoc-acdm</td>\n",
       "      <td>7</td>\n",
       "      <td>Married</td>\n",
       "      <td>Other-service</td>\n",
       "      <td>Husband</td>\n",
       "      <td>White</td>\n",
       "      <td>Male</td>\n",
       "      <td>0</td>\n",
       "      <td>0</td>\n",
       "      <td>40</td>\n",
       "      <td>United-States</td>\n",
       "      <td>&gt;50K</td>\n",
       "    </tr>\n",
       "    <tr>\n",
       "      <th>3</th>\n",
       "      <td>44</td>\n",
       "      <td>Private</td>\n",
       "      <td>160323</td>\n",
       "      <td>Some-college</td>\n",
       "      <td>5</td>\n",
       "      <td>Married</td>\n",
       "      <td>Machine-op-inspct</td>\n",
       "      <td>Husband</td>\n",
       "      <td>Black</td>\n",
       "      <td>Male</td>\n",
       "      <td>7688</td>\n",
       "      <td>0</td>\n",
       "      <td>40</td>\n",
       "      <td>United-States</td>\n",
       "      <td>&gt;50K</td>\n",
       "    </tr>\n",
       "    <tr>\n",
       "      <th>5</th>\n",
       "      <td>34</td>\n",
       "      <td>Private</td>\n",
       "      <td>198693</td>\n",
       "      <td>9th-12th</td>\n",
       "      <td>3</td>\n",
       "      <td>Unmarried</td>\n",
       "      <td>Other-service</td>\n",
       "      <td>Not-in-family</td>\n",
       "      <td>White</td>\n",
       "      <td>Male</td>\n",
       "      <td>0</td>\n",
       "      <td>0</td>\n",
       "      <td>30</td>\n",
       "      <td>United-States</td>\n",
       "      <td>&lt;=50K</td>\n",
       "    </tr>\n",
       "  </tbody>\n",
       "</table>\n",
       "</div>"
      ],
      "text/plain": [
       "   age   workclass  fnlwgt     education  educational-num marital-status  \\\n",
       "0   25     Private  226802      9th-12th                3      Unmarried   \n",
       "1   38     Private   89814       HS-grad                4        Married   \n",
       "2   28  Government  336951    Assoc-acdm                7        Married   \n",
       "3   44     Private  160323  Some-college                5        Married   \n",
       "5   34     Private  198693      9th-12th                3      Unmarried   \n",
       "\n",
       "          occupation   relationship   race gender  capital-gain  capital-loss  \\\n",
       "0  Machine-op-inspct      Own-child  Black   Male             0             0   \n",
       "1    Farming-fishing        Husband  White   Male             0             0   \n",
       "2      Other-service        Husband  White   Male             0             0   \n",
       "3  Machine-op-inspct        Husband  Black   Male          7688             0   \n",
       "5      Other-service  Not-in-family  White   Male             0             0   \n",
       "\n",
       "   hours-per-week native-country income  \n",
       "0              40  United-States  <=50K  \n",
       "1              50  United-States  <=50K  \n",
       "2              40  United-States   >50K  \n",
       "3              40  United-States   >50K  \n",
       "5              30  United-States  <=50K  "
      ]
     },
     "execution_count": 38,
     "metadata": {},
     "output_type": "execute_result"
    }
   ],
   "source": [
    "df.head()"
   ]
  },
  {
   "cell_type": "markdown",
   "id": "3d816f61",
   "metadata": {
    "papermill": {
     "duration": 0.156326,
     "end_time": "2021-11-20T16:03:59.995278",
     "exception": false,
     "start_time": "2021-11-20T16:03:59.838952",
     "status": "completed"
    },
    "tags": []
   },
   "source": [
    "## **Application of Confidence Interval**"
   ]
  },
  {
   "cell_type": "code",
   "execution_count": 39,
   "id": "7cf9e856",
   "metadata": {
    "execution": {
     "iopub.execute_input": "2021-11-20T16:04:00.234938Z",
     "iopub.status.busy": "2021-11-20T16:04:00.234053Z",
     "iopub.status.idle": "2021-11-20T16:04:00.249054Z",
     "shell.execute_reply": "2021-11-20T16:04:00.248611Z",
     "shell.execute_reply.started": "2021-11-20T16:00:07.050244Z"
    },
    "papermill": {
     "duration": 0.119201,
     "end_time": "2021-11-20T16:04:00.249192",
     "exception": false,
     "start_time": "2021-11-20T16:04:00.129991",
     "status": "completed"
    },
    "tags": []
   },
   "outputs": [],
   "source": [
    "# Records of adults having >50K income\n",
    "more_income = df[df['income'] == \">50K\"]\n",
    "low_income = df[~(df['income'] == \">50K\")]"
   ]
  },
  {
   "cell_type": "code",
   "execution_count": 40,
   "id": "ce54fb40",
   "metadata": {
    "execution": {
     "iopub.execute_input": "2021-11-20T16:04:00.438937Z",
     "iopub.status.busy": "2021-11-20T16:04:00.438178Z",
     "iopub.status.idle": "2021-11-20T16:04:00.441032Z",
     "shell.execute_reply": "2021-11-20T16:04:00.441732Z",
     "shell.execute_reply.started": "2021-11-20T16:00:07.076467Z"
    },
    "papermill": {
     "duration": 0.100665,
     "end_time": "2021-11-20T16:04:00.441905",
     "exception": false,
     "start_time": "2021-11-20T16:04:00.341240",
     "status": "completed"
    },
    "tags": []
   },
   "outputs": [
    {
     "data": {
      "text/plain": [
       "44.00606709493219"
      ]
     },
     "execution_count": 40,
     "metadata": {},
     "output_type": "execute_result"
    }
   ],
   "source": [
    "np.mean(more_income['age'])"
   ]
  },
  {
   "cell_type": "markdown",
   "id": "2d829e83",
   "metadata": {
    "papermill": {
     "duration": 0.092659,
     "end_time": "2021-11-20T16:04:00.632181",
     "exception": false,
     "start_time": "2021-11-20T16:04:00.539522",
     "status": "completed"
    },
    "tags": []
   },
   "source": [
    "$$ If\\ we\\ consider\\ \\mu = 44,\\ then\\ it\\ would\\ be\\ called\\ as\\ point\\ estimate\\ and\\ the\\ result\\ is\\ not\\ necessarily\\ to\\ be\\ correct$$"
   ]
  },
  {
   "cell_type": "markdown",
   "id": "350ac81d",
   "metadata": {
    "papermill": {
     "duration": 0.092058,
     "end_time": "2021-11-20T16:04:00.816890",
     "exception": false,
     "start_time": "2021-11-20T16:04:00.724832",
     "status": "completed"
    },
    "tags": []
   },
   "source": [
    "**For Better estimate we need to calculate the confidence interval**"
   ]
  },
  {
   "cell_type": "code",
   "execution_count": 41,
   "id": "87fbad2a",
   "metadata": {
    "execution": {
     "iopub.execute_input": "2021-11-20T16:04:01.007352Z",
     "iopub.status.busy": "2021-11-20T16:04:01.006631Z",
     "iopub.status.idle": "2021-11-20T16:04:01.009375Z",
     "shell.execute_reply": "2021-11-20T16:04:01.009962Z",
     "shell.execute_reply.started": "2021-11-20T16:00:07.090206Z"
    },
    "papermill": {
     "duration": 0.100836,
     "end_time": "2021-11-20T16:04:01.010145",
     "exception": false,
     "start_time": "2021-11-20T16:04:00.909309",
     "status": "completed"
    },
    "tags": []
   },
   "outputs": [
    {
     "name": "stdout",
     "output_type": "stream",
     "text": [
      "Total number of citizens:  45222\n",
      "Total number of adults having >50K:  11208\n"
     ]
    }
   ],
   "source": [
    "print(\"Total number of citizens: \", df.shape[0])\n",
    "print(\"Total number of adults having >50K: \", more_income.shape[0])"
   ]
  },
  {
   "cell_type": "markdown",
   "id": "0b06edb4",
   "metadata": {
    "papermill": {
     "duration": 0.092905,
     "end_time": "2021-11-20T16:04:01.198307",
     "exception": false,
     "start_time": "2021-11-20T16:04:01.105402",
     "status": "completed"
    },
    "tags": []
   },
   "source": [
    "**This is just the sample of the population, so here I'm going to show the average age of adults having income >50K with a confidence interval of 95%**"
   ]
  },
  {
   "cell_type": "code",
   "execution_count": 42,
   "id": "230c7434",
   "metadata": {
    "execution": {
     "iopub.execute_input": "2021-11-20T16:04:01.390850Z",
     "iopub.status.busy": "2021-11-20T16:04:01.390154Z",
     "iopub.status.idle": "2021-11-20T16:04:01.395654Z",
     "shell.execute_reply": "2021-11-20T16:04:01.396108Z",
     "shell.execute_reply.started": "2021-11-20T16:00:07.098498Z"
    },
    "papermill": {
     "duration": 0.105402,
     "end_time": "2021-11-20T16:04:01.396273",
     "exception": false,
     "start_time": "2021-11-20T16:04:01.290871",
     "status": "completed"
    },
    "tags": []
   },
   "outputs": [
    {
     "name": "stdout",
     "output_type": "stream",
     "text": [
      "\n",
      " Confidence interval with 95% confidence of the age of those having more income:  (43.81460950856545, 44.19752468129894)\n"
     ]
    }
   ],
   "source": [
    "import scipy.stats as st\n",
    "print(\"\\n Confidence interval with 95% confidence of the age of those having more income: \", st.t.interval(alpha=0.95, df=len(more_income)-1, loc=np.mean(more_income['age']), scale=st.sem(more_income['age']))) \n"
   ]
  },
  {
   "cell_type": "code",
   "execution_count": 43,
   "id": "529685de",
   "metadata": {
    "execution": {
     "iopub.execute_input": "2021-11-20T16:04:01.590113Z",
     "iopub.status.busy": "2021-11-20T16:04:01.589205Z",
     "iopub.status.idle": "2021-11-20T16:04:01.594619Z",
     "shell.execute_reply": "2021-11-20T16:04:01.594169Z",
     "shell.execute_reply.started": "2021-11-20T16:00:07.109889Z"
    },
    "papermill": {
     "duration": 0.103393,
     "end_time": "2021-11-20T16:04:01.594728",
     "exception": false,
     "start_time": "2021-11-20T16:04:01.491335",
     "status": "completed"
    },
    "tags": []
   },
   "outputs": [
    {
     "name": "stdout",
     "output_type": "stream",
     "text": [
      "\n",
      " Confidence interval with 95% confidence of the age of those having less income:  (36.60526684896954, 36.89358656433087)\n"
     ]
    }
   ],
   "source": [
    "print(\"\\n Confidence interval with 95% confidence of the age of those having less income: \", st.t.interval(alpha=0.95, df=len(low_income)-1, loc=np.mean(low_income['age']), scale=st.sem(low_income['age']))) "
   ]
  },
  {
   "cell_type": "code",
   "execution_count": 44,
   "id": "5a28acf9",
   "metadata": {
    "execution": {
     "iopub.execute_input": "2021-11-20T16:04:01.808115Z",
     "iopub.status.busy": "2021-11-20T16:04:01.807151Z",
     "iopub.status.idle": "2021-11-20T16:04:01.809598Z",
     "shell.execute_reply": "2021-11-20T16:04:01.808976Z",
     "shell.execute_reply.started": "2021-11-20T16:00:07.119447Z"
    },
    "papermill": {
     "duration": 0.113962,
     "end_time": "2021-11-20T16:04:01.809722",
     "exception": false,
     "start_time": "2021-11-20T16:04:01.695760",
     "status": "completed"
    },
    "tags": []
   },
   "outputs": [],
   "source": [
    "from scipy import stats"
   ]
  },
  {
   "cell_type": "markdown",
   "id": "0744b381",
   "metadata": {
    "papermill": {
     "duration": 0.097028,
     "end_time": "2021-11-20T16:04:02.009323",
     "exception": false,
     "start_time": "2021-11-20T16:04:01.912295",
     "status": "completed"
    },
    "tags": []
   },
   "source": [
    "## **Dependency of Avg. hour per week on Occupation**"
   ]
  },
  {
   "cell_type": "markdown",
   "id": "ab7d5648",
   "metadata": {
    "papermill": {
     "duration": 0.107291,
     "end_time": "2021-11-20T16:04:02.217944",
     "exception": false,
     "start_time": "2021-11-20T16:04:02.110653",
     "status": "completed"
    },
    "tags": []
   },
   "source": [
    "**Let's try to check whether Avg. hour per week for each occupation is different or all occupations just requires equivalent amount time spent per week :(**\n",
    "\n",
    "**We can check this using one way ANOVA as it is used to check the significance of difference of the mean values among than two sample groups**"
   ]
  },
  {
   "cell_type": "markdown",
   "id": "6a0c3bf5",
   "metadata": {
    "papermill": {
     "duration": 0.099383,
     "end_time": "2021-11-20T16:04:02.418138",
     "exception": false,
     "start_time": "2021-11-20T16:04:02.318755",
     "status": "completed"
    },
    "tags": []
   },
   "source": [
    "### **Number of adults from each population**"
   ]
  },
  {
   "cell_type": "code",
   "execution_count": 45,
   "id": "5588f8a0",
   "metadata": {
    "execution": {
     "iopub.execute_input": "2021-11-20T16:04:02.628141Z",
     "iopub.status.busy": "2021-11-20T16:04:02.620202Z",
     "iopub.status.idle": "2021-11-20T16:04:03.485026Z",
     "shell.execute_reply": "2021-11-20T16:04:03.484514Z",
     "shell.execute_reply.started": "2021-11-20T16:00:07.129037Z"
    },
    "papermill": {
     "duration": 0.969865,
     "end_time": "2021-11-20T16:04:03.485188",
     "exception": false,
     "start_time": "2021-11-20T16:04:02.515323",
     "status": "completed"
    },
    "tags": []
   },
   "outputs": [
    {
     "data": {
      "text/html": [
       "        <script type=\"text/javascript\">\n",
       "        window.PlotlyConfig = {MathJaxConfig: 'local'};\n",
       "        if (window.MathJax) {MathJax.Hub.Config({SVG: {font: \"STIX-Web\"}});}\n",
       "        if (typeof require !== 'undefined') {\n",
       "        require.undef(\"plotly\");\n",
       "        requirejs.config({\n",
       "            paths: {\n",
       "                'plotly': ['https://cdn.plot.ly/plotly-2.4.2.min']\n",
       "            }\n",
       "        });\n",
       "        require(['plotly'], function(Plotly) {\n",
       "            window._Plotly = Plotly;\n",
       "        });\n",
       "        }\n",
       "        </script>\n",
       "        "
      ]
     },
     "metadata": {},
     "output_type": "display_data"
    },
    {
     "data": {
      "text/html": [
       "<div>                            <div id=\"c8ec0e27-b23c-4567-bed1-2fd432983e5f\" class=\"plotly-graph-div\" style=\"height:900px; width:100%;\"></div>            <script type=\"text/javascript\">                require([\"plotly\"], function(Plotly) {                    window.PLOTLYENV=window.PLOTLYENV || {};                                    if (document.getElementById(\"c8ec0e27-b23c-4567-bed1-2fd432983e5f\")) {                    Plotly.newPlot(                        \"c8ec0e27-b23c-4567-bed1-2fd432983e5f\",                        [{\"colorscale\":[[0,\"#0000ff\"],[0.5,\"#00ffff\"],[1,\"#0096FF\"]],\"hoverinfo\":\"none\",\"opacity\":0.75,\"showscale\":false,\"type\":\"heatmap\",\"z\":[[0,0],[0.5,0.5],[1,1],[0.5,0.5],[1,1],[0.5,0.5],[1,1],[0.5,0.5],[1,1],[0.5,0.5],[1,1],[0.5,0.5]]},{\"marker\":{\"color\":\"#00FFFF\"},\"name\":\"Count\",\"type\":\"bar\",\"x\":[\"Other-service\",\"Craft-repair\",\"Prof-specialty\",\"Exec-managerial\",\"Adm-clerical\",\"Sales\",\"Machine-op-inspct\",\"Transport-moving\",\"Handlers-cleaners\",\"Farming-fishing\",\"Tech-support\"],\"xaxis\":\"x2\",\"y\":[6030,6020,6008,5984,5540,5408,2970,2316,2046,1480,1420],\"yaxis\":\"y2\"}],                        {\"annotations\":[{\"align\":\"left\",\"font\":{\"color\":\"white\",\"size\":16},\"showarrow\":false,\"text\":\"<b>Occupation</b>\",\"x\":-0.45,\"xanchor\":\"left\",\"xref\":\"x\",\"y\":0,\"yref\":\"y\"},{\"align\":\"left\",\"font\":{\"color\":\"white\",\"size\":16},\"showarrow\":false,\"text\":\"<b>Count</b>\",\"x\":0.55,\"xanchor\":\"left\",\"xref\":\"x\",\"y\":0,\"yref\":\"y\"},{\"align\":\"left\",\"font\":{\"color\":\"white\",\"size\":16},\"showarrow\":false,\"text\":\"Other-service\",\"x\":-0.45,\"xanchor\":\"left\",\"xref\":\"x\",\"y\":1,\"yref\":\"y\"},{\"align\":\"left\",\"font\":{\"color\":\"white\",\"size\":16},\"showarrow\":false,\"text\":\"6030\",\"x\":0.55,\"xanchor\":\"left\",\"xref\":\"x\",\"y\":1,\"yref\":\"y\"},{\"align\":\"left\",\"font\":{\"color\":\"white\",\"size\":16},\"showarrow\":false,\"text\":\"Craft-repair\",\"x\":-0.45,\"xanchor\":\"left\",\"xref\":\"x\",\"y\":2,\"yref\":\"y\"},{\"align\":\"left\",\"font\":{\"color\":\"white\",\"size\":16},\"showarrow\":false,\"text\":\"6020\",\"x\":0.55,\"xanchor\":\"left\",\"xref\":\"x\",\"y\":2,\"yref\":\"y\"},{\"align\":\"left\",\"font\":{\"color\":\"white\",\"size\":16},\"showarrow\":false,\"text\":\"Prof-specialty\",\"x\":-0.45,\"xanchor\":\"left\",\"xref\":\"x\",\"y\":3,\"yref\":\"y\"},{\"align\":\"left\",\"font\":{\"color\":\"white\",\"size\":16},\"showarrow\":false,\"text\":\"6008\",\"x\":0.55,\"xanchor\":\"left\",\"xref\":\"x\",\"y\":3,\"yref\":\"y\"},{\"align\":\"left\",\"font\":{\"color\":\"white\",\"size\":16},\"showarrow\":false,\"text\":\"Exec-managerial\",\"x\":-0.45,\"xanchor\":\"left\",\"xref\":\"x\",\"y\":4,\"yref\":\"y\"},{\"align\":\"left\",\"font\":{\"color\":\"white\",\"size\":16},\"showarrow\":false,\"text\":\"5984\",\"x\":0.55,\"xanchor\":\"left\",\"xref\":\"x\",\"y\":4,\"yref\":\"y\"},{\"align\":\"left\",\"font\":{\"color\":\"white\",\"size\":16},\"showarrow\":false,\"text\":\"Adm-clerical\",\"x\":-0.45,\"xanchor\":\"left\",\"xref\":\"x\",\"y\":5,\"yref\":\"y\"},{\"align\":\"left\",\"font\":{\"color\":\"white\",\"size\":16},\"showarrow\":false,\"text\":\"5540\",\"x\":0.55,\"xanchor\":\"left\",\"xref\":\"x\",\"y\":5,\"yref\":\"y\"},{\"align\":\"left\",\"font\":{\"color\":\"white\",\"size\":16},\"showarrow\":false,\"text\":\"Sales\",\"x\":-0.45,\"xanchor\":\"left\",\"xref\":\"x\",\"y\":6,\"yref\":\"y\"},{\"align\":\"left\",\"font\":{\"color\":\"white\",\"size\":16},\"showarrow\":false,\"text\":\"5408\",\"x\":0.55,\"xanchor\":\"left\",\"xref\":\"x\",\"y\":6,\"yref\":\"y\"},{\"align\":\"left\",\"font\":{\"color\":\"white\",\"size\":16},\"showarrow\":false,\"text\":\"Machine-op-inspct\",\"x\":-0.45,\"xanchor\":\"left\",\"xref\":\"x\",\"y\":7,\"yref\":\"y\"},{\"align\":\"left\",\"font\":{\"color\":\"white\",\"size\":16},\"showarrow\":false,\"text\":\"2970\",\"x\":0.55,\"xanchor\":\"left\",\"xref\":\"x\",\"y\":7,\"yref\":\"y\"},{\"align\":\"left\",\"font\":{\"color\":\"white\",\"size\":16},\"showarrow\":false,\"text\":\"Transport-moving\",\"x\":-0.45,\"xanchor\":\"left\",\"xref\":\"x\",\"y\":8,\"yref\":\"y\"},{\"align\":\"left\",\"font\":{\"color\":\"white\",\"size\":16},\"showarrow\":false,\"text\":\"2316\",\"x\":0.55,\"xanchor\":\"left\",\"xref\":\"x\",\"y\":8,\"yref\":\"y\"},{\"align\":\"left\",\"font\":{\"color\":\"white\",\"size\":16},\"showarrow\":false,\"text\":\"Handlers-cleaners\",\"x\":-0.45,\"xanchor\":\"left\",\"xref\":\"x\",\"y\":9,\"yref\":\"y\"},{\"align\":\"left\",\"font\":{\"color\":\"white\",\"size\":16},\"showarrow\":false,\"text\":\"2046\",\"x\":0.55,\"xanchor\":\"left\",\"xref\":\"x\",\"y\":9,\"yref\":\"y\"},{\"align\":\"left\",\"font\":{\"color\":\"white\",\"size\":16},\"showarrow\":false,\"text\":\"Farming-fishing\",\"x\":-0.45,\"xanchor\":\"left\",\"xref\":\"x\",\"y\":10,\"yref\":\"y\"},{\"align\":\"left\",\"font\":{\"color\":\"white\",\"size\":16},\"showarrow\":false,\"text\":\"1480\",\"x\":0.55,\"xanchor\":\"left\",\"xref\":\"x\",\"y\":10,\"yref\":\"y\"},{\"align\":\"left\",\"font\":{\"color\":\"white\",\"size\":16},\"showarrow\":false,\"text\":\"Tech-support\",\"x\":-0.45,\"xanchor\":\"left\",\"xref\":\"x\",\"y\":11,\"yref\":\"y\"},{\"align\":\"left\",\"font\":{\"color\":\"white\",\"size\":16},\"showarrow\":false,\"text\":\"1420\",\"x\":0.55,\"xanchor\":\"left\",\"xref\":\"x\",\"y\":11,\"yref\":\"y\"}],\"height\":900,\"margin\":{\"b\":0,\"l\":50,\"r\":0,\"t\":75},\"template\":{\"data\":{\"bar\":[{\"error_x\":{\"color\":\"#f2f5fa\"},\"error_y\":{\"color\":\"#f2f5fa\"},\"marker\":{\"line\":{\"color\":\"rgb(17,17,17)\",\"width\":0.5},\"pattern\":{\"fillmode\":\"overlay\",\"size\":10,\"solidity\":0.2}},\"type\":\"bar\"}],\"barpolar\":[{\"marker\":{\"line\":{\"color\":\"rgb(17,17,17)\",\"width\":0.5},\"pattern\":{\"fillmode\":\"overlay\",\"size\":10,\"solidity\":0.2}},\"type\":\"barpolar\"}],\"carpet\":[{\"aaxis\":{\"endlinecolor\":\"#A2B1C6\",\"gridcolor\":\"#506784\",\"linecolor\":\"#506784\",\"minorgridcolor\":\"#506784\",\"startlinecolor\":\"#A2B1C6\"},\"baxis\":{\"endlinecolor\":\"#A2B1C6\",\"gridcolor\":\"#506784\",\"linecolor\":\"#506784\",\"minorgridcolor\":\"#506784\",\"startlinecolor\":\"#A2B1C6\"},\"type\":\"carpet\"}],\"choropleth\":[{\"colorbar\":{\"outlinewidth\":0,\"ticks\":\"\"},\"type\":\"choropleth\"}],\"contour\":[{\"colorbar\":{\"outlinewidth\":0,\"ticks\":\"\"},\"colorscale\":[[0.0,\"#0d0887\"],[0.1111111111111111,\"#46039f\"],[0.2222222222222222,\"#7201a8\"],[0.3333333333333333,\"#9c179e\"],[0.4444444444444444,\"#bd3786\"],[0.5555555555555556,\"#d8576b\"],[0.6666666666666666,\"#ed7953\"],[0.7777777777777778,\"#fb9f3a\"],[0.8888888888888888,\"#fdca26\"],[1.0,\"#f0f921\"]],\"type\":\"contour\"}],\"contourcarpet\":[{\"colorbar\":{\"outlinewidth\":0,\"ticks\":\"\"},\"type\":\"contourcarpet\"}],\"heatmap\":[{\"colorbar\":{\"outlinewidth\":0,\"ticks\":\"\"},\"colorscale\":[[0.0,\"#0d0887\"],[0.1111111111111111,\"#46039f\"],[0.2222222222222222,\"#7201a8\"],[0.3333333333333333,\"#9c179e\"],[0.4444444444444444,\"#bd3786\"],[0.5555555555555556,\"#d8576b\"],[0.6666666666666666,\"#ed7953\"],[0.7777777777777778,\"#fb9f3a\"],[0.8888888888888888,\"#fdca26\"],[1.0,\"#f0f921\"]],\"type\":\"heatmap\"}],\"heatmapgl\":[{\"colorbar\":{\"outlinewidth\":0,\"ticks\":\"\"},\"colorscale\":[[0.0,\"#0d0887\"],[0.1111111111111111,\"#46039f\"],[0.2222222222222222,\"#7201a8\"],[0.3333333333333333,\"#9c179e\"],[0.4444444444444444,\"#bd3786\"],[0.5555555555555556,\"#d8576b\"],[0.6666666666666666,\"#ed7953\"],[0.7777777777777778,\"#fb9f3a\"],[0.8888888888888888,\"#fdca26\"],[1.0,\"#f0f921\"]],\"type\":\"heatmapgl\"}],\"histogram\":[{\"marker\":{\"pattern\":{\"fillmode\":\"overlay\",\"size\":10,\"solidity\":0.2}},\"type\":\"histogram\"}],\"histogram2d\":[{\"colorbar\":{\"outlinewidth\":0,\"ticks\":\"\"},\"colorscale\":[[0.0,\"#0d0887\"],[0.1111111111111111,\"#46039f\"],[0.2222222222222222,\"#7201a8\"],[0.3333333333333333,\"#9c179e\"],[0.4444444444444444,\"#bd3786\"],[0.5555555555555556,\"#d8576b\"],[0.6666666666666666,\"#ed7953\"],[0.7777777777777778,\"#fb9f3a\"],[0.8888888888888888,\"#fdca26\"],[1.0,\"#f0f921\"]],\"type\":\"histogram2d\"}],\"histogram2dcontour\":[{\"colorbar\":{\"outlinewidth\":0,\"ticks\":\"\"},\"colorscale\":[[0.0,\"#0d0887\"],[0.1111111111111111,\"#46039f\"],[0.2222222222222222,\"#7201a8\"],[0.3333333333333333,\"#9c179e\"],[0.4444444444444444,\"#bd3786\"],[0.5555555555555556,\"#d8576b\"],[0.6666666666666666,\"#ed7953\"],[0.7777777777777778,\"#fb9f3a\"],[0.8888888888888888,\"#fdca26\"],[1.0,\"#f0f921\"]],\"type\":\"histogram2dcontour\"}],\"mesh3d\":[{\"colorbar\":{\"outlinewidth\":0,\"ticks\":\"\"},\"type\":\"mesh3d\"}],\"parcoords\":[{\"line\":{\"colorbar\":{\"outlinewidth\":0,\"ticks\":\"\"}},\"type\":\"parcoords\"}],\"pie\":[{\"automargin\":true,\"type\":\"pie\"}],\"scatter\":[{\"marker\":{\"line\":{\"color\":\"#283442\"}},\"type\":\"scatter\"}],\"scatter3d\":[{\"line\":{\"colorbar\":{\"outlinewidth\":0,\"ticks\":\"\"}},\"marker\":{\"colorbar\":{\"outlinewidth\":0,\"ticks\":\"\"}},\"type\":\"scatter3d\"}],\"scattercarpet\":[{\"marker\":{\"colorbar\":{\"outlinewidth\":0,\"ticks\":\"\"}},\"type\":\"scattercarpet\"}],\"scattergeo\":[{\"marker\":{\"colorbar\":{\"outlinewidth\":0,\"ticks\":\"\"}},\"type\":\"scattergeo\"}],\"scattergl\":[{\"marker\":{\"line\":{\"color\":\"#283442\"}},\"type\":\"scattergl\"}],\"scattermapbox\":[{\"marker\":{\"colorbar\":{\"outlinewidth\":0,\"ticks\":\"\"}},\"type\":\"scattermapbox\"}],\"scatterpolar\":[{\"marker\":{\"colorbar\":{\"outlinewidth\":0,\"ticks\":\"\"}},\"type\":\"scatterpolar\"}],\"scatterpolargl\":[{\"marker\":{\"colorbar\":{\"outlinewidth\":0,\"ticks\":\"\"}},\"type\":\"scatterpolargl\"}],\"scatterternary\":[{\"marker\":{\"colorbar\":{\"outlinewidth\":0,\"ticks\":\"\"}},\"type\":\"scatterternary\"}],\"surface\":[{\"colorbar\":{\"outlinewidth\":0,\"ticks\":\"\"},\"colorscale\":[[0.0,\"#0d0887\"],[0.1111111111111111,\"#46039f\"],[0.2222222222222222,\"#7201a8\"],[0.3333333333333333,\"#9c179e\"],[0.4444444444444444,\"#bd3786\"],[0.5555555555555556,\"#d8576b\"],[0.6666666666666666,\"#ed7953\"],[0.7777777777777778,\"#fb9f3a\"],[0.8888888888888888,\"#fdca26\"],[1.0,\"#f0f921\"]],\"type\":\"surface\"}],\"table\":[{\"cells\":{\"fill\":{\"color\":\"#506784\"},\"line\":{\"color\":\"rgb(17,17,17)\"}},\"header\":{\"fill\":{\"color\":\"#2a3f5f\"},\"line\":{\"color\":\"rgb(17,17,17)\"}},\"type\":\"table\"}]},\"layout\":{\"annotationdefaults\":{\"arrowcolor\":\"#f2f5fa\",\"arrowhead\":0,\"arrowwidth\":1},\"autotypenumbers\":\"strict\",\"coloraxis\":{\"colorbar\":{\"outlinewidth\":0,\"ticks\":\"\"}},\"colorscale\":{\"diverging\":[[0,\"#8e0152\"],[0.1,\"#c51b7d\"],[0.2,\"#de77ae\"],[0.3,\"#f1b6da\"],[0.4,\"#fde0ef\"],[0.5,\"#f7f7f7\"],[0.6,\"#e6f5d0\"],[0.7,\"#b8e186\"],[0.8,\"#7fbc41\"],[0.9,\"#4d9221\"],[1,\"#276419\"]],\"sequential\":[[0.0,\"#0d0887\"],[0.1111111111111111,\"#46039f\"],[0.2222222222222222,\"#7201a8\"],[0.3333333333333333,\"#9c179e\"],[0.4444444444444444,\"#bd3786\"],[0.5555555555555556,\"#d8576b\"],[0.6666666666666666,\"#ed7953\"],[0.7777777777777778,\"#fb9f3a\"],[0.8888888888888888,\"#fdca26\"],[1.0,\"#f0f921\"]],\"sequentialminus\":[[0.0,\"#0d0887\"],[0.1111111111111111,\"#46039f\"],[0.2222222222222222,\"#7201a8\"],[0.3333333333333333,\"#9c179e\"],[0.4444444444444444,\"#bd3786\"],[0.5555555555555556,\"#d8576b\"],[0.6666666666666666,\"#ed7953\"],[0.7777777777777778,\"#fb9f3a\"],[0.8888888888888888,\"#fdca26\"],[1.0,\"#f0f921\"]]},\"colorway\":[\"#636efa\",\"#EF553B\",\"#00cc96\",\"#ab63fa\",\"#FFA15A\",\"#19d3f3\",\"#FF6692\",\"#B6E880\",\"#FF97FF\",\"#FECB52\"],\"font\":{\"color\":\"#f2f5fa\"},\"geo\":{\"bgcolor\":\"rgb(17,17,17)\",\"lakecolor\":\"rgb(17,17,17)\",\"landcolor\":\"rgb(17,17,17)\",\"showlakes\":true,\"showland\":true,\"subunitcolor\":\"#506784\"},\"hoverlabel\":{\"align\":\"left\"},\"hovermode\":\"closest\",\"mapbox\":{\"style\":\"dark\"},\"paper_bgcolor\":\"rgb(17,17,17)\",\"plot_bgcolor\":\"rgb(17,17,17)\",\"polar\":{\"angularaxis\":{\"gridcolor\":\"#506784\",\"linecolor\":\"#506784\",\"ticks\":\"\"},\"bgcolor\":\"rgb(17,17,17)\",\"radialaxis\":{\"gridcolor\":\"#506784\",\"linecolor\":\"#506784\",\"ticks\":\"\"}},\"scene\":{\"xaxis\":{\"backgroundcolor\":\"rgb(17,17,17)\",\"gridcolor\":\"#506784\",\"gridwidth\":2,\"linecolor\":\"#506784\",\"showbackground\":true,\"ticks\":\"\",\"zerolinecolor\":\"#C8D4E3\"},\"yaxis\":{\"backgroundcolor\":\"rgb(17,17,17)\",\"gridcolor\":\"#506784\",\"gridwidth\":2,\"linecolor\":\"#506784\",\"showbackground\":true,\"ticks\":\"\",\"zerolinecolor\":\"#C8D4E3\"},\"zaxis\":{\"backgroundcolor\":\"rgb(17,17,17)\",\"gridcolor\":\"#506784\",\"gridwidth\":2,\"linecolor\":\"#506784\",\"showbackground\":true,\"ticks\":\"\",\"zerolinecolor\":\"#C8D4E3\"}},\"shapedefaults\":{\"line\":{\"color\":\"#f2f5fa\"}},\"sliderdefaults\":{\"bgcolor\":\"#C8D4E3\",\"bordercolor\":\"rgb(17,17,17)\",\"borderwidth\":1,\"tickwidth\":0},\"ternary\":{\"aaxis\":{\"gridcolor\":\"#506784\",\"linecolor\":\"#506784\",\"ticks\":\"\"},\"baxis\":{\"gridcolor\":\"#506784\",\"linecolor\":\"#506784\",\"ticks\":\"\"},\"bgcolor\":\"rgb(17,17,17)\",\"caxis\":{\"gridcolor\":\"#506784\",\"linecolor\":\"#506784\",\"ticks\":\"\"}},\"title\":{\"x\":0.05},\"updatemenudefaults\":{\"bgcolor\":\"#506784\",\"borderwidth\":0},\"xaxis\":{\"automargin\":true,\"gridcolor\":\"#283442\",\"linecolor\":\"#506784\",\"ticks\":\"\",\"title\":{\"standoff\":15},\"zerolinecolor\":\"#283442\",\"zerolinewidth\":2},\"yaxis\":{\"automargin\":true,\"gridcolor\":\"#283442\",\"linecolor\":\"#506784\",\"ticks\":\"\",\"title\":{\"standoff\":15},\"zerolinecolor\":\"#283442\",\"zerolinewidth\":2}}},\"title\":{\"text\":\"Total number of records from each occupation category\"},\"xaxis\":{\"dtick\":1,\"gridwidth\":2,\"showticklabels\":false,\"tick0\":-0.5,\"ticks\":\"\",\"zeroline\":false},\"xaxis2\":{\"anchor\":\"y2\"},\"yaxis\":{\"autorange\":\"reversed\",\"domain\":[0,0.45],\"dtick\":1,\"gridwidth\":2,\"showticklabels\":false,\"tick0\":0.5,\"ticks\":\"\",\"zeroline\":false},\"yaxis2\":{\"anchor\":\"x2\",\"domain\":[0.6,1],\"title\":{\"text\":\"Count\"}}},                        {\"responsive\": true}                    ).then(function(){\n",
       "                            \n",
       "var gd = document.getElementById('c8ec0e27-b23c-4567-bed1-2fd432983e5f');\n",
       "var x = new MutationObserver(function (mutations, observer) {{\n",
       "        var display = window.getComputedStyle(gd).display;\n",
       "        if (!display || display === 'none') {{\n",
       "            console.log([gd, 'removed!']);\n",
       "            Plotly.purge(gd);\n",
       "            observer.disconnect();\n",
       "        }}\n",
       "}});\n",
       "\n",
       "// Listen for the removal of the full notebook cells\n",
       "var notebookContainer = gd.closest('#notebook-container');\n",
       "if (notebookContainer) {{\n",
       "    x.observe(notebookContainer, {childList: true});\n",
       "}}\n",
       "\n",
       "// Listen for the clearing of the current output cell\n",
       "var outputEl = gd.closest('.output');\n",
       "if (outputEl) {{\n",
       "    x.observe(outputEl, {childList: true});\n",
       "}}\n",
       "\n",
       "                        })                };                });            </script>        </div>"
      ]
     },
     "metadata": {},
     "output_type": "display_data"
    }
   ],
   "source": [
    "occup = pd.DataFrame(df['occupation'].value_counts())\n",
    "occup = occup.reset_index()\n",
    "occup.columns = ['Occupation', 'Count']\n",
    "\n",
    "\n",
    "colorscale = [[0, '#0000ff'],[.5, '#00ffff'],[1, '#0096FF']]\n",
    "fig = ff.create_table(occup, height_constant=60, colorscale = colorscale, font_colors = ['white'])\n",
    "\n",
    "fig.add_trace(go.Bar(x= list(occup['Occupation']), \n",
    "                     y=list(occup['Count']), \n",
    "                     xaxis='x2', yaxis='y2',\n",
    "                    marker=dict(color='#00FFFF'),\n",
    "                    name='Count'))\n",
    "\n",
    "\n",
    "fig.update_layout(\n",
    "    title_text = 'Total number of records from each occupation category',\n",
    "    height = 900,\n",
    "    margin = {'t':75, 'l':50},\n",
    "    yaxis = {'domain': [0, .45]},\n",
    "    xaxis2 = {'anchor': 'y2'},\n",
    "    yaxis2 = {'domain': [.6, 1], 'anchor': 'x2', 'title': 'Count'},\n",
    "    template = 'plotly_dark'\n",
    ")\n",
    "\n",
    "for i in range(len(fig.layout.annotations)):\n",
    "    fig.layout.annotations[i].font.size = 16\n",
    "\n",
    "fig.show()"
   ]
  },
  {
   "cell_type": "markdown",
   "id": "5c744c65",
   "metadata": {
    "papermill": {
     "duration": 0.09352,
     "end_time": "2021-11-20T16:04:03.682009",
     "exception": false,
     "start_time": "2021-11-20T16:04:03.588489",
     "status": "completed"
    },
    "tags": []
   },
   "source": [
    "### **Assumptions of ANOVA**"
   ]
  },
  {
   "cell_type": "markdown",
   "id": "c4b0729f",
   "metadata": {
    "papermill": {
     "duration": 0.094415,
     "end_time": "2021-11-20T16:04:03.870028",
     "exception": false,
     "start_time": "2021-11-20T16:04:03.775613",
     "status": "completed"
    },
    "tags": []
   },
   "source": [
    "**The following are the assumptions considered while using this test:**<br>\n",
    " - **Population distribution is normal.**\n",
    " - **Samples are random & Independent.**\n",
    " - **Homogenity of Sample variance.**"
   ]
  },
  {
   "cell_type": "markdown",
   "id": "d3c6b3a9",
   "metadata": {
    "papermill": {
     "duration": 0.101705,
     "end_time": "2021-11-20T16:04:04.073270",
     "exception": false,
     "start_time": "2021-11-20T16:04:03.971565",
     "status": "completed"
    },
    "tags": []
   },
   "source": [
    "In the current scenario, the first two assumptions can be assumed to be true but the thrid one needs to be tested."
   ]
  },
  {
   "cell_type": "code",
   "execution_count": 46,
   "id": "c6520a12",
   "metadata": {
    "execution": {
     "iopub.execute_input": "2021-11-20T16:04:04.274647Z",
     "iopub.status.busy": "2021-11-20T16:04:04.273846Z",
     "iopub.status.idle": "2021-11-20T16:04:04.348968Z",
     "shell.execute_reply": "2021-11-20T16:04:04.348545Z",
     "shell.execute_reply.started": "2021-11-20T16:00:07.954369Z"
    },
    "papermill": {
     "duration": 0.182545,
     "end_time": "2021-11-20T16:04:04.349085",
     "exception": false,
     "start_time": "2021-11-20T16:04:04.166540",
     "status": "completed"
    },
    "tags": []
   },
   "outputs": [],
   "source": [
    "Machine_op_inspct = df[df['occupation'] == 'Machine-op-inspct']\n",
    "Farming_fishing = df[df['occupation'] == 'Farming-fishing']\n",
    "Other_service = df[df['occupation'] == 'Other-service']\n",
    "Prof_specialty = df[df['occupation'] == 'Prof-specialty']\n",
    "Craft_repair = df[df['occupation'] == 'Craft-repair']\n",
    "Adm_clerical = df[df['occupation'] == 'Adm-clerical']\n",
    "Exec_managerial = df[df['occupation'] == 'Exec-managerial']\n",
    "Tech_support = df[df['occupation'] == 'Tech-support']\n",
    "Sales = df[df['occupation'] == 'Sales']\n",
    "Transport_moving = df[df['occupation'] == 'Transport-moving']\n",
    "Handlers_cleaners = df[df['occupation'] == 'Handlers-cleaners']"
   ]
  },
  {
   "cell_type": "markdown",
   "id": "8155d3b4",
   "metadata": {
    "papermill": {
     "duration": 0.094001,
     "end_time": "2021-11-20T16:04:04.537858",
     "exception": false,
     "start_time": "2021-11-20T16:04:04.443857",
     "status": "completed"
    },
    "tags": []
   },
   "source": [
    "**F-test can be used to compare the variances of two distributions whereas Levene's test can be used in case of two or more than two.**"
   ]
  },
  {
   "cell_type": "markdown",
   "id": "21cac94d",
   "metadata": {
    "papermill": {
     "duration": 0.093178,
     "end_time": "2021-11-20T16:04:04.724037",
     "exception": false,
     "start_time": "2021-11-20T16:04:04.630859",
     "status": "completed"
    },
    "tags": []
   },
   "source": [
    "### **Levene Test**\n",
    "\n",
    "$$ H_0 = Variances\\ are\\ equal\\ among\\ the\\ samples $$<br>\n",
    "$$ H_1 = Variances\\ are\\ not\\ equal\\ among\\ the\\ samples $$"
   ]
  },
  {
   "cell_type": "code",
   "execution_count": 47,
   "id": "daa46e7a",
   "metadata": {
    "execution": {
     "iopub.execute_input": "2021-11-20T16:04:04.921327Z",
     "iopub.status.busy": "2021-11-20T16:04:04.920431Z",
     "iopub.status.idle": "2021-11-20T16:04:04.927204Z",
     "shell.execute_reply": "2021-11-20T16:04:04.927603Z",
     "shell.execute_reply.started": "2021-11-20T16:00:08.044513Z"
    },
    "papermill": {
     "duration": 0.107573,
     "end_time": "2021-11-20T16:04:04.927738",
     "exception": false,
     "start_time": "2021-11-20T16:04:04.820165",
     "status": "completed"
    },
    "tags": []
   },
   "outputs": [
    {
     "data": {
      "text/plain": [
       "LeveneResult(statistic=222.00996706951275, pvalue=0.0)"
      ]
     },
     "execution_count": 47,
     "metadata": {},
     "output_type": "execute_result"
    }
   ],
   "source": [
    "leveneTest = stats.levene(Machine_op_inspct['hours-per-week'], Farming_fishing['hours-per-week'], Other_service['hours-per-week'],\n",
    "                         Prof_specialty['hours-per-week'], Craft_repair['hours-per-week'], Adm_clerical['hours-per-week'], Exec_managerial['hours-per-week'],\n",
    "                         Tech_support['hours-per-week'], Sales['hours-per-week'], Transport_moving['hours-per-week'], Handlers_cleaners['hours-per-week'])\n",
    "leveneTest"
   ]
  },
  {
   "cell_type": "markdown",
   "id": "b95bd96b",
   "metadata": {
    "papermill": {
     "duration": 0.152907,
     "end_time": "2021-11-20T16:04:05.224959",
     "exception": false,
     "start_time": "2021-11-20T16:04:05.072052",
     "status": "completed"
    },
    "tags": []
   },
   "source": [
    "Here, we can clearly see that p_val < 0.05, hence we reject the null hypothesis, concluding that the homogenity of vairance among the samples does not exist"
   ]
  },
  {
   "cell_type": "markdown",
   "id": "ef260af8",
   "metadata": {
    "papermill": {
     "duration": 0.158941,
     "end_time": "2021-11-20T16:04:05.531262",
     "exception": false,
     "start_time": "2021-11-20T16:04:05.372321",
     "status": "completed"
    },
    "tags": []
   },
   "source": [
    "Now, we can't go with One Way ANOVA as the assupmtions are not met, we can use its alternative non parametric test ,i.e., **Kruskall-Wallis H Test**"
   ]
  },
  {
   "cell_type": "markdown",
   "id": "c398e19e",
   "metadata": {
    "papermill": {
     "duration": 0.152765,
     "end_time": "2021-11-20T16:04:05.839053",
     "exception": false,
     "start_time": "2021-11-20T16:04:05.686288",
     "status": "completed"
    },
    "tags": []
   },
   "source": [
    "## **Kruskall-Wallis H Test / One Way ANOVA on Ranks**"
   ]
  },
  {
   "cell_type": "markdown",
   "id": "890e77cd",
   "metadata": {
    "papermill": {
     "duration": 0.138108,
     "end_time": "2021-11-20T16:04:06.138052",
     "exception": false,
     "start_time": "2021-11-20T16:04:05.999944",
     "status": "completed"
    },
    "tags": []
   },
   "source": [
    "$$ H_0 = There\\ is\\ no\\ difference\\ between\\ hours\\ per\\ week\\ among\\ different\\ Occupations $$\n",
    "$$ H_1 = There\\ is\\ a\\ difference\\ between\\ hours\\ per\\ week\\ among\\ different\\ Occupations $$"
   ]
  },
  {
   "cell_type": "code",
   "execution_count": 48,
   "id": "bcb09e7a",
   "metadata": {
    "execution": {
     "iopub.execute_input": "2021-11-20T16:04:06.333434Z",
     "iopub.status.busy": "2021-11-20T16:04:06.332556Z",
     "iopub.status.idle": "2021-11-20T16:04:06.344089Z",
     "shell.execute_reply": "2021-11-20T16:04:06.344546Z",
     "shell.execute_reply.started": "2021-11-20T16:00:08.058183Z"
    },
    "papermill": {
     "duration": 0.112033,
     "end_time": "2021-11-20T16:04:06.344680",
     "exception": false,
     "start_time": "2021-11-20T16:04:06.232647",
     "status": "completed"
    },
    "tags": []
   },
   "outputs": [
    {
     "data": {
      "text/plain": [
       "KruskalResult(statistic=3802.029168098569, pvalue=0.0)"
      ]
     },
     "execution_count": 48,
     "metadata": {},
     "output_type": "execute_result"
    }
   ],
   "source": [
    "stats.kruskal(Machine_op_inspct['hours-per-week'], Farming_fishing['hours-per-week'], Other_service['hours-per-week'],\n",
    "             Prof_specialty['hours-per-week'], Craft_repair['hours-per-week'], Adm_clerical['hours-per-week'], Exec_managerial['hours-per-week'],\n",
    "             Tech_support['hours-per-week'], Sales['hours-per-week'], Transport_moving['hours-per-week'], Handlers_cleaners['hours-per-week'])"
   ]
  },
  {
   "cell_type": "markdown",
   "id": "146c36f7",
   "metadata": {
    "papermill": {
     "duration": 0.103049,
     "end_time": "2021-11-20T16:04:06.542238",
     "exception": false,
     "start_time": "2021-11-20T16:04:06.439189",
     "status": "completed"
    },
    "tags": []
   },
   "source": [
    "**Since, p_val < 0.05, so we are rejecting the null hypothesis and considering that all occupations do not require equal number of hours per week**"
   ]
  },
  {
   "cell_type": "markdown",
   "id": "d8507dae",
   "metadata": {
    "papermill": {
     "duration": 0.093467,
     "end_time": "2021-11-20T16:04:06.730934",
     "exception": false,
     "start_time": "2021-11-20T16:04:06.637467",
     "status": "completed"
    },
    "tags": []
   },
   "source": [
    "### **Checking the dependency of income of several categorical features**"
   ]
  },
  {
   "cell_type": "markdown",
   "id": "a29d6850",
   "metadata": {
    "papermill": {
     "duration": 0.094523,
     "end_time": "2021-11-20T16:04:06.919464",
     "exception": false,
     "start_time": "2021-11-20T16:04:06.824941",
     "status": "completed"
    },
    "tags": []
   },
   "source": [
    "$$H_0 = The \\ two \\ features \\ are \\ independent$$\n",
    "$$H_1 = The \\ two \\ features \\ are \\ dependent$$"
   ]
  },
  {
   "cell_type": "code",
   "execution_count": 49,
   "id": "ab7e233d",
   "metadata": {
    "execution": {
     "iopub.execute_input": "2021-11-20T16:04:07.116362Z",
     "iopub.status.busy": "2021-11-20T16:04:07.115446Z",
     "iopub.status.idle": "2021-11-20T16:04:07.117118Z",
     "shell.execute_reply": "2021-11-20T16:04:07.117705Z",
     "shell.execute_reply.started": "2021-11-20T16:00:08.078027Z"
    },
    "papermill": {
     "duration": 0.10351,
     "end_time": "2021-11-20T16:04:07.117843",
     "exception": false,
     "start_time": "2021-11-20T16:04:07.014333",
     "status": "completed"
    },
    "tags": []
   },
   "outputs": [],
   "source": [
    "def chi_square(columns):\n",
    "    conclusion = {}\n",
    "    for i in columns:\n",
    "        observed = pd.crosstab(df[i], df.income)\n",
    "        p_val = stats.chi2_contingency(observed)[1]\n",
    "        alpha = 0.05\n",
    "        conclusion[i] = [p_val, \"Fail to reject H0\" if p_val > alpha else \"Reject H0\"]\n",
    "    return conclusion"
   ]
  },
  {
   "cell_type": "code",
   "execution_count": 50,
   "id": "cb6f244b",
   "metadata": {
    "execution": {
     "iopub.execute_input": "2021-11-20T16:04:07.312141Z",
     "iopub.status.busy": "2021-11-20T16:04:07.311331Z",
     "iopub.status.idle": "2021-11-20T16:04:07.316397Z",
     "shell.execute_reply": "2021-11-20T16:04:07.315933Z",
     "shell.execute_reply.started": "2021-11-20T16:00:08.085366Z"
    },
    "papermill": {
     "duration": 0.104452,
     "end_time": "2021-11-20T16:04:07.316520",
     "exception": false,
     "start_time": "2021-11-20T16:04:07.212068",
     "status": "completed"
    },
    "tags": []
   },
   "outputs": [],
   "source": [
    "cat_col = df.select_dtypes('object').columns"
   ]
  },
  {
   "cell_type": "code",
   "execution_count": 51,
   "id": "d7162f13",
   "metadata": {
    "execution": {
     "iopub.execute_input": "2021-11-20T16:04:07.511143Z",
     "iopub.status.busy": "2021-11-20T16:04:07.510528Z",
     "iopub.status.idle": "2021-11-20T16:04:07.513166Z",
     "shell.execute_reply": "2021-11-20T16:04:07.513574Z",
     "shell.execute_reply.started": "2021-11-20T16:00:08.100930Z"
    },
    "papermill": {
     "duration": 0.102114,
     "end_time": "2021-11-20T16:04:07.513697",
     "exception": false,
     "start_time": "2021-11-20T16:04:07.411583",
     "status": "completed"
    },
    "tags": []
   },
   "outputs": [
    {
     "data": {
      "text/plain": [
       "Index(['workclass', 'education', 'marital-status', 'occupation',\n",
       "       'relationship', 'race', 'gender', 'native-country', 'income'],\n",
       "      dtype='object')"
      ]
     },
     "execution_count": 51,
     "metadata": {},
     "output_type": "execute_result"
    }
   ],
   "source": [
    "cat_col"
   ]
  },
  {
   "cell_type": "code",
   "execution_count": 52,
   "id": "1480b50f",
   "metadata": {
    "execution": {
     "iopub.execute_input": "2021-11-20T16:04:07.710835Z",
     "iopub.status.busy": "2021-11-20T16:04:07.709956Z",
     "iopub.status.idle": "2021-11-20T16:04:07.855391Z",
     "shell.execute_reply": "2021-11-20T16:04:07.855810Z",
     "shell.execute_reply.started": "2021-11-20T16:00:08.108383Z"
    },
    "papermill": {
     "duration": 0.246923,
     "end_time": "2021-11-20T16:04:07.855958",
     "exception": false,
     "start_time": "2021-11-20T16:04:07.609035",
     "status": "completed"
    },
    "tags": []
   },
   "outputs": [
    {
     "data": {
      "text/plain": [
       "{'workclass': [7.502170429307795e-145, 'Reject H0'],\n",
       " 'education': [0.0, 'Reject H0'],\n",
       " 'marital-status': [0.0, 'Reject H0'],\n",
       " 'occupation': [0.0, 'Reject H0'],\n",
       " 'relationship': [0.0, 'Reject H0'],\n",
       " 'race': [1.6578176146497785e-84, 'Reject H0'],\n",
       " 'gender': [0.0, 'Reject H0'],\n",
       " 'native-country': [1.5099071570211737e-16, 'Reject H0'],\n",
       " 'income': [0.0, 'Reject H0']}"
      ]
     },
     "execution_count": 52,
     "metadata": {},
     "output_type": "execute_result"
    }
   ],
   "source": [
    "chi_square(cat_col)"
   ]
  },
  {
   "cell_type": "markdown",
   "id": "8dcf5c81",
   "metadata": {
    "papermill": {
     "duration": 0.095732,
     "end_time": "2021-11-20T16:04:08.051195",
     "exception": false,
     "start_time": "2021-11-20T16:04:07.955463",
     "status": "completed"
    },
    "tags": []
   },
   "source": [
    "# Checking if age is dependent on income or not"
   ]
  },
  {
   "cell_type": "markdown",
   "id": "0d78fa09",
   "metadata": {
    "papermill": {
     "duration": 0.095102,
     "end_time": "2021-11-20T16:04:08.246816",
     "exception": false,
     "start_time": "2021-11-20T16:04:08.151714",
     "status": "completed"
    },
    "tags": []
   },
   "source": [
    "#### Independent sample t test, assuming the populations have same variance"
   ]
  },
  {
   "cell_type": "markdown",
   "id": "1a9746c0",
   "metadata": {
    "papermill": {
     "duration": 0.094895,
     "end_time": "2021-11-20T16:04:08.436331",
     "exception": false,
     "start_time": "2021-11-20T16:04:08.341436",
     "status": "completed"
    },
    "tags": []
   },
   "source": [
    "$$H_0 = The \\ two \\ samples \\ have \\ same \\ mean$$\n",
    "$$H_1 = The \\ two \\ samples \\ have \\ different \\ mean$$"
   ]
  },
  {
   "cell_type": "code",
   "execution_count": 53,
   "id": "b2b9ce33",
   "metadata": {
    "execution": {
     "iopub.execute_input": "2021-11-20T16:04:08.632478Z",
     "iopub.status.busy": "2021-11-20T16:04:08.631710Z",
     "iopub.status.idle": "2021-11-20T16:04:08.635384Z",
     "shell.execute_reply": "2021-11-20T16:04:08.634937Z",
     "shell.execute_reply.started": "2021-11-20T16:00:08.261716Z"
    },
    "papermill": {
     "duration": 0.104471,
     "end_time": "2021-11-20T16:04:08.635501",
     "exception": false,
     "start_time": "2021-11-20T16:04:08.531030",
     "status": "completed"
    },
    "tags": []
   },
   "outputs": [],
   "source": [
    "def two_sample_ttset(columns):\n",
    "    res = {}\n",
    "    for i in columns:\n",
    "        a = np.array(df[df['income'] == \"<=50K\"][i])\n",
    "        b = np.array(df[df['income'] == \">50K\"][i])\n",
    "        p_val = stats.ttest_ind(a, b, random_state=0, equal_var = True, alternative='two-sided')[1]\n",
    "        res[i] = [p_val, \"Reject H0\" if p_val < 0.05 else \"Fails to Reject H0\"]\n",
    "    return res"
   ]
  },
  {
   "cell_type": "code",
   "execution_count": 54,
   "id": "9cbbc53d",
   "metadata": {
    "execution": {
     "iopub.execute_input": "2021-11-20T16:04:08.831966Z",
     "iopub.status.busy": "2021-11-20T16:04:08.831029Z",
     "iopub.status.idle": "2021-11-20T16:04:08.832981Z",
     "shell.execute_reply": "2021-11-20T16:04:08.833481Z",
     "shell.execute_reply.started": "2021-11-20T16:00:08.268957Z"
    },
    "papermill": {
     "duration": 0.103193,
     "end_time": "2021-11-20T16:04:08.833613",
     "exception": false,
     "start_time": "2021-11-20T16:04:08.730420",
     "status": "completed"
    },
    "tags": []
   },
   "outputs": [],
   "source": [
    "num_col = df.select_dtypes('int64').columns"
   ]
  },
  {
   "cell_type": "code",
   "execution_count": 55,
   "id": "4cacee54",
   "metadata": {
    "execution": {
     "iopub.execute_input": "2021-11-20T16:04:09.027199Z",
     "iopub.status.busy": "2021-11-20T16:04:09.026407Z",
     "iopub.status.idle": "2021-11-20T16:04:09.137374Z",
     "shell.execute_reply": "2021-11-20T16:04:09.136918Z",
     "shell.execute_reply.started": "2021-11-20T16:00:08.280321Z"
    },
    "papermill": {
     "duration": 0.208929,
     "end_time": "2021-11-20T16:04:09.137502",
     "exception": false,
     "start_time": "2021-11-20T16:04:08.928573",
     "status": "completed"
    },
    "tags": []
   },
   "outputs": [
    {
     "data": {
      "text/plain": [
       "{'age': [0.0, 'Reject H0'],\n",
       " 'fnlwgt': [0.1224230703562435, 'Fails to Reject H0'],\n",
       " 'educational-num': [0.0, 'Reject H0'],\n",
       " 'capital-gain': [0.0, 'Reject H0'],\n",
       " 'capital-loss': [7.594015921975305e-222, 'Reject H0'],\n",
       " 'hours-per-week': [0.0, 'Reject H0']}"
      ]
     },
     "execution_count": 55,
     "metadata": {},
     "output_type": "execute_result"
    }
   ],
   "source": [
    "two_sample_ttset(num_col)"
   ]
  },
  {
   "cell_type": "markdown",
   "id": "98274e72",
   "metadata": {
    "papermill": {
     "duration": 0.104604,
     "end_time": "2021-11-20T16:04:09.343527",
     "exception": false,
     "start_time": "2021-11-20T16:04:09.238923",
     "status": "completed"
    },
    "tags": []
   },
   "source": [
    "**Conclusion: Remove fnlwgt column**"
   ]
  },
  {
   "cell_type": "markdown",
   "id": "78af29b4",
   "metadata": {
    "papermill": {
     "duration": 0.103473,
     "end_time": "2021-11-20T16:04:09.556950",
     "exception": false,
     "start_time": "2021-11-20T16:04:09.453477",
     "status": "completed"
    },
    "tags": []
   },
   "source": [
    "# Removing columns"
   ]
  },
  {
   "cell_type": "code",
   "execution_count": 56,
   "id": "ac680da4",
   "metadata": {
    "execution": {
     "iopub.execute_input": "2021-11-20T16:04:09.764745Z",
     "iopub.status.busy": "2021-11-20T16:04:09.763488Z",
     "iopub.status.idle": "2021-11-20T16:04:09.768689Z",
     "shell.execute_reply": "2021-11-20T16:04:09.768248Z",
     "shell.execute_reply.started": "2021-11-20T16:00:08.391534Z"
    },
    "papermill": {
     "duration": 0.112151,
     "end_time": "2021-11-20T16:04:09.768816",
     "exception": false,
     "start_time": "2021-11-20T16:04:09.656665",
     "status": "completed"
    },
    "tags": []
   },
   "outputs": [],
   "source": [
    "df.drop(['fnlwgt', 'education'], axis = 'columns', inplace = True)"
   ]
  },
  {
   "cell_type": "markdown",
   "id": "d83673cc",
   "metadata": {
    "papermill": {
     "duration": 0.10264,
     "end_time": "2021-11-20T16:04:09.970807",
     "exception": false,
     "start_time": "2021-11-20T16:04:09.868167",
     "status": "completed"
    },
    "tags": []
   },
   "source": [
    "# Encoding"
   ]
  },
  {
   "cell_type": "code",
   "execution_count": 57,
   "id": "9e36e6fe",
   "metadata": {
    "execution": {
     "iopub.execute_input": "2021-11-20T16:04:10.178539Z",
     "iopub.status.busy": "2021-11-20T16:04:10.177773Z",
     "iopub.status.idle": "2021-11-20T16:04:10.253538Z",
     "shell.execute_reply": "2021-11-20T16:04:10.253039Z",
     "shell.execute_reply.started": "2021-11-20T16:00:08.400597Z"
    },
    "papermill": {
     "duration": 0.18335,
     "end_time": "2021-11-20T16:04:10.253667",
     "exception": false,
     "start_time": "2021-11-20T16:04:10.070317",
     "status": "completed"
    },
    "tags": []
   },
   "outputs": [],
   "source": [
    "df['income'] = df['income'].replace(['<=50K', '>50K'], [0, 1])\n",
    "df['native-country'] = df['native-country'].replace(['United-States', 'Other'], [1, 0])\n",
    "df['gender'] = df['gender'].replace(['Male', 'Female'], [1, 0])"
   ]
  },
  {
   "cell_type": "code",
   "execution_count": 58,
   "id": "661118cf",
   "metadata": {
    "execution": {
     "iopub.execute_input": "2021-11-20T16:04:10.453052Z",
     "iopub.status.busy": "2021-11-20T16:04:10.452105Z",
     "iopub.status.idle": "2021-11-20T16:04:10.480120Z",
     "shell.execute_reply": "2021-11-20T16:04:10.479698Z",
     "shell.execute_reply.started": "2021-11-20T16:00:08.487817Z"
    },
    "papermill": {
     "duration": 0.129281,
     "end_time": "2021-11-20T16:04:10.480262",
     "exception": false,
     "start_time": "2021-11-20T16:04:10.350981",
     "status": "completed"
    },
    "tags": []
   },
   "outputs": [],
   "source": [
    "dummy = pd.get_dummies(df[['workclass', 'marital-status', 'occupation', 'race']], drop_first=True)"
   ]
  },
  {
   "cell_type": "code",
   "execution_count": 59,
   "id": "1bb01738",
   "metadata": {
    "execution": {
     "iopub.execute_input": "2021-11-20T16:04:10.846498Z",
     "iopub.status.busy": "2021-11-20T16:04:10.845563Z",
     "iopub.status.idle": "2021-11-20T16:04:10.868616Z",
     "shell.execute_reply": "2021-11-20T16:04:10.869566Z",
     "shell.execute_reply.started": "2021-11-20T16:00:08.520548Z"
    },
    "papermill": {
     "duration": 0.206789,
     "end_time": "2021-11-20T16:04:10.869781",
     "exception": false,
     "start_time": "2021-11-20T16:04:10.662992",
     "status": "completed"
    },
    "tags": []
   },
   "outputs": [
    {
     "data": {
      "text/html": [
       "<div>\n",
       "<style scoped>\n",
       "    .dataframe tbody tr th:only-of-type {\n",
       "        vertical-align: middle;\n",
       "    }\n",
       "\n",
       "    .dataframe tbody tr th {\n",
       "        vertical-align: top;\n",
       "    }\n",
       "\n",
       "    .dataframe thead th {\n",
       "        text-align: right;\n",
       "    }\n",
       "</style>\n",
       "<table border=\"1\" class=\"dataframe\">\n",
       "  <thead>\n",
       "    <tr style=\"text-align: right;\">\n",
       "      <th></th>\n",
       "      <th>workclass_Private</th>\n",
       "      <th>workclass_Self-emp</th>\n",
       "      <th>workclass_Without-pay</th>\n",
       "      <th>marital-status_Married</th>\n",
       "      <th>marital-status_Separated</th>\n",
       "      <th>marital-status_Unmarried</th>\n",
       "      <th>occupation_Craft-repair</th>\n",
       "      <th>occupation_Exec-managerial</th>\n",
       "      <th>occupation_Farming-fishing</th>\n",
       "      <th>occupation_Handlers-cleaners</th>\n",
       "      <th>occupation_Machine-op-inspct</th>\n",
       "      <th>occupation_Other-service</th>\n",
       "      <th>occupation_Prof-specialty</th>\n",
       "      <th>occupation_Sales</th>\n",
       "      <th>occupation_Tech-support</th>\n",
       "      <th>occupation_Transport-moving</th>\n",
       "      <th>race_Other</th>\n",
       "      <th>race_White</th>\n",
       "    </tr>\n",
       "  </thead>\n",
       "  <tbody>\n",
       "    <tr>\n",
       "      <th>0</th>\n",
       "      <td>1</td>\n",
       "      <td>0</td>\n",
       "      <td>0</td>\n",
       "      <td>0</td>\n",
       "      <td>0</td>\n",
       "      <td>1</td>\n",
       "      <td>0</td>\n",
       "      <td>0</td>\n",
       "      <td>0</td>\n",
       "      <td>0</td>\n",
       "      <td>1</td>\n",
       "      <td>0</td>\n",
       "      <td>0</td>\n",
       "      <td>0</td>\n",
       "      <td>0</td>\n",
       "      <td>0</td>\n",
       "      <td>0</td>\n",
       "      <td>0</td>\n",
       "    </tr>\n",
       "    <tr>\n",
       "      <th>1</th>\n",
       "      <td>1</td>\n",
       "      <td>0</td>\n",
       "      <td>0</td>\n",
       "      <td>1</td>\n",
       "      <td>0</td>\n",
       "      <td>0</td>\n",
       "      <td>0</td>\n",
       "      <td>0</td>\n",
       "      <td>1</td>\n",
       "      <td>0</td>\n",
       "      <td>0</td>\n",
       "      <td>0</td>\n",
       "      <td>0</td>\n",
       "      <td>0</td>\n",
       "      <td>0</td>\n",
       "      <td>0</td>\n",
       "      <td>0</td>\n",
       "      <td>1</td>\n",
       "    </tr>\n",
       "    <tr>\n",
       "      <th>2</th>\n",
       "      <td>0</td>\n",
       "      <td>0</td>\n",
       "      <td>0</td>\n",
       "      <td>1</td>\n",
       "      <td>0</td>\n",
       "      <td>0</td>\n",
       "      <td>0</td>\n",
       "      <td>0</td>\n",
       "      <td>0</td>\n",
       "      <td>0</td>\n",
       "      <td>0</td>\n",
       "      <td>1</td>\n",
       "      <td>0</td>\n",
       "      <td>0</td>\n",
       "      <td>0</td>\n",
       "      <td>0</td>\n",
       "      <td>0</td>\n",
       "      <td>1</td>\n",
       "    </tr>\n",
       "    <tr>\n",
       "      <th>3</th>\n",
       "      <td>1</td>\n",
       "      <td>0</td>\n",
       "      <td>0</td>\n",
       "      <td>1</td>\n",
       "      <td>0</td>\n",
       "      <td>0</td>\n",
       "      <td>0</td>\n",
       "      <td>0</td>\n",
       "      <td>0</td>\n",
       "      <td>0</td>\n",
       "      <td>1</td>\n",
       "      <td>0</td>\n",
       "      <td>0</td>\n",
       "      <td>0</td>\n",
       "      <td>0</td>\n",
       "      <td>0</td>\n",
       "      <td>0</td>\n",
       "      <td>0</td>\n",
       "    </tr>\n",
       "    <tr>\n",
       "      <th>5</th>\n",
       "      <td>1</td>\n",
       "      <td>0</td>\n",
       "      <td>0</td>\n",
       "      <td>0</td>\n",
       "      <td>0</td>\n",
       "      <td>1</td>\n",
       "      <td>0</td>\n",
       "      <td>0</td>\n",
       "      <td>0</td>\n",
       "      <td>0</td>\n",
       "      <td>0</td>\n",
       "      <td>1</td>\n",
       "      <td>0</td>\n",
       "      <td>0</td>\n",
       "      <td>0</td>\n",
       "      <td>0</td>\n",
       "      <td>0</td>\n",
       "      <td>1</td>\n",
       "    </tr>\n",
       "    <tr>\n",
       "      <th>...</th>\n",
       "      <td>...</td>\n",
       "      <td>...</td>\n",
       "      <td>...</td>\n",
       "      <td>...</td>\n",
       "      <td>...</td>\n",
       "      <td>...</td>\n",
       "      <td>...</td>\n",
       "      <td>...</td>\n",
       "      <td>...</td>\n",
       "      <td>...</td>\n",
       "      <td>...</td>\n",
       "      <td>...</td>\n",
       "      <td>...</td>\n",
       "      <td>...</td>\n",
       "      <td>...</td>\n",
       "      <td>...</td>\n",
       "      <td>...</td>\n",
       "      <td>...</td>\n",
       "    </tr>\n",
       "    <tr>\n",
       "      <th>48837</th>\n",
       "      <td>1</td>\n",
       "      <td>0</td>\n",
       "      <td>0</td>\n",
       "      <td>1</td>\n",
       "      <td>0</td>\n",
       "      <td>0</td>\n",
       "      <td>0</td>\n",
       "      <td>0</td>\n",
       "      <td>0</td>\n",
       "      <td>0</td>\n",
       "      <td>0</td>\n",
       "      <td>0</td>\n",
       "      <td>0</td>\n",
       "      <td>0</td>\n",
       "      <td>1</td>\n",
       "      <td>0</td>\n",
       "      <td>0</td>\n",
       "      <td>1</td>\n",
       "    </tr>\n",
       "    <tr>\n",
       "      <th>48838</th>\n",
       "      <td>1</td>\n",
       "      <td>0</td>\n",
       "      <td>0</td>\n",
       "      <td>1</td>\n",
       "      <td>0</td>\n",
       "      <td>0</td>\n",
       "      <td>0</td>\n",
       "      <td>0</td>\n",
       "      <td>0</td>\n",
       "      <td>0</td>\n",
       "      <td>1</td>\n",
       "      <td>0</td>\n",
       "      <td>0</td>\n",
       "      <td>0</td>\n",
       "      <td>0</td>\n",
       "      <td>0</td>\n",
       "      <td>0</td>\n",
       "      <td>1</td>\n",
       "    </tr>\n",
       "    <tr>\n",
       "      <th>48839</th>\n",
       "      <td>1</td>\n",
       "      <td>0</td>\n",
       "      <td>0</td>\n",
       "      <td>0</td>\n",
       "      <td>1</td>\n",
       "      <td>0</td>\n",
       "      <td>0</td>\n",
       "      <td>0</td>\n",
       "      <td>0</td>\n",
       "      <td>0</td>\n",
       "      <td>0</td>\n",
       "      <td>0</td>\n",
       "      <td>0</td>\n",
       "      <td>0</td>\n",
       "      <td>0</td>\n",
       "      <td>0</td>\n",
       "      <td>0</td>\n",
       "      <td>1</td>\n",
       "    </tr>\n",
       "    <tr>\n",
       "      <th>48840</th>\n",
       "      <td>1</td>\n",
       "      <td>0</td>\n",
       "      <td>0</td>\n",
       "      <td>0</td>\n",
       "      <td>0</td>\n",
       "      <td>1</td>\n",
       "      <td>0</td>\n",
       "      <td>0</td>\n",
       "      <td>0</td>\n",
       "      <td>0</td>\n",
       "      <td>0</td>\n",
       "      <td>0</td>\n",
       "      <td>0</td>\n",
       "      <td>0</td>\n",
       "      <td>0</td>\n",
       "      <td>0</td>\n",
       "      <td>0</td>\n",
       "      <td>1</td>\n",
       "    </tr>\n",
       "    <tr>\n",
       "      <th>48841</th>\n",
       "      <td>0</td>\n",
       "      <td>1</td>\n",
       "      <td>0</td>\n",
       "      <td>1</td>\n",
       "      <td>0</td>\n",
       "      <td>0</td>\n",
       "      <td>0</td>\n",
       "      <td>1</td>\n",
       "      <td>0</td>\n",
       "      <td>0</td>\n",
       "      <td>0</td>\n",
       "      <td>0</td>\n",
       "      <td>0</td>\n",
       "      <td>0</td>\n",
       "      <td>0</td>\n",
       "      <td>0</td>\n",
       "      <td>0</td>\n",
       "      <td>1</td>\n",
       "    </tr>\n",
       "  </tbody>\n",
       "</table>\n",
       "<p>45222 rows × 18 columns</p>\n",
       "</div>"
      ],
      "text/plain": [
       "       workclass_Private  workclass_Self-emp  workclass_Without-pay  \\\n",
       "0                      1                   0                      0   \n",
       "1                      1                   0                      0   \n",
       "2                      0                   0                      0   \n",
       "3                      1                   0                      0   \n",
       "5                      1                   0                      0   \n",
       "...                  ...                 ...                    ...   \n",
       "48837                  1                   0                      0   \n",
       "48838                  1                   0                      0   \n",
       "48839                  1                   0                      0   \n",
       "48840                  1                   0                      0   \n",
       "48841                  0                   1                      0   \n",
       "\n",
       "       marital-status_Married  marital-status_Separated  \\\n",
       "0                           0                         0   \n",
       "1                           1                         0   \n",
       "2                           1                         0   \n",
       "3                           1                         0   \n",
       "5                           0                         0   \n",
       "...                       ...                       ...   \n",
       "48837                       1                         0   \n",
       "48838                       1                         0   \n",
       "48839                       0                         1   \n",
       "48840                       0                         0   \n",
       "48841                       1                         0   \n",
       "\n",
       "       marital-status_Unmarried  occupation_Craft-repair  \\\n",
       "0                             1                        0   \n",
       "1                             0                        0   \n",
       "2                             0                        0   \n",
       "3                             0                        0   \n",
       "5                             1                        0   \n",
       "...                         ...                      ...   \n",
       "48837                         0                        0   \n",
       "48838                         0                        0   \n",
       "48839                         0                        0   \n",
       "48840                         1                        0   \n",
       "48841                         0                        0   \n",
       "\n",
       "       occupation_Exec-managerial  occupation_Farming-fishing  \\\n",
       "0                               0                           0   \n",
       "1                               0                           1   \n",
       "2                               0                           0   \n",
       "3                               0                           0   \n",
       "5                               0                           0   \n",
       "...                           ...                         ...   \n",
       "48837                           0                           0   \n",
       "48838                           0                           0   \n",
       "48839                           0                           0   \n",
       "48840                           0                           0   \n",
       "48841                           1                           0   \n",
       "\n",
       "       occupation_Handlers-cleaners  occupation_Machine-op-inspct  \\\n",
       "0                                 0                             1   \n",
       "1                                 0                             0   \n",
       "2                                 0                             0   \n",
       "3                                 0                             1   \n",
       "5                                 0                             0   \n",
       "...                             ...                           ...   \n",
       "48837                             0                             0   \n",
       "48838                             0                             1   \n",
       "48839                             0                             0   \n",
       "48840                             0                             0   \n",
       "48841                             0                             0   \n",
       "\n",
       "       occupation_Other-service  occupation_Prof-specialty  occupation_Sales  \\\n",
       "0                             0                          0                 0   \n",
       "1                             0                          0                 0   \n",
       "2                             1                          0                 0   \n",
       "3                             0                          0                 0   \n",
       "5                             1                          0                 0   \n",
       "...                         ...                        ...               ...   \n",
       "48837                         0                          0                 0   \n",
       "48838                         0                          0                 0   \n",
       "48839                         0                          0                 0   \n",
       "48840                         0                          0                 0   \n",
       "48841                         0                          0                 0   \n",
       "\n",
       "       occupation_Tech-support  occupation_Transport-moving  race_Other  \\\n",
       "0                            0                            0           0   \n",
       "1                            0                            0           0   \n",
       "2                            0                            0           0   \n",
       "3                            0                            0           0   \n",
       "5                            0                            0           0   \n",
       "...                        ...                          ...         ...   \n",
       "48837                        1                            0           0   \n",
       "48838                        0                            0           0   \n",
       "48839                        0                            0           0   \n",
       "48840                        0                            0           0   \n",
       "48841                        0                            0           0   \n",
       "\n",
       "       race_White  \n",
       "0               0  \n",
       "1               1  \n",
       "2               1  \n",
       "3               0  \n",
       "5               1  \n",
       "...           ...  \n",
       "48837           1  \n",
       "48838           1  \n",
       "48839           1  \n",
       "48840           1  \n",
       "48841           1  \n",
       "\n",
       "[45222 rows x 18 columns]"
      ]
     },
     "execution_count": 59,
     "metadata": {},
     "output_type": "execute_result"
    }
   ],
   "source": [
    "dummy"
   ]
  },
  {
   "cell_type": "code",
   "execution_count": 60,
   "id": "9bed2e32",
   "metadata": {
    "execution": {
     "iopub.execute_input": "2021-11-20T16:04:11.205291Z",
     "iopub.status.busy": "2021-11-20T16:04:11.203977Z",
     "iopub.status.idle": "2021-11-20T16:04:11.206296Z",
     "shell.execute_reply": "2021-11-20T16:04:11.207033Z",
     "shell.execute_reply.started": "2021-11-20T16:00:08.540814Z"
    },
    "papermill": {
     "duration": 0.175343,
     "end_time": "2021-11-20T16:04:11.207256",
     "exception": false,
     "start_time": "2021-11-20T16:04:11.031913",
     "status": "completed"
    },
    "tags": []
   },
   "outputs": [],
   "source": [
    "df.drop(['workclass', 'marital-status', 'occupation', 'race', 'relationship'], axis = 'columns', inplace = True)"
   ]
  },
  {
   "cell_type": "code",
   "execution_count": 61,
   "id": "d4ac9517",
   "metadata": {
    "execution": {
     "iopub.execute_input": "2021-11-20T16:04:11.435635Z",
     "iopub.status.busy": "2021-11-20T16:04:11.434575Z",
     "iopub.status.idle": "2021-11-20T16:04:11.442409Z",
     "shell.execute_reply": "2021-11-20T16:04:11.441820Z",
     "shell.execute_reply.started": "2021-11-20T16:00:08.550911Z"
    },
    "papermill": {
     "duration": 0.121024,
     "end_time": "2021-11-20T16:04:11.442557",
     "exception": false,
     "start_time": "2021-11-20T16:04:11.321533",
     "status": "completed"
    },
    "tags": []
   },
   "outputs": [],
   "source": [
    "df2 = pd.concat([df, dummy], axis = 'columns')"
   ]
  },
  {
   "cell_type": "code",
   "execution_count": 62,
   "id": "c7ab5767",
   "metadata": {
    "execution": {
     "iopub.execute_input": "2021-11-20T16:04:11.672298Z",
     "iopub.status.busy": "2021-11-20T16:04:11.671565Z",
     "iopub.status.idle": "2021-11-20T16:04:11.674457Z",
     "shell.execute_reply": "2021-11-20T16:04:11.674949Z",
     "shell.execute_reply.started": "2021-11-20T16:00:08.558603Z"
    },
    "papermill": {
     "duration": 0.116603,
     "end_time": "2021-11-20T16:04:11.675083",
     "exception": false,
     "start_time": "2021-11-20T16:04:11.558480",
     "status": "completed"
    },
    "tags": []
   },
   "outputs": [
    {
     "data": {
      "text/plain": [
       "(45222, 26)"
      ]
     },
     "execution_count": 62,
     "metadata": {},
     "output_type": "execute_result"
    }
   ],
   "source": [
    "df2.shape"
   ]
  },
  {
   "cell_type": "markdown",
   "id": "66e36134",
   "metadata": {
    "papermill": {
     "duration": 0.10705,
     "end_time": "2021-11-20T16:04:11.889046",
     "exception": false,
     "start_time": "2021-11-20T16:04:11.781996",
     "status": "completed"
    },
    "tags": []
   },
   "source": [
    "# Train Test Split"
   ]
  },
  {
   "cell_type": "code",
   "execution_count": 63,
   "id": "3f1ee661",
   "metadata": {
    "execution": {
     "iopub.execute_input": "2021-11-20T16:04:12.111503Z",
     "iopub.status.busy": "2021-11-20T16:04:12.110590Z",
     "iopub.status.idle": "2021-11-20T16:04:12.112414Z",
     "shell.execute_reply": "2021-11-20T16:04:12.112955Z",
     "shell.execute_reply.started": "2021-11-20T16:00:08.566975Z"
    },
    "papermill": {
     "duration": 0.115011,
     "end_time": "2021-11-20T16:04:12.113113",
     "exception": false,
     "start_time": "2021-11-20T16:04:11.998102",
     "status": "completed"
    },
    "tags": []
   },
   "outputs": [],
   "source": [
    "from sklearn.model_selection import train_test_split"
   ]
  },
  {
   "cell_type": "code",
   "execution_count": 64,
   "id": "c9f3627c",
   "metadata": {
    "execution": {
     "iopub.execute_input": "2021-11-20T16:04:12.334943Z",
     "iopub.status.busy": "2021-11-20T16:04:12.334366Z",
     "iopub.status.idle": "2021-11-20T16:04:12.374335Z",
     "shell.execute_reply": "2021-11-20T16:04:12.373700Z",
     "shell.execute_reply.started": "2021-11-20T16:00:08.574176Z"
    },
    "papermill": {
     "duration": 0.151907,
     "end_time": "2021-11-20T16:04:12.374478",
     "exception": false,
     "start_time": "2021-11-20T16:04:12.222571",
     "status": "completed"
    },
    "tags": []
   },
   "outputs": [],
   "source": [
    "X_train, X_test, y_train, y_test = train_test_split(df2.drop('income', axis = 'columns'), df2['income'],\n",
    "                                                   test_size = 0.2, stratify = df2['income'])"
   ]
  },
  {
   "cell_type": "code",
   "execution_count": 65,
   "id": "b302a25e",
   "metadata": {
    "execution": {
     "iopub.execute_input": "2021-11-20T16:04:12.615097Z",
     "iopub.status.busy": "2021-11-20T16:04:12.614152Z",
     "iopub.status.idle": "2021-11-20T16:04:12.617562Z",
     "shell.execute_reply": "2021-11-20T16:04:12.618044Z",
     "shell.execute_reply.started": "2021-11-20T16:00:08.617976Z"
    },
    "papermill": {
     "duration": 0.13177,
     "end_time": "2021-11-20T16:04:12.618237",
     "exception": false,
     "start_time": "2021-11-20T16:04:12.486467",
     "status": "completed"
    },
    "tags": []
   },
   "outputs": [
    {
     "data": {
      "text/plain": [
       "0    75.216298\n",
       "1    24.783702\n",
       "Name: income, dtype: float64"
      ]
     },
     "execution_count": 65,
     "metadata": {},
     "output_type": "execute_result"
    }
   ],
   "source": [
    "y_train.value_counts()/y_train.shape[0] * 100"
   ]
  },
  {
   "cell_type": "code",
   "execution_count": 66,
   "id": "012f7aa1",
   "metadata": {
    "execution": {
     "iopub.execute_input": "2021-11-20T16:04:12.848762Z",
     "iopub.status.busy": "2021-11-20T16:04:12.848146Z",
     "iopub.status.idle": "2021-11-20T16:04:12.851493Z",
     "shell.execute_reply": "2021-11-20T16:04:12.851953Z",
     "shell.execute_reply.started": "2021-11-20T16:00:08.628080Z"
    },
    "papermill": {
     "duration": 0.120456,
     "end_time": "2021-11-20T16:04:12.852096",
     "exception": false,
     "start_time": "2021-11-20T16:04:12.731640",
     "status": "completed"
    },
    "tags": []
   },
   "outputs": [
    {
     "data": {
      "text/plain": [
       "0    75.212825\n",
       "1    24.787175\n",
       "Name: income, dtype: float64"
      ]
     },
     "execution_count": 66,
     "metadata": {},
     "output_type": "execute_result"
    }
   ],
   "source": [
    "y_test.value_counts()/y_test.shape[0] * 100"
   ]
  },
  {
   "cell_type": "code",
   "execution_count": 67,
   "id": "22b2871d",
   "metadata": {
    "execution": {
     "iopub.execute_input": "2021-11-20T16:04:13.071514Z",
     "iopub.status.busy": "2021-11-20T16:04:13.070720Z",
     "iopub.status.idle": "2021-11-20T16:04:13.139191Z",
     "shell.execute_reply": "2021-11-20T16:04:13.139714Z",
     "shell.execute_reply.started": "2021-11-20T16:00:08.640962Z"
    },
    "papermill": {
     "duration": 0.180524,
     "end_time": "2021-11-20T16:04:13.139882",
     "exception": false,
     "start_time": "2021-11-20T16:04:12.959358",
     "status": "completed"
    },
    "tags": []
   },
   "outputs": [],
   "source": [
    "from sklearn.model_selection import GridSearchCV\n",
    "from xgboost import XGBClassifier\n",
    "from sklearn.metrics import f1_score, roc_auc_score, accuracy_score\n",
    "import optuna"
   ]
  },
  {
   "cell_type": "code",
   "execution_count": 68,
   "id": "c88cc228",
   "metadata": {
    "execution": {
     "iopub.execute_input": "2021-11-20T16:04:13.347355Z",
     "iopub.status.busy": "2021-11-20T16:04:13.346686Z",
     "iopub.status.idle": "2021-11-20T16:04:13.349284Z",
     "shell.execute_reply": "2021-11-20T16:04:13.349803Z",
     "shell.execute_reply.started": "2021-11-20T16:00:08.710807Z"
    },
    "papermill": {
     "duration": 0.105736,
     "end_time": "2021-11-20T16:04:13.349954",
     "exception": false,
     "start_time": "2021-11-20T16:04:13.244218",
     "status": "completed"
    },
    "tags": []
   },
   "outputs": [
    {
     "data": {
      "text/plain": [
       "(36177, 25)"
      ]
     },
     "execution_count": 68,
     "metadata": {},
     "output_type": "execute_result"
    }
   ],
   "source": [
    "X_train.shape"
   ]
  },
  {
   "cell_type": "markdown",
   "id": "affe802c",
   "metadata": {
    "papermill": {
     "duration": 0.097838,
     "end_time": "2021-11-20T16:04:13.545690",
     "exception": false,
     "start_time": "2021-11-20T16:04:13.447852",
     "status": "completed"
    },
    "tags": []
   },
   "source": [
    "# XGBoost"
   ]
  },
  {
   "cell_type": "code",
   "execution_count": 69,
   "id": "1404bf47",
   "metadata": {
    "execution": {
     "iopub.execute_input": "2021-11-20T16:04:13.751651Z",
     "iopub.status.busy": "2021-11-20T16:04:13.750758Z",
     "iopub.status.idle": "2021-11-20T16:04:13.752560Z",
     "shell.execute_reply": "2021-11-20T16:04:13.752961Z",
     "shell.execute_reply.started": "2021-11-20T16:00:08.721006Z"
    },
    "papermill": {
     "duration": 0.109046,
     "end_time": "2021-11-20T16:04:13.753085",
     "exception": false,
     "start_time": "2021-11-20T16:04:13.644039",
     "status": "completed"
    },
    "tags": []
   },
   "outputs": [],
   "source": [
    "def tuner(trial):    \n",
    "    params = {        \n",
    "        \"n_estimators\": trial.suggest_int(\"n_estimators\", 7500, 12000, step=100),\n",
    "        \"max_depth\":trial.suggest_int(\"max_depth\", 12, 20),\n",
    "        \"min_child_weight\": trial.suggest_int(\"min_child_weight\", 7, 8),\n",
    "        \"learning_rate\": trial.suggest_float(\"learning_rate\", 1e-4, 1e-1, log=True), \n",
    "        \"subsample\": trial.suggest_float(\"subsample\", 0.7, 1.0),\n",
    "        \"colsample_bytree\": trial.suggest_float(\"colsample_bytree\", 0.1, 1.0),\n",
    "        \"reg_alpha\": trial.suggest_float(\"reg_alpha\", 1e-2, 10.),\n",
    "        \"reg_lambda\": trial.suggest_float(\"reg_lambda\", 1e-2, 10.),\n",
    "        \"gamma\": trial.suggest_float(\"gamma\", 0.7, 1.0, step=0.1),\n",
    "    }    \n",
    "    \n",
    "    model = XGBClassifier(\n",
    "        **params,\n",
    "        n_jobs=-1, \n",
    "        eval_metric='auc',\n",
    "        tree_method='gpu_hist', \n",
    "        gpu_id=0,\n",
    "        objective='binary:logistic',\n",
    "        use_label_encoder=False\n",
    "    )\n",
    "    \n",
    "    model.fit(        \n",
    "        X_train, \n",
    "        y_train, \n",
    "        early_stopping_rounds=500, \n",
    "        eval_set=[(X_test,y_test)],        \n",
    "        verbose=0)\n",
    "    \n",
    "    y_hat = model.predict(X_test)\n",
    "    \n",
    "    return accuracy_score(y_test, y_hat)\n",
    "\n",
    "\n",
    "# study = optuna.create_study(direction=\"maximize\")\n",
    "# study.optimize(tuner, n_trials=100)"
   ]
  },
  {
   "cell_type": "markdown",
   "id": "120a558a",
   "metadata": {
    "papermill": {
     "duration": 0.097564,
     "end_time": "2021-11-20T16:04:13.948314",
     "exception": false,
     "start_time": "2021-11-20T16:04:13.850750",
     "status": "completed"
    },
    "tags": []
   },
   "source": [
    "Trial 64 finished with value: 0.8718629076838033 and parameters: {'n_estimators': 11100, 'max_depth': 16, 'min_child_weight': 7, 'learning_rate': 0.01684361683871477, 'subsample': 0.8214737522899178, 'colsample_bytree': 0.6067610765941923, 'reg_alpha': 0.8064266907023325, 'reg_lambda': 2.275344101779294, 'gamma': 1.0}. Best is trial 64 with value: 0.8718629076838033."
   ]
  },
  {
   "cell_type": "code",
   "execution_count": 70,
   "id": "693ecb24",
   "metadata": {
    "execution": {
     "iopub.execute_input": "2021-11-20T16:04:14.157700Z",
     "iopub.status.busy": "2021-11-20T16:04:14.156785Z",
     "iopub.status.idle": "2021-11-20T16:04:14.158611Z",
     "shell.execute_reply": "2021-11-20T16:04:14.159158Z",
     "shell.execute_reply.started": "2021-11-20T16:00:08.732011Z"
    },
    "papermill": {
     "duration": 0.105951,
     "end_time": "2021-11-20T16:04:14.159308",
     "exception": false,
     "start_time": "2021-11-20T16:04:14.053357",
     "status": "completed"
    },
    "tags": []
   },
   "outputs": [],
   "source": [
    "xgb=XGBClassifier(n_estimators= 11100,\n",
    "                  max_depth= 16,\n",
    "                  min_child_weight= 7,\n",
    "                  learning_rate=  0.01684361683871477,\n",
    "                  subsample=  0.8214737522899178,\n",
    "                  colsample_bytree= 0.6067610765941923,\n",
    "                  reg_alpha= 0.8064266907023325, \n",
    "                  reg_lambda= 2.275344101779294,\n",
    "                  gamma= 1.0,\n",
    "                  tree_method='gpu_hist',\n",
    "                  random_state = 42)"
   ]
  },
  {
   "cell_type": "code",
   "execution_count": 71,
   "id": "9d215edd",
   "metadata": {
    "execution": {
     "iopub.execute_input": "2021-11-20T16:04:14.363397Z",
     "iopub.status.busy": "2021-11-20T16:04:14.362733Z",
     "iopub.status.idle": "2021-11-20T16:04:30.407227Z",
     "shell.execute_reply": "2021-11-20T16:04:30.407673Z",
     "shell.execute_reply.started": "2021-11-20T16:00:08.741392Z"
    },
    "papermill": {
     "duration": 16.14646,
     "end_time": "2021-11-20T16:04:30.407826",
     "exception": false,
     "start_time": "2021-11-20T16:04:14.261366",
     "status": "completed"
    },
    "tags": []
   },
   "outputs": [
    {
     "name": "stderr",
     "output_type": "stream",
     "text": [
      "/opt/conda/lib/python3.7/site-packages/xgboost/sklearn.py:1146: UserWarning:\n",
      "\n",
      "The use of label encoder in XGBClassifier is deprecated and will be removed in a future release. To remove this warning, do the following: 1) Pass option use_label_encoder=False when constructing XGBClassifier object; and 2) Encode your labels (y) as integers starting with 0, i.e. 0, 1, 2, ..., [num_class - 1].\n",
      "\n"
     ]
    },
    {
     "name": "stdout",
     "output_type": "stream",
     "text": [
      "[16:04:16] WARNING: ../src/learner.cc:1095: Starting in XGBoost 1.3.0, the default evaluation metric used with the objective 'binary:logistic' was changed from 'error' to 'logloss'. Explicitly set eval_metric if you'd like to restore the old behavior.\n"
     ]
    },
    {
     "data": {
      "text/plain": [
       "XGBClassifier(base_score=0.5, booster='gbtree', colsample_bylevel=1,\n",
       "              colsample_bynode=1, colsample_bytree=0.6067610765941923,\n",
       "              gamma=1.0, gpu_id=0, importance_type='gain',\n",
       "              interaction_constraints='', learning_rate=0.01684361683871477,\n",
       "              max_delta_step=0, max_depth=16, min_child_weight=7, missing=nan,\n",
       "              monotone_constraints='()', n_estimators=11100, n_jobs=2,\n",
       "              num_parallel_tree=1, random_state=42,\n",
       "              reg_alpha=0.8064266907023325, reg_lambda=2.275344101779294,\n",
       "              scale_pos_weight=1, subsample=0.8214737522899178,\n",
       "              tree_method='gpu_hist', validate_parameters=1, verbosity=None)"
      ]
     },
     "execution_count": 71,
     "metadata": {},
     "output_type": "execute_result"
    }
   ],
   "source": [
    "xgb.fit(        \n",
    "    X_train, \n",
    "    y_train)"
   ]
  },
  {
   "cell_type": "code",
   "execution_count": 72,
   "id": "cda8e357",
   "metadata": {
    "execution": {
     "iopub.execute_input": "2021-11-20T16:04:30.628419Z",
     "iopub.status.busy": "2021-11-20T16:04:30.620532Z",
     "iopub.status.idle": "2021-11-20T16:04:31.102164Z",
     "shell.execute_reply": "2021-11-20T16:04:31.103156Z",
     "shell.execute_reply.started": "2021-11-20T16:00:24.577945Z"
    },
    "papermill": {
     "duration": 0.594091,
     "end_time": "2021-11-20T16:04:31.103342",
     "exception": false,
     "start_time": "2021-11-20T16:04:30.509251",
     "status": "completed"
    },
    "tags": []
   },
   "outputs": [],
   "source": [
    "predict=xgb.predict(X_test)"
   ]
  },
  {
   "cell_type": "code",
   "execution_count": 73,
   "id": "ae85cf6b",
   "metadata": {
    "execution": {
     "iopub.execute_input": "2021-11-20T16:04:31.315141Z",
     "iopub.status.busy": "2021-11-20T16:04:31.314197Z",
     "iopub.status.idle": "2021-11-20T16:04:31.322118Z",
     "shell.execute_reply": "2021-11-20T16:04:31.321677Z",
     "shell.execute_reply.started": "2021-11-20T16:00:25.048931Z"
    },
    "papermill": {
     "duration": 0.113998,
     "end_time": "2021-11-20T16:04:31.322262",
     "exception": false,
     "start_time": "2021-11-20T16:04:31.208264",
     "status": "completed"
    },
    "tags": []
   },
   "outputs": [
    {
     "data": {
      "text/plain": [
       "0.7082318558207502"
      ]
     },
     "execution_count": 73,
     "metadata": {},
     "output_type": "execute_result"
    }
   ],
   "source": [
    "f1_score(y_test, predict)"
   ]
  },
  {
   "cell_type": "code",
   "execution_count": 74,
   "id": "7013d683",
   "metadata": {
    "execution": {
     "iopub.execute_input": "2021-11-20T16:04:31.537078Z",
     "iopub.status.busy": "2021-11-20T16:04:31.536197Z",
     "iopub.status.idle": "2021-11-20T16:04:32.275736Z",
     "shell.execute_reply": "2021-11-20T16:04:32.276429Z",
     "shell.execute_reply.started": "2021-11-20T16:00:25.064848Z"
    },
    "papermill": {
     "duration": 0.853415,
     "end_time": "2021-11-20T16:04:32.276587",
     "exception": false,
     "start_time": "2021-11-20T16:04:31.423172",
     "status": "completed"
    },
    "tags": []
   },
   "outputs": [
    {
     "data": {
      "text/plain": [
       "<sklearn.metrics._plot.confusion_matrix.ConfusionMatrixDisplay at 0x7fcadd8ae290>"
      ]
     },
     "execution_count": 74,
     "metadata": {},
     "output_type": "execute_result"
    },
    {
     "data": {
      "image/png": "[encoded data removed]",
      "text/plain": [
       "<Figure size 432x288 with 2 Axes>"
      ]
     },
     "metadata": {
      "needs_background": "light"
     },
     "output_type": "display_data"
    }
   ],
   "source": [
    "from sklearn.metrics import plot_confusion_matrix\n",
    "plot_confusion_matrix(xgb, X_test, y_test, normalize='true')"
   ]
  },
  {
   "cell_type": "markdown",
   "id": "558b31c7",
   "metadata": {
    "papermill": {
     "duration": 0.100163,
     "end_time": "2021-11-20T16:04:32.476446",
     "exception": false,
     "start_time": "2021-11-20T16:04:32.376283",
     "status": "completed"
    },
    "tags": []
   },
   "source": [
    "# LightGBM"
   ]
  },
  {
   "cell_type": "code",
   "execution_count": 75,
   "id": "3d1c62d9",
   "metadata": {
    "execution": {
     "iopub.execute_input": "2021-11-20T16:04:32.818328Z",
     "iopub.status.busy": "2021-11-20T16:04:32.816798Z",
     "iopub.status.idle": "2021-11-20T16:04:33.107899Z",
     "shell.execute_reply": "2021-11-20T16:04:33.107372Z",
     "shell.execute_reply.started": "2021-11-20T16:00:25.777704Z"
    },
    "papermill": {
     "duration": 0.465603,
     "end_time": "2021-11-20T16:04:33.108035",
     "exception": false,
     "start_time": "2021-11-20T16:04:32.642432",
     "status": "completed"
    },
    "tags": []
   },
   "outputs": [
    {
     "data": {
      "text/html": [
       "<style type='text/css'>\n",
       ".datatable table.frame { margin-bottom: 0; }\n",
       ".datatable table.frame thead { border-bottom: none; }\n",
       ".datatable table.frame tr.coltypes td {  color: #FFFFFF;  line-height: 6px;  padding: 0 0.5em;}\n",
       ".datatable .bool    { background: #DDDD99; }\n",
       ".datatable .object  { background: #565656; }\n",
       ".datatable .int     { background: #5D9E5D; }\n",
       ".datatable .float   { background: #4040CC; }\n",
       ".datatable .str     { background: #CC4040; }\n",
       ".datatable .time    { background: #40CC40; }\n",
       ".datatable .row_index {  background: var(--jp-border-color3);  border-right: 1px solid var(--jp-border-color0);  color: var(--jp-ui-font-color3);  font-size: 9px;}\n",
       ".datatable .frame tbody td { text-align: left; }\n",
       ".datatable .frame tr.coltypes .row_index {  background: var(--jp-border-color0);}\n",
       ".datatable th:nth-child(2) { padding-left: 12px; }\n",
       ".datatable .hellipsis {  color: var(--jp-cell-editor-border-color);}\n",
       ".datatable .vellipsis {  background: var(--jp-layout-color0);  color: var(--jp-cell-editor-border-color);}\n",
       ".datatable .na {  color: var(--jp-cell-editor-border-color);  font-size: 80%;}\n",
       ".datatable .sp {  opacity: 0.25;}\n",
       ".datatable .footer { font-size: 9px; }\n",
       ".datatable .frame_dimensions {  background: var(--jp-border-color3);  border-top: 1px solid var(--jp-border-color0);  color: var(--jp-ui-font-color3);  display: inline-block;  opacity: 0.6;  padding: 1px 10px 1px 5px;}\n",
       "</style>\n"
      ],
      "text/plain": [
       "<IPython.core.display.HTML object>"
      ]
     },
     "metadata": {},
     "output_type": "display_data"
    }
   ],
   "source": [
    "import lightgbm as lgb"
   ]
  },
  {
   "cell_type": "code",
   "execution_count": 76,
   "id": "e5e89bc4",
   "metadata": {
    "execution": {
     "iopub.execute_input": "2021-11-20T16:04:33.328781Z",
     "iopub.status.busy": "2021-11-20T16:04:33.326858Z",
     "iopub.status.idle": "2021-11-20T16:04:33.329432Z",
     "shell.execute_reply": "2021-11-20T16:04:33.329879Z",
     "shell.execute_reply.started": "2021-11-20T16:00:26.013289Z"
    },
    "papermill": {
     "duration": 0.113926,
     "end_time": "2021-11-20T16:04:33.330016",
     "exception": false,
     "start_time": "2021-11-20T16:04:33.216090",
     "status": "completed"
    },
    "tags": []
   },
   "outputs": [],
   "source": [
    "def objective(trial):\n",
    "    dtrain = lgb.Dataset(X_train, label=y_train)\n",
    "\n",
    "    param = {\n",
    "        \"objective\": \"binary\",\n",
    "        \"metric\": \"binary_logloss\",\n",
    "        \"verbosity\": -1,\n",
    "        \"boosting_type\": \"gbdt\",\n",
    "        \"lambda_l1\": trial.suggest_float(\"lambda_l1\", 1e-8, 10.0, log=True),\n",
    "        \"lambda_l2\": trial.suggest_float(\"lambda_l2\", 1e-8, 10.0, log=True),\n",
    "        \"num_leaves\": trial.suggest_int(\"num_leaves\", 2, 256),\n",
    "        \"feature_fraction\": trial.suggest_float(\"feature_fraction\", 0.4, 1.0),\n",
    "        \"bagging_fraction\": trial.suggest_float(\"bagging_fraction\", 0.4, 1.0),\n",
    "        \"bagging_freq\": trial.suggest_int(\"bagging_freq\", 1, 7),\n",
    "        \"min_child_samples\": trial.suggest_int(\"min_child_samples\", 5, 100),\n",
    "    }\n",
    "\n",
    "    gbm = lgb.train(param, dtrain)\n",
    "    preds = gbm.predict(X_test)\n",
    "    pred_labels = np.rint(preds)\n",
    "    accuracy = accuracy_score(y_test, pred_labels)\n",
    "    return accuracy"
   ]
  },
  {
   "cell_type": "code",
   "execution_count": 77,
   "id": "0ad33605",
   "metadata": {
    "execution": {
     "iopub.execute_input": "2021-11-20T16:04:33.540810Z",
     "iopub.status.busy": "2021-11-20T16:04:33.539219Z",
     "iopub.status.idle": "2021-11-20T16:04:33.541416Z",
     "shell.execute_reply": "2021-11-20T16:04:33.541821Z",
     "shell.execute_reply.started": "2021-11-20T16:00:26.026820Z"
    },
    "papermill": {
     "duration": 0.109676,
     "end_time": "2021-11-20T16:04:33.541959",
     "exception": false,
     "start_time": "2021-11-20T16:04:33.432283",
     "status": "completed"
    },
    "tags": []
   },
   "outputs": [],
   "source": [
    "# study = optuna.create_study(direction=\"maximize\")\n",
    "# study.optimize(objective, n_trials=100)"
   ]
  },
  {
   "cell_type": "markdown",
   "id": "3b62edb0",
   "metadata": {
    "papermill": {
     "duration": 0.101958,
     "end_time": "2021-11-20T16:04:33.746350",
     "exception": false,
     "start_time": "2021-11-20T16:04:33.644392",
     "status": "completed"
    },
    "tags": []
   },
   "source": [
    "Trial 45 finished with value: 0.8734107241569928 and parameters: {'lambda_l1': 2.155308873417258e-06, 'lambda_l2': 8.201440131594816e-05, 'num_leaves': 61, 'feature_fraction': 0.7453195120079205, 'bagging_fraction': 0.8473225400231985, 'bagging_freq': 1, 'min_child_samples': 23}. Best is trial 45 with value: 0.8734107241569928."
   ]
  },
  {
   "cell_type": "code",
   "execution_count": 78,
   "id": "8dfb2827",
   "metadata": {
    "execution": {
     "iopub.execute_input": "2021-11-20T16:04:33.953964Z",
     "iopub.status.busy": "2021-11-20T16:04:33.953075Z",
     "iopub.status.idle": "2021-11-20T16:04:33.955586Z",
     "shell.execute_reply": "2021-11-20T16:04:33.955117Z",
     "shell.execute_reply.started": "2021-11-20T16:00:26.040229Z"
    },
    "papermill": {
     "duration": 0.107592,
     "end_time": "2021-11-20T16:04:33.955693",
     "exception": false,
     "start_time": "2021-11-20T16:04:33.848101",
     "status": "completed"
    },
    "tags": []
   },
   "outputs": [],
   "source": [
    "lgbm = lgb.LGBMClassifier(lambda_l1 = 2.155308873417258e-06, \n",
    "                          lambda_l2 = 8.201440131594816e-05,\n",
    "                         num_leaves = 61, \n",
    "                          feature_fraction = 0.7453195120079205, \n",
    "                          bagging_fraction = 0.8473225400231985, \n",
    "                          bagging_freq = 1, \n",
    "                          min_child_samples = 23)"
   ]
  },
  {
   "cell_type": "code",
   "execution_count": 79,
   "id": "3f6bcee0",
   "metadata": {
    "execution": {
     "iopub.execute_input": "2021-11-20T16:04:34.204674Z",
     "iopub.status.busy": "2021-11-20T16:04:34.203824Z",
     "iopub.status.idle": "2021-11-20T16:04:34.745160Z",
     "shell.execute_reply": "2021-11-20T16:04:34.746047Z",
     "shell.execute_reply.started": "2021-11-20T16:00:26.047162Z"
    },
    "papermill": {
     "duration": 0.689328,
     "end_time": "2021-11-20T16:04:34.746260",
     "exception": false,
     "start_time": "2021-11-20T16:04:34.056932",
     "status": "completed"
    },
    "tags": []
   },
   "outputs": [
    {
     "name": "stdout",
     "output_type": "stream",
     "text": [
      "[LightGBM] [Warning] bagging_fraction is set=0.8473225400231985, subsample=1.0 will be ignored. Current value: bagging_fraction=0.8473225400231985\n",
      "[LightGBM] [Warning] lambda_l1 is set=2.155308873417258e-06, reg_alpha=0.0 will be ignored. Current value: lambda_l1=2.155308873417258e-06\n",
      "[LightGBM] [Warning] feature_fraction is set=0.7453195120079205, colsample_bytree=1.0 will be ignored. Current value: feature_fraction=0.7453195120079205\n",
      "[LightGBM] [Warning] bagging_freq is set=1, subsample_freq=0 will be ignored. Current value: bagging_freq=1\n",
      "[LightGBM] [Warning] lambda_l2 is set=8.201440131594816e-05, reg_lambda=0.0 will be ignored. Current value: lambda_l2=8.201440131594816e-05\n"
     ]
    },
    {
     "data": {
      "text/plain": [
       "LGBMClassifier(bagging_fraction=0.8473225400231985, bagging_freq=1,\n",
       "               feature_fraction=0.7453195120079205,\n",
       "               lambda_l1=2.155308873417258e-06, lambda_l2=8.201440131594816e-05,\n",
       "               min_child_samples=23, num_leaves=61)"
      ]
     },
     "execution_count": 79,
     "metadata": {},
     "output_type": "execute_result"
    }
   ],
   "source": [
    "lgbm.fit(X_train, y_train)"
   ]
  },
  {
   "cell_type": "code",
   "execution_count": 80,
   "id": "224ccb20",
   "metadata": {
    "execution": {
     "iopub.execute_input": "2021-11-20T16:04:34.991387Z",
     "iopub.status.busy": "2021-11-20T16:04:34.990435Z",
     "iopub.status.idle": "2021-11-20T16:04:35.071443Z",
     "shell.execute_reply": "2021-11-20T16:04:35.072004Z",
     "shell.execute_reply.started": "2021-11-20T16:00:26.571967Z"
    },
    "papermill": {
     "duration": 0.205259,
     "end_time": "2021-11-20T16:04:35.072212",
     "exception": false,
     "start_time": "2021-11-20T16:04:34.866953",
     "status": "completed"
    },
    "tags": []
   },
   "outputs": [
    {
     "data": {
      "text/plain": [
       "0.7038752132585911"
      ]
     },
     "execution_count": 80,
     "metadata": {},
     "output_type": "execute_result"
    }
   ],
   "source": [
    "f1_score(y_test, lgbm.predict(X_test))"
   ]
  },
  {
   "cell_type": "code",
   "execution_count": 81,
   "id": "21525235",
   "metadata": {
    "execution": {
     "iopub.execute_input": "2021-11-20T16:04:35.307900Z",
     "iopub.status.busy": "2021-11-20T16:04:35.307212Z",
     "iopub.status.idle": "2021-11-20T16:04:35.626366Z",
     "shell.execute_reply": "2021-11-20T16:04:35.625901Z",
     "shell.execute_reply.started": "2021-11-20T16:00:26.634791Z"
    },
    "papermill": {
     "duration": 0.434301,
     "end_time": "2021-11-20T16:04:35.626492",
     "exception": false,
     "start_time": "2021-11-20T16:04:35.192191",
     "status": "completed"
    },
    "tags": []
   },
   "outputs": [
    {
     "data": {
      "text/plain": [
       "<sklearn.metrics._plot.confusion_matrix.ConfusionMatrixDisplay at 0x7fcadc0be510>"
      ]
     },
     "execution_count": 81,
     "metadata": {},
     "output_type": "execute_result"
    },
    {
     "data": {
      "image/png": "[encoded data removed]",
      "text/plain": [
       "<Figure size 432x288 with 2 Axes>"
      ]
     },
     "metadata": {
      "needs_background": "light"
     },
     "output_type": "display_data"
    }
   ],
   "source": [
    "plot_confusion_matrix(lgbm, X_test, y_test, normalize='true')"
   ]
  },
  {
   "cell_type": "markdown",
   "id": "1f0c8745",
   "metadata": {
    "papermill": {
     "duration": 0.106115,
     "end_time": "2021-11-20T16:04:35.848761",
     "exception": false,
     "start_time": "2021-11-20T16:04:35.742646",
     "status": "completed"
    },
    "tags": []
   },
   "source": [
    "# Catboost"
   ]
  },
  {
   "cell_type": "code",
   "execution_count": 82,
   "id": "e8a3fec2",
   "metadata": {
    "execution": {
     "iopub.execute_input": "2021-11-20T16:04:36.069577Z",
     "iopub.status.busy": "2021-11-20T16:04:36.068879Z",
     "iopub.status.idle": "2021-11-20T16:04:36.203826Z",
     "shell.execute_reply": "2021-11-20T16:04:36.204263Z",
     "shell.execute_reply.started": "2021-11-20T16:00:26.937021Z"
    },
    "papermill": {
     "duration": 0.252491,
     "end_time": "2021-11-20T16:04:36.204424",
     "exception": false,
     "start_time": "2021-11-20T16:04:35.951933",
     "status": "completed"
    },
    "tags": []
   },
   "outputs": [],
   "source": [
    "import catboost as cb"
   ]
  },
  {
   "cell_type": "code",
   "execution_count": 83,
   "id": "24f9320f",
   "metadata": {
    "execution": {
     "iopub.execute_input": "2021-11-20T16:04:36.423938Z",
     "iopub.status.busy": "2021-11-20T16:04:36.423163Z",
     "iopub.status.idle": "2021-11-20T16:04:36.425652Z",
     "shell.execute_reply": "2021-11-20T16:04:36.425239Z",
     "shell.execute_reply.started": "2021-11-20T16:00:27.103390Z"
    },
    "papermill": {
     "duration": 0.113776,
     "end_time": "2021-11-20T16:04:36.425764",
     "exception": false,
     "start_time": "2021-11-20T16:04:36.311988",
     "status": "completed"
    },
    "tags": []
   },
   "outputs": [],
   "source": [
    "def objective(trial):\n",
    "\n",
    "    param = {\n",
    "        \"objective\": trial.suggest_categorical(\"objective\", [\"Logloss\", \"CrossEntropy\"]),\n",
    "        \"colsample_bylevel\": trial.suggest_float(\"colsample_bylevel\", 0.01, 0.1),\n",
    "        \"depth\": trial.suggest_int(\"depth\", 1, 12),\n",
    "        \"boosting_type\": trial.suggest_categorical(\"boosting_type\", [\"Ordered\", \"Plain\"]),\n",
    "        \"bootstrap_type\": trial.suggest_categorical(\n",
    "            \"bootstrap_type\", [\"Bayesian\", \"Bernoulli\", \"MVS\"]\n",
    "        ),\n",
    "        \"used_ram_limit\": \"3gb\",\n",
    "    }\n",
    "\n",
    "    if param[\"bootstrap_type\"] == \"Bayesian\":\n",
    "        param[\"bagging_temperature\"] = trial.suggest_float(\"bagging_temperature\", 0, 10)\n",
    "    elif param[\"bootstrap_type\"] == \"Bernoulli\":\n",
    "        param[\"subsample\"] = trial.suggest_float(\"subsample\", 0.1, 1)\n",
    "\n",
    "    gbm = cb.CatBoostClassifier(**param)\n",
    "\n",
    "    gbm.fit(X_train, y_train, eval_set=[(X_test,y_test)], verbose=0, early_stopping_rounds=100)\n",
    "\n",
    "    preds = gbm.predict(X_test)\n",
    "    pred_labels = np.rint(preds)\n",
    "    accuracy = accuracy_score(y_test, pred_labels)\n",
    "    return accuracy"
   ]
  },
  {
   "cell_type": "code",
   "execution_count": 84,
   "id": "42da4531",
   "metadata": {
    "execution": {
     "iopub.execute_input": "2021-11-20T16:04:36.688040Z",
     "iopub.status.busy": "2021-11-20T16:04:36.687045Z",
     "iopub.status.idle": "2021-11-20T16:04:36.689651Z",
     "shell.execute_reply": "2021-11-20T16:04:36.689017Z",
     "shell.execute_reply.started": "2021-11-20T16:00:27.119698Z"
    },
    "papermill": {
     "duration": 0.119562,
     "end_time": "2021-11-20T16:04:36.689776",
     "exception": false,
     "start_time": "2021-11-20T16:04:36.570214",
     "status": "completed"
    },
    "tags": []
   },
   "outputs": [],
   "source": [
    "# study = optuna.create_study(direction=\"maximize\")\n",
    "# study.optimize(objective, n_trials=100)"
   ]
  },
  {
   "cell_type": "markdown",
   "id": "b178ff34",
   "metadata": {
    "papermill": {
     "duration": 0.118668,
     "end_time": "2021-11-20T16:04:36.925822",
     "exception": false,
     "start_time": "2021-11-20T16:04:36.807154",
     "status": "completed"
    },
    "tags": []
   },
   "source": [
    "Trial 69 finished with value: 0.8708678828081813 and parameters: {'objective': 'Logloss', 'colsample_bylevel': 0.08193925275364139, 'depth': 8, 'boosting_type': 'Plain', 'bootstrap_type': 'MVS'}. Best is trial 69 with value: 0.8708678828081813."
   ]
  },
  {
   "cell_type": "code",
   "execution_count": 85,
   "id": "3858940e",
   "metadata": {
    "execution": {
     "iopub.execute_input": "2021-11-20T16:04:37.146263Z",
     "iopub.status.busy": "2021-11-20T16:04:37.145288Z",
     "iopub.status.idle": "2021-11-20T16:04:37.153823Z",
     "shell.execute_reply": "2021-11-20T16:04:37.153023Z",
     "shell.execute_reply.started": "2021-11-20T16:00:27.135580Z"
    },
    "papermill": {
     "duration": 0.121681,
     "end_time": "2021-11-20T16:04:37.153984",
     "exception": false,
     "start_time": "2021-11-20T16:04:37.032303",
     "status": "completed"
    },
    "tags": []
   },
   "outputs": [],
   "source": [
    "catb = cb.CatBoostClassifier(objective = 'Logloss', \n",
    "                             colsample_bylevel =  0.08193925275364139,\n",
    "                            depth = 8, boosting_type = 'Plain', \n",
    "                             bootstrap_type = 'MVS')"
   ]
  },
  {
   "cell_type": "code",
   "execution_count": 86,
   "id": "6edb33cc",
   "metadata": {
    "execution": {
     "iopub.execute_input": "2021-11-20T16:04:37.549366Z",
     "iopub.status.busy": "2021-11-20T16:04:37.548501Z",
     "iopub.status.idle": "2021-11-20T16:04:45.547149Z",
     "shell.execute_reply": "2021-11-20T16:04:45.547566Z",
     "shell.execute_reply.started": "2021-11-20T16:00:27.151887Z"
    },
    "papermill": {
     "duration": 8.213232,
     "end_time": "2021-11-20T16:04:45.547719",
     "exception": false,
     "start_time": "2021-11-20T16:04:37.334487",
     "status": "completed"
    },
    "tags": []
   },
   "outputs": [
    {
     "data": {
      "text/plain": [
       "<catboost.core.CatBoostClassifier at 0x7fcab8861690>"
      ]
     },
     "execution_count": 86,
     "metadata": {},
     "output_type": "execute_result"
    }
   ],
   "source": [
    "catb.fit(X_train, y_train, verbose = False)"
   ]
  },
  {
   "cell_type": "code",
   "execution_count": 87,
   "id": "834acb44",
   "metadata": {
    "execution": {
     "iopub.execute_input": "2021-11-20T16:04:45.763837Z",
     "iopub.status.busy": "2021-11-20T16:04:45.763014Z",
     "iopub.status.idle": "2021-11-20T16:04:45.782198Z",
     "shell.execute_reply": "2021-11-20T16:04:45.782599Z",
     "shell.execute_reply.started": "2021-11-20T16:00:35.048995Z"
    },
    "papermill": {
     "duration": 0.129559,
     "end_time": "2021-11-20T16:04:45.782739",
     "exception": false,
     "start_time": "2021-11-20T16:04:45.653180",
     "status": "completed"
    },
    "tags": []
   },
   "outputs": [
    {
     "data": {
      "text/plain": [
       "0.6951370032090842"
      ]
     },
     "execution_count": 87,
     "metadata": {},
     "output_type": "execute_result"
    }
   ],
   "source": [
    "f1_score(y_test, catb.predict(X_test))"
   ]
  },
  {
   "cell_type": "code",
   "execution_count": 88,
   "id": "fbfc15f3",
   "metadata": {
    "execution": {
     "iopub.execute_input": "2021-11-20T16:04:46.000734Z",
     "iopub.status.busy": "2021-11-20T16:04:45.999973Z",
     "iopub.status.idle": "2021-11-20T16:04:46.011586Z",
     "shell.execute_reply": "2021-11-20T16:04:46.010846Z",
     "shell.execute_reply.started": "2021-11-20T16:00:35.079801Z"
    },
    "papermill": {
     "duration": 0.125887,
     "end_time": "2021-11-20T16:04:46.011702",
     "exception": false,
     "start_time": "2021-11-20T16:04:45.885815",
     "status": "completed"
    },
    "tags": []
   },
   "outputs": [
    {
     "data": {
      "text/plain": [
       "0.8634604754007739"
      ]
     },
     "execution_count": 88,
     "metadata": {},
     "output_type": "execute_result"
    }
   ],
   "source": [
    "accuracy_score(y_test, catb.predict(X_test))"
   ]
  },
  {
   "cell_type": "code",
   "execution_count": 89,
   "id": "c0a0c049",
   "metadata": {
    "execution": {
     "iopub.execute_input": "2021-11-20T16:04:46.228185Z",
     "iopub.status.busy": "2021-11-20T16:04:46.227380Z",
     "iopub.status.idle": "2021-11-20T16:04:46.247174Z",
     "shell.execute_reply": "2021-11-20T16:04:46.246705Z",
     "shell.execute_reply.started": "2021-11-20T16:00:35.106685Z"
    },
    "papermill": {
     "duration": 0.130594,
     "end_time": "2021-11-20T16:04:46.247345",
     "exception": false,
     "start_time": "2021-11-20T16:04:46.116751",
     "status": "completed"
    },
    "tags": []
   },
   "outputs": [
    {
     "data": {
      "text/html": [
       "<div>\n",
       "<style scoped>\n",
       "    .dataframe tbody tr th:only-of-type {\n",
       "        vertical-align: middle;\n",
       "    }\n",
       "\n",
       "    .dataframe tbody tr th {\n",
       "        vertical-align: top;\n",
       "    }\n",
       "\n",
       "    .dataframe thead th {\n",
       "        text-align: right;\n",
       "    }\n",
       "</style>\n",
       "<table border=\"1\" class=\"dataframe\">\n",
       "  <thead>\n",
       "    <tr style=\"text-align: right;\">\n",
       "      <th></th>\n",
       "      <th>0</th>\n",
       "    </tr>\n",
       "  </thead>\n",
       "  <tbody>\n",
       "    <tr>\n",
       "      <th>0</th>\n",
       "      <td>0</td>\n",
       "    </tr>\n",
       "    <tr>\n",
       "      <th>1</th>\n",
       "      <td>0</td>\n",
       "    </tr>\n",
       "    <tr>\n",
       "      <th>2</th>\n",
       "      <td>0</td>\n",
       "    </tr>\n",
       "    <tr>\n",
       "      <th>3</th>\n",
       "      <td>0</td>\n",
       "    </tr>\n",
       "    <tr>\n",
       "      <th>4</th>\n",
       "      <td>0</td>\n",
       "    </tr>\n",
       "  </tbody>\n",
       "</table>\n",
       "</div>"
      ],
      "text/plain": [
       "   0\n",
       "0  0\n",
       "1  0\n",
       "2  0\n",
       "3  0\n",
       "4  0"
      ]
     },
     "execution_count": 89,
     "metadata": {},
     "output_type": "execute_result"
    }
   ],
   "source": [
    "y_pred=pd.DataFrame(catb.predict(X_test))\n",
    "y_pred.head()"
   ]
  },
  {
   "cell_type": "code",
   "execution_count": 90,
   "id": "8667b819",
   "metadata": {
    "execution": {
     "iopub.execute_input": "2021-11-20T16:04:46.461161Z",
     "iopub.status.busy": "2021-11-20T16:04:46.460266Z",
     "iopub.status.idle": "2021-11-20T16:04:46.750492Z",
     "shell.execute_reply": "2021-11-20T16:04:46.750868Z",
     "shell.execute_reply.started": "2021-11-20T16:00:35.134618Z"
    },
    "papermill": {
     "duration": 0.398709,
     "end_time": "2021-11-20T16:04:46.751030",
     "exception": false,
     "start_time": "2021-11-20T16:04:46.352321",
     "status": "completed"
    },
    "tags": []
   },
   "outputs": [
    {
     "data": {
      "text/plain": [
       "<sklearn.metrics._plot.confusion_matrix.ConfusionMatrixDisplay at 0x7fcab8654d10>"
      ]
     },
     "execution_count": 90,
     "metadata": {},
     "output_type": "execute_result"
    },
    {
     "data": {
      "image/png": "[encoded data removed]",
      "text/plain": [
       "<Figure size 432x288 with 2 Axes>"
      ]
     },
     "metadata": {
      "needs_background": "light"
     },
     "output_type": "display_data"
    }
   ],
   "source": [
    "from sklearn.metrics import confusion_matrix\n",
    "plot_confusion_matrix(catb, X_test, y_test, normalize='true')"
   ]
  },
  {
   "cell_type": "markdown",
   "id": "ca55a6a2",
   "metadata": {
    "papermill": {
     "duration": 0.110014,
     "end_time": "2021-11-20T16:04:46.969896",
     "exception": false,
     "start_time": "2021-11-20T16:04:46.859882",
     "status": "completed"
    },
    "tags": []
   },
   "source": [
    "# Stacking Classifier"
   ]
  },
  {
   "cell_type": "code",
   "execution_count": 91,
   "id": "4d66fd52",
   "metadata": {
    "execution": {
     "iopub.execute_input": "2021-11-20T16:04:47.192546Z",
     "iopub.status.busy": "2021-11-20T16:04:47.191939Z",
     "iopub.status.idle": "2021-11-20T16:04:47.195851Z",
     "shell.execute_reply": "2021-11-20T16:04:47.195364Z",
     "shell.execute_reply.started": "2021-11-20T16:00:35.406786Z"
    },
    "papermill": {
     "duration": 0.115121,
     "end_time": "2021-11-20T16:04:47.195965",
     "exception": false,
     "start_time": "2021-11-20T16:04:47.080844",
     "status": "completed"
    },
    "tags": []
   },
   "outputs": [],
   "source": [
    "from sklearn.ensemble import StackingClassifier\n",
    "from sklearn.linear_model import LogisticRegression"
   ]
  },
  {
   "cell_type": "code",
   "execution_count": 92,
   "id": "a709b1a9",
   "metadata": {
    "execution": {
     "iopub.execute_input": "2021-11-20T16:04:47.420325Z",
     "iopub.status.busy": "2021-11-20T16:04:47.419499Z",
     "iopub.status.idle": "2021-11-20T16:06:54.618449Z",
     "shell.execute_reply": "2021-11-20T16:06:54.618917Z",
     "shell.execute_reply.started": "2021-11-20T16:00:35.412498Z"
    },
    "papermill": {
     "duration": 127.315169,
     "end_time": "2021-11-20T16:06:54.619091",
     "exception": false,
     "start_time": "2021-11-20T16:04:47.303922",
     "status": "completed"
    },
    "tags": []
   },
   "outputs": [
    {
     "name": "stderr",
     "output_type": "stream",
     "text": [
      "/opt/conda/lib/python3.7/site-packages/xgboost/sklearn.py:1146: UserWarning:\n",
      "\n",
      "The use of label encoder in XGBClassifier is deprecated and will be removed in a future release. To remove this warning, do the following: 1) Pass option use_label_encoder=False when constructing XGBClassifier object; and 2) Encode your labels (y) as integers starting with 0, i.e. 0, 1, 2, ..., [num_class - 1].\n",
      "\n"
     ]
    },
    {
     "name": "stdout",
     "output_type": "stream",
     "text": [
      "[16:04:47] WARNING: ../src/learner.cc:1095: Starting in XGBoost 1.3.0, the default evaluation metric used with the objective 'binary:logistic' was changed from 'error' to 'logloss'. Explicitly set eval_metric if you'd like to restore the old behavior.\n",
      "[LightGBM] [Warning] bagging_fraction is set=0.8473225400231985, subsample=1.0 will be ignored. Current value: bagging_fraction=0.8473225400231985\n",
      "[LightGBM] [Warning] lambda_l1 is set=2.155308873417258e-06, reg_alpha=0.0 will be ignored. Current value: lambda_l1=2.155308873417258e-06\n",
      "[LightGBM] [Warning] feature_fraction is set=0.7453195120079205, colsample_bytree=1.0 will be ignored. Current value: feature_fraction=0.7453195120079205\n",
      "[LightGBM] [Warning] bagging_freq is set=1, subsample_freq=0 will be ignored. Current value: bagging_freq=1\n",
      "[LightGBM] [Warning] lambda_l2 is set=8.201440131594816e-05, reg_lambda=0.0 will be ignored. Current value: lambda_l2=8.201440131594816e-05\n"
     ]
    },
    {
     "name": "stderr",
     "output_type": "stream",
     "text": [
      "/opt/conda/lib/python3.7/site-packages/xgboost/sklearn.py:1146: UserWarning:\n",
      "\n",
      "The use of label encoder in XGBClassifier is deprecated and will be removed in a future release. To remove this warning, do the following: 1) Pass option use_label_encoder=False when constructing XGBClassifier object; and 2) Encode your labels (y) as integers starting with 0, i.e. 0, 1, 2, ..., [num_class - 1].\n",
      "\n"
     ]
    },
    {
     "name": "stdout",
     "output_type": "stream",
     "text": [
      "[16:05:09] WARNING: ../src/learner.cc:1095: Starting in XGBoost 1.3.0, the default evaluation metric used with the objective 'binary:logistic' was changed from 'error' to 'logloss'. Explicitly set eval_metric if you'd like to restore the old behavior.\n",
      "[16:05:23] WARNING: ../src/learner.cc:1095: Starting in XGBoost 1.3.0, the default evaluation metric used with the objective 'binary:logistic' was changed from 'error' to 'logloss'. Explicitly set eval_metric if you'd like to restore the old behavior.\n",
      "[16:05:37] WARNING: ../src/learner.cc:1095: Starting in XGBoost 1.3.0, the default evaluation metric used with the objective 'binary:logistic' was changed from 'error' to 'logloss'. Explicitly set eval_metric if you'd like to restore the old behavior.\n",
      "[16:05:52] WARNING: ../src/learner.cc:1095: Starting in XGBoost 1.3.0, the default evaluation metric used with the objective 'binary:logistic' was changed from 'error' to 'logloss'. Explicitly set eval_metric if you'd like to restore the old behavior.\n",
      "[16:06:05] WARNING: ../src/learner.cc:1095: Starting in XGBoost 1.3.0, the default evaluation metric used with the objective 'binary:logistic' was changed from 'error' to 'logloss'. Explicitly set eval_metric if you'd like to restore the old behavior.\n",
      "[LightGBM] [Warning] bagging_fraction is set=0.8473225400231985, subsample=1.0 will be ignored. Current value: bagging_fraction=0.8473225400231985\n",
      "[LightGBM] [Warning] lambda_l1 is set=2.155308873417258e-06, reg_alpha=0.0 will be ignored. Current value: lambda_l1=2.155308873417258e-06\n",
      "[LightGBM] [Warning] feature_fraction is set=0.7453195120079205, colsample_bytree=1.0 will be ignored. Current value: feature_fraction=0.7453195120079205\n",
      "[LightGBM] [Warning] bagging_freq is set=1, subsample_freq=0 will be ignored. Current value: bagging_freq=1\n",
      "[LightGBM] [Warning] lambda_l2 is set=8.201440131594816e-05, reg_lambda=0.0 will be ignored. Current value: lambda_l2=8.201440131594816e-05\n",
      "[LightGBM] [Warning] bagging_fraction is set=0.8473225400231985, subsample=1.0 will be ignored. Current value: bagging_fraction=0.8473225400231985\n",
      "[LightGBM] [Warning] lambda_l1 is set=2.155308873417258e-06, reg_alpha=0.0 will be ignored. Current value: lambda_l1=2.155308873417258e-06\n",
      "[LightGBM] [Warning] feature_fraction is set=0.7453195120079205, colsample_bytree=1.0 will be ignored. Current value: feature_fraction=0.7453195120079205\n",
      "[LightGBM] [Warning] bagging_freq is set=1, subsample_freq=0 will be ignored. Current value: bagging_freq=1\n",
      "[LightGBM] [Warning] lambda_l2 is set=8.201440131594816e-05, reg_lambda=0.0 will be ignored. Current value: lambda_l2=8.201440131594816e-05\n",
      "[LightGBM] [Warning] bagging_fraction is set=0.8473225400231985, subsample=1.0 will be ignored. Current value: bagging_fraction=0.8473225400231985\n",
      "[LightGBM] [Warning] lambda_l1 is set=2.155308873417258e-06, reg_alpha=0.0 will be ignored. Current value: lambda_l1=2.155308873417258e-06\n",
      "[LightGBM] [Warning] feature_fraction is set=0.7453195120079205, colsample_bytree=1.0 will be ignored. Current value: feature_fraction=0.7453195120079205\n",
      "[LightGBM] [Warning] bagging_freq is set=1, subsample_freq=0 will be ignored. Current value: bagging_freq=1\n",
      "[LightGBM] [Warning] lambda_l2 is set=8.201440131594816e-05, reg_lambda=0.0 will be ignored. Current value: lambda_l2=8.201440131594816e-05\n",
      "[LightGBM] [Warning] bagging_fraction is set=0.8473225400231985, subsample=1.0 will be ignored. Current value: bagging_fraction=0.8473225400231985\n",
      "[LightGBM] [Warning] lambda_l1 is set=2.155308873417258e-06, reg_alpha=0.0 will be ignored. Current value: lambda_l1=2.155308873417258e-06\n",
      "[LightGBM] [Warning] feature_fraction is set=0.7453195120079205, colsample_bytree=1.0 will be ignored. Current value: feature_fraction=0.7453195120079205\n",
      "[LightGBM] [Warning] bagging_freq is set=1, subsample_freq=0 will be ignored. Current value: bagging_freq=1\n",
      "[LightGBM] [Warning] lambda_l2 is set=8.201440131594816e-05, reg_lambda=0.0 will be ignored. Current value: lambda_l2=8.201440131594816e-05\n"
     ]
    },
    {
     "data": {
      "text/plain": [
       "StackingClassifier(cv=5,\n",
       "                   estimators=[('xgb',\n",
       "                                XGBClassifier(base_score=None, booster=None,\n",
       "                                              colsample_bylevel=None,\n",
       "                                              colsample_bynode=None,\n",
       "                                              colsample_bytree=0.6067610765941923,\n",
       "                                              gamma=1.0, gpu_id=None,\n",
       "                                              importance_type='gain',\n",
       "                                              interaction_constraints=None,\n",
       "                                              learning_rate=0.01684361683871477,\n",
       "                                              max_delta_step=None, max_depth=16,\n",
       "                                              min_child_weight=7, missing=nan,\n",
       "                                              monotone_co...\n",
       "                                              validate_parameters=None,\n",
       "                                              verbosity=None)),\n",
       "                               ('lgb',\n",
       "                                LGBMClassifier(bagging_fraction=0.8473225400231985,\n",
       "                                               bagging_freq=1,\n",
       "                                               feature_fraction=0.7453195120079205,\n",
       "                                               lambda_l1=2.155308873417258e-06,\n",
       "                                               lambda_l2=8.201440131594816e-05,\n",
       "                                               min_child_samples=23,\n",
       "                                               num_leaves=61)),\n",
       "                               ('cb',\n",
       "                                <catboost.core.CatBoostClassifier object at 0x7fcab8141990>)],\n",
       "                   final_estimator=LogisticRegression())"
      ]
     },
     "execution_count": 92,
     "metadata": {},
     "output_type": "execute_result"
    }
   ],
   "source": [
    "def get_stacking():\n",
    "    # define the base models\n",
    "    level0 = list()\n",
    "    level0.append(('xgb', XGBClassifier(n_estimators= 11100,\n",
    "                                          max_depth= 16,\n",
    "                                          min_child_weight= 7,\n",
    "                                          learning_rate=  0.01684361683871477,\n",
    "                                          subsample=  0.8214737522899178,\n",
    "                                          colsample_bytree= 0.6067610765941923,\n",
    "                                          reg_alpha= 0.8064266907023325, \n",
    "                                          reg_lambda= 2.275344101779294,\n",
    "                                          gamma= 1.0,\n",
    "                                          tree_method='gpu_hist',\n",
    "                                          random_state = 42)))\n",
    "    level0.append(('lgb', lgb.LGBMClassifier(lambda_l1 = 2.155308873417258e-06, \n",
    "                                          lambda_l2 = 8.201440131594816e-05,\n",
    "                                         num_leaves = 61, \n",
    "                                          feature_fraction = 0.7453195120079205, \n",
    "                                          bagging_fraction = 0.8473225400231985, \n",
    "                                          bagging_freq = 1, \n",
    "                                          min_child_samples = 23)))\n",
    "    level0.append(('cb', cb.CatBoostClassifier(objective = 'Logloss', \n",
    "                                             colsample_bylevel =  0.08193925275364139,\n",
    "                                            depth = 8, boosting_type = 'Plain', \n",
    "                                             bootstrap_type = 'MVS', verbose = False)))\n",
    "\n",
    "    # define meta learner model\n",
    "    level1 = LogisticRegression()\n",
    "    # define the stacking ensemble\n",
    "    model = StackingClassifier(estimators=level0, final_estimator=level1, cv=5)\n",
    "    return model\n",
    "\n",
    "stackedModel = get_stacking()\n",
    "stackedModel.fit(X_train, y_train)"
   ]
  },
  {
   "cell_type": "code",
   "execution_count": 93,
   "id": "27a4b3a2",
   "metadata": {
    "execution": {
     "iopub.execute_input": "2021-11-20T16:06:54.840679Z",
     "iopub.status.busy": "2021-11-20T16:06:54.839841Z",
     "iopub.status.idle": "2021-11-20T16:06:55.410950Z",
     "shell.execute_reply": "2021-11-20T16:06:55.412154Z",
     "shell.execute_reply.started": "2021-11-20T16:02:42.361967Z"
    },
    "papermill": {
     "duration": 0.685148,
     "end_time": "2021-11-20T16:06:55.412431",
     "exception": false,
     "start_time": "2021-11-20T16:06:54.727283",
     "status": "completed"
    },
    "tags": []
   },
   "outputs": [
    {
     "data": {
      "text/plain": [
       "0.7060546875"
      ]
     },
     "execution_count": 93,
     "metadata": {},
     "output_type": "execute_result"
    }
   ],
   "source": [
    "f1_score(y_test, stackedModel.predict(X_test))"
   ]
  },
  {
   "cell_type": "code",
   "execution_count": 94,
   "id": "2218399f",
   "metadata": {
    "execution": {
     "iopub.execute_input": "2021-11-20T16:06:55.840569Z",
     "iopub.status.busy": "2021-11-20T16:06:55.835577Z",
     "iopub.status.idle": "2021-11-20T16:06:56.868518Z",
     "shell.execute_reply": "2021-11-20T16:06:56.869059Z",
     "shell.execute_reply.started": "2021-11-20T16:02:42.990832Z"
    },
    "papermill": {
     "duration": 1.224844,
     "end_time": "2021-11-20T16:06:56.869239",
     "exception": false,
     "start_time": "2021-11-20T16:06:55.644395",
     "status": "completed"
    },
    "tags": []
   },
   "outputs": [
    {
     "data": {
      "text/plain": [
       "<sklearn.metrics._plot.confusion_matrix.ConfusionMatrixDisplay at 0x7fcaf6aeb750>"
      ]
     },
     "execution_count": 94,
     "metadata": {},
     "output_type": "execute_result"
    },
    {
     "data": {
      "image/png": "[encoded data removed]",
      "text/plain": [
       "<Figure size 432x288 with 2 Axes>"
      ]
     },
     "metadata": {
      "needs_background": "light"
     },
     "output_type": "display_data"
    }
   ],
   "source": [
    "plot_confusion_matrix(stackedModel, X_test, y_test, normalize='true')"
   ]
  }
 ],
 "metadata": {
  "kernelspec": {
   "display_name": "Python 3",
   "language": "python",
   "name": "python3"
  },
  "language_info": {
   "codemirror_mode": {
    "name": "ipython",
    "version": 3
   },
   "file_extension": ".py",
   "mimetype": "text/x-python",
   "name": "python",
   "nbconvert_exporter": "python",
   "pygments_lexer": "ipython3",
   "version": "3.7.10"
  },
  "papermill": {
   "default_parameters": {},
   "duration": 200.867884,
   "end_time": "2021-11-20T16:06:58.291602",
   "environment_variables": {},
   "exception": null,
   "input_path": "__notebook__.ipynb",
   "output_path": "__notebook__.ipynb",
   "parameters": {},
   "start_time": "2021-11-20T16:03:37.423718",
   "version": "2.3.3"
  }
 },
 "nbformat": 4,
 "nbformat_minor": 5
}
